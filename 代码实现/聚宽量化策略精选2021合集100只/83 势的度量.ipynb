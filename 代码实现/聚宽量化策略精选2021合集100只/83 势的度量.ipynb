{
 "cells": [
  {
   "cell_type": "code",
   "execution_count": 1,
   "metadata": {},
   "outputs": [],
   "source": [
    "# 风险及免责提示：该策略由聚宽用户在聚宽社区分享，仅供学习交流使用。\n",
    "# 原文一般包含策略说明，如有疑问请到原文和作者交流讨论。\n",
    "# 原文网址：https://www.joinquant.com/view/community/detail/35203\n",
    "# 标题：势的度量\n",
    "\n",
    "from jqdata import *\n",
    "\n",
    "import pandas as pd\n",
    "import numpy as np\n",
    "\n",
    "from scipy.signal import argrelextrema, argrelmax, argrelmin"
   ]
  },
  {
   "cell_type": "markdown",
   "metadata": {},
   "source": [
    "## 一、收盘价序列(pd.Series)的标准化：三种模式\n",
    "\n",
    "其中第三种模式：融合收盘价单调性和5周期均线的标准化，与研报算法完全不同，但效果一致，且本算法极其简练，还处理了研报中没有考虑的问题，比如收盘价等于均线。"
   ]
  },
  {
   "cell_type": "code",
   "execution_count": 2,
   "metadata": {},
   "outputs": [],
   "source": [
    "def normalize_monotone(close_ser: pd.Series) -> np.ndarray:\n",
    "    \"\"\"基于收盘价单调性的标准化\"\"\"\n",
    "    sign = close_ser.pct_change().apply(np.sign)\n",
    "\n",
    "    std_closes = sign.cumsum().fillna(0).values\n",
    "\n",
    "    return std_closes\n",
    "\n",
    "\n",
    "def normalize_moving_average(close_ser: pd.Series, window: int = 5) -> np.ndarray:\n",
    "    \"\"\"基于5周期均线(MA5)的标准化\"\"\"\n",
    "    size = len(close_ser)\n",
    "    if size < window:\n",
    "        raise ValueError('输入数据长度小于窗口期')\n",
    "\n",
    "    ma = close_ser.rolling(window).mean()\n",
    "    sign = (close_ser - ma).apply(np.sign)\n",
    "    std_closes = sign.cumsum().fillna(0).values\n",
    "\n",
    "    return std_closes\n",
    "\n",
    "\n",
    "def normalize_compound(close_ser: pd.Series, window: int = 5) -> np.ndarray:\n",
    "    \"\"\"融合收盘价单调性和5周期均线的标准化\"\"\"\n",
    "    size = len(close_ser)\n",
    "    if size < window:\n",
    "        raise ValueError('输入数据长度小于窗口期')\n",
    "\n",
    "    sign_monotone = close_ser.pct_change().apply(np.sign)\n",
    "\n",
    "    ma = close_ser.rolling(window).mean()\n",
    "    sign_ma = (close_ser - ma).apply(np.sign)\n",
    "\n",
    "    # 处理特殊情况：平盘时，sign_monotone值为0，导致与MA平均时，出现0.5\n",
    "    sign_monotone[sign_monotone == 0] = sign_ma[sign_monotone == 0] * -1\n",
    "    # 处理特殊情况：Close恰恰等于MA时，sign_ma值为0，导致与monotone平均时，出现0.5\n",
    "    sign_ma[sign_ma == 0] = sign_monotone[sign_ma == 0]\n",
    "\n",
    "    sign_compound = (sign_monotone + sign_ma) / 2  # 简单平均\n",
    "    std_closes = sign_compound.cumsum().fillna(0).values\n",
    "\n",
    "    return std_closes"
   ]
  },
  {
   "cell_type": "markdown",
   "metadata": {},
   "source": [
    "## 二、势的度量：三种模式\n",
    "### 2.1 基于连续波段的势"
   ]
  },
  {
   "cell_type": "code",
   "execution_count": 3,
   "metadata": {},
   "outputs": [],
   "source": [
    "def continuous_score(x: np.ndarray) -> float:\n",
    "    \"\"\"基于连续波段的势\"\"\"\n",
    "\n",
    "    # 拐点：起点0/极低点/极高点/终点len(x)-1，合并为一个数组，然后排序\n",
    "    points = np.concatenate(([0], argrelextrema(x, np.less)[0], argrelextrema(x, np.greater)[0], [len(x) - 1]))\n",
    "    points = np.sort(points)\n",
    "\n",
    "    # 势trend强度\n",
    "    trend = 0\n",
    "    for i in range(1, len(points)):\n",
    "        trend += (x[points[i]] - x[points[i - 1]]) ** 2\n",
    "\n",
    "    return trend"
   ]
  },
  {
   "cell_type": "markdown",
   "metadata": {},
   "source": [
    "### 2.2 基于绝对波动区间的势"
   ]
  },
  {
   "cell_type": "markdown",
   "metadata": {},
   "source": [
    "探索绝对波动区间的势算法时，过程比较艰难，记录如下：\n",
    "\n",
    "#### 2.2.1） 严格照本宣科写的绝对势函数\n",
    "\n",
    "一开始，严格按照研报P.9-10页的定义去写算法，研报这部分试图用数学公式描述其算法，描述的晦涩难懂，看了半天，终于写出来如下函数，函数区分为三种情形分别处理，用到了`递归调用`，很复杂。"
   ]
  },
  {
   "cell_type": "code",
   "execution_count": 4,
   "metadata": {},
   "outputs": [],
   "source": [
    "# 废弃的绝对势计算函数\n",
    "def absolute_score2(x):\n",
    "    max_ps = argrelmax(x)[0]  # 最大点s\n",
    "    min_ps = argrelmin(x)[0]  # 最小点s\n",
    "    if max_ps.size or min_ps.size:  # 有最大 和（或）最小\n",
    "        if max_ps.size and min_ps.size:  # 既有最大，又有最小，N字形\n",
    "            max_p = max_ps[0]\n",
    "            min_p = min_ps[0]\n",
    "            #\n",
    "            start = min(max_p, min_p)\n",
    "            end = max(max_p, min_p)\n",
    "            #\n",
    "            trend = (x[end] - x[start])** 2\n",
    "\n",
    "        else:  # 只有最大，或者只有最小，V字形\n",
    "            if max_ps.size:  # 只有最大\n",
    "                start = end = max_ps[0]\n",
    "            else:  # 只有最小\n",
    "                start = end = min_ps[0]\n",
    "            #\n",
    "            trend = 0\n",
    "        # 分割为左右两个部分\n",
    "        points_left = x[:start + 1]  # 左边部分\n",
    "        l_trend = absolute_score2(points_left)\n",
    "        #\n",
    "        points_right = x[end:]  # 右半部分\n",
    "        r_trend = absolute_score2(points_right)\n",
    "        return trend + l_trend + r_trend\n",
    "\n",
    "    else:  # 没有最大，也没有最小，直线型\n",
    "        trend = (x[-1] - x[0]) ** 2\n",
    "        return trend\n"
   ]
  },
  {
   "cell_type": "markdown",
   "metadata": {},
   "source": [
    "在测试函数正确性的时候，使用了研报P.11图13中的6个例子，一测，神奇地发现: `continuous_score`函数和`absolute_score2`函数计算出来的**势完全相同！明明算法迥异**啊。"
   ]
  },
  {
   "cell_type": "code",
   "execution_count": 5,
   "metadata": {},
   "outputs": [
    {
     "name": "stdout",
     "output_type": "stream",
     "text": [
      "[0 1 2 3 4 5 6 7 8 9 10] (a) continuous: 100 absolute2: 100\n",
      "[0 1 2 3 4 5 4 5 6 7 8] (b) continuous: 42 absolute2: 42\n",
      "[0 1 2 3 4 5 6 5 4 3 2] (c) continuous: 52 absolute2: 52\n",
      "[0 1 2 3 2 3 4 3 4 5 6] (d) continuous: 24 absolute2: 24\n",
      "[0 1 2 1 0 1 2 1 0 1 2] (e) continuous: 20 absolute2: 20\n",
      "[0 1 0 1 0 1 0 1 0 1 0] (f) continuous: 10 absolute2: 10\n"
     ]
    }
   ],
   "source": [
    "test_array = np.array([\n",
    "    [0, 1, 2, 3, 4, 5, 6, 7, 8, 9, 10],\n",
    "    [0, 1, 2, 3, 4, 5, 4, 5, 6, 7, 8],\n",
    "    [0, 1, 2, 3, 4, 5, 6, 5, 4, 3, 2],\n",
    "    [0, 1, 2, 3, 2, 3, 4, 3, 4, 5, 6],\n",
    "    [0, 1, 2, 1, 0, 1, 2, 1, 0, 1, 2],\n",
    "    [0, 1, 0, 1, 0, 1, 0, 1, 0, 1, 0],\n",
    "])\n",
    "\n",
    "for i in range(len(test_array)):\n",
    "    x = test_array[i]\n",
    "    nc, na = continuous_score(x), absolute_score2(x)\n",
    "    print(x, '(' + chr(97+i) + ')','continuous:', nc, 'absolute2:', na)"
   ]
  },
  {
   "cell_type": "markdown",
   "metadata": {},
   "source": [
    "与研报结果相对比，其中(b)和(d)对不上。研报中P.11页中b、d的绝对波动区间的势分别是64、36。\n",
    "\n",
    "反复思考、检查，觉得自己`absolute_score2`算法没有错。但b、d就是对不上，苦苦查找原因。\n",
    "\n",
    "好在了解`argrelextrema，argrelmax, argrelmin`这三个函数的特性，知道其结果是不包括两个端点的，一看b、d，果然，最大值和最小值是在两端！这种情况下，直接用两个端点计算势就可以了。"
   ]
  },
  {
   "cell_type": "markdown",
   "metadata": {},
   "source": [
    "#### 2.2.2） 一个极其简洁的绝对势函数\n",
    "\n",
    "基于以上发现，写出来一个极其简洁的绝对波动区间势函数（与P11图13的结果对上了）："
   ]
  },
  {
   "cell_type": "code",
   "execution_count": 6,
   "metadata": {},
   "outputs": [],
   "source": [
    "def absolute_score(x: np.ndarray) -> float:\n",
    "    \"\"\"基于绝对波动区间的势\"\"\"\n",
    "\n",
    "    # 如果最大最小值在起点和终点\n",
    "    if x.max() > x[1:-1].max() and x.min() <x[1:-1].min():\n",
    "        trend = (x[-1] - x[0]) ** 2\n",
    "    else:\n",
    "        trend = continuous_score(x)\n",
    "\n",
    "    return trend\n"
   ]
  },
  {
   "cell_type": "code",
   "execution_count": 7,
   "metadata": {},
   "outputs": [
    {
     "name": "stdout",
     "output_type": "stream",
     "text": [
      "(a) [0 1 2 3 4 5 6 7 8 9 10] continuous: 100 absolute: 100\n",
      "(b) [0 1 2 3 4 5 4 5 6 7 8] continuous: 42 absolute: 64\n",
      "(c) [0 1 2 3 4 5 6 5 4 3 2] continuous: 52 absolute: 52\n",
      "(d) [0 1 2 3 2 3 4 3 4 5 6] continuous: 24 absolute: 36\n",
      "(e) [0 1 2 1 0 1 2 1 0 1 2] continuous: 20 absolute: 20\n",
      "(f) [0 1 0 1 0 1 0 1 0 1 0] continuous: 10 absolute: 10\n"
     ]
    }
   ],
   "source": [
    "# 验证\n",
    "test_array = np.array([\n",
    "    [0, 1, 2, 3, 4, 5, 6, 7, 8, 9, 10],\n",
    "    [0, 1, 2, 3, 4, 5, 4, 5, 6, 7, 8],\n",
    "    [0, 1, 2, 3, 4, 5, 6, 5, 4, 3, 2],\n",
    "    [0, 1, 2, 3, 2, 3, 4, 3, 4, 5, 6],\n",
    "    [0, 1, 2, 1, 0, 1, 2, 1, 0, 1, 2],\n",
    "    [0, 1, 0, 1, 0, 1, 0, 1, 0, 1, 0],\n",
    "])\n",
    "#\n",
    "for i in range(len(test_array)):\n",
    "    x = test_array[i]\n",
    "    nc, na = continuous_score(x), absolute_score(x)\n",
    "    print('(' + chr(97+i) + ')',x, 'continuous:', nc, 'absolute:', na)"
   ]
  },
  {
   "cell_type": "markdown",
   "metadata": {},
   "source": [
    "### 2.3 势的终极定义：基于绝对波动区间与连续波段的势\n",
    "\n",
    "合理的势应该是连续波段定义的势与绝对波动区间的势取二者较大的值，并除以N的3/2次方予以修正。\n",
    "$$\n",
    "T=\\frac{max(连续波段势, 绝对波动区间势)}{N^{\\frac{3}{2}}}\n",
    "$$\n",
    "阅读研报后文，可以发现N并不等于$len(x)$，而是等于$len(x)-1$\n",
    "\n",
    "由于`绝对势永远是大于连续势`的，故研报取$max$没有意义，直接采用绝对势。故此，可以将势的终极定义写成如下函数："
   ]
  },
  {
   "cell_type": "code",
   "execution_count": 8,
   "metadata": {},
   "outputs": [],
   "source": [
    "def ultimate_score(x: np.ndarray) -> float:\n",
    "    \"\"\"终极的势\"\"\"\n",
    "\n",
    "    trend = absolute_score(x)\n",
    "\n",
    "    trend = trend / ((len(x) - 1) ** (3 / 2))\n",
    "\n",
    "    return trend"
   ]
  },
  {
   "cell_type": "code",
   "execution_count": 9,
   "metadata": {},
   "outputs": [
    {
     "name": "stdout",
     "output_type": "stream",
     "text": [
      "[5 4 3 2 1 0] ultimate: 2.24\n",
      "[3 4 3 2 1 0] ultimate: 1.52\n",
      "[4 3 2 2 1 0] ultimate: 1.43\n",
      "[1 2 3 2 1 0] ultimate: 1.16\n",
      "[2 3 2 2 1 0] ultimate: 0.89\n",
      "[3 2 2 1 1 0] ultimate: 0.8\n"
     ]
    }
   ],
   "source": [
    "# 验证\n",
    "# 验证时，使用了研报P.22图35的数据，本算法计算结果与研报图35完全一致。\n",
    "test_array = np.array([\n",
    "    [5, 4, 3, 2, 1, 0],\n",
    "    [3, 4, 3, 2, 1, 0],\n",
    "    [4, 3, 2, 2, 1, 0],\n",
    "    [1, 2, 3, 2, 1, 0],\n",
    "    [2, 3, 2, 2, 1, 0],\n",
    "    [3, 2, 2, 1, 1, 0]\n",
    "])\n",
    "\n",
    "for i in range(len(test_array)):\n",
    "    x = test_array[i]\n",
    "    nu = round(ultimate_score(x),2)\n",
    "    print(x, 'ultimate:', nu)"
   ]
  },
  {
   "cell_type": "markdown",
   "metadata": {},
   "source": [
    "### 2.4 势计算的代码合集\n",
    "\n",
    "上面代码较为零散，最后将之收录到一起。"
   ]
  },
  {
   "cell_type": "code",
   "execution_count": 10,
   "metadata": {},
   "outputs": [],
   "source": [
    "# ----------------------------------------------------------\n",
    "# 势的度量：三种模式\n",
    "# ----------------------------------------------------------\n",
    "def continuous_score(x: np.ndarray) -> float:\n",
    "    \"\"\"基于连续波段的势\"\"\"\n",
    "\n",
    "    # 拐点：起点0/极低点/极高点/终点len(x)-1，合并为一个数组，然后排序\n",
    "    points = np.sort(np.concatenate(([0], argrelextrema(x, np.less)[0], argrelextrema(x, np.greater)[0], [len(x) - 1])))\n",
    "\n",
    "    # 势trend\n",
    "    trend = 0\n",
    "    for i in range(1, len(points)):\n",
    "        trend += (x[points[i]] - x[points[i - 1]]) ** 2\n",
    "\n",
    "    return trend\n",
    "\n",
    "\n",
    "def absolute_score(x: np.ndarray) -> float:\n",
    "    \"\"\"基于绝对波动区间的势\"\"\"\n",
    "\n",
    "    # 如果最大最小值在起点和终点\n",
    "    if x.max() > x[1:-1].max() and x.min() < x[1:-1].min():\n",
    "        trend = (x[-1] - x[0]) ** 2\n",
    "    else:\n",
    "        trend = continuous_score(x)\n",
    "\n",
    "    return trend\n",
    "\n",
    "\n",
    "def ultimate_score(x: np.ndarray) -> float:\n",
    "    \"\"\"终极的势\"\"\"\n",
    "\n",
    "    trend = absolute_score(x)\n",
    "\n",
    "    trend = trend / ((len(x) - 1) ** (3 / 2))\n",
    "\n",
    "    return trend"
   ]
  },
  {
   "cell_type": "markdown",
   "metadata": {},
   "source": [
    "## 三、应用举例"
   ]
  },
  {
   "cell_type": "markdown",
   "metadata": {},
   "source": [
    "应用上面的势函数，比较一下2021-3-8，湖北宜化、兴发集团和云天化，看看谁的势头更猛些。"
   ]
  },
  {
   "cell_type": "code",
   "execution_count": 11,
   "metadata": {},
   "outputs": [],
   "source": [
    "stock_list = ['000422.XSHE','600141.XSHG','600096.XSHG']  # 湖北宜化、兴发集团、云天化\n",
    "\n",
    "h = get_price(stock_list, end_date='2021-3-8', \n",
    "              fields='close', count=30, panel=False\n",
    "             ).pivot(index='time',columns='code', values='close')\n",
    "h2 = h.apply(normalize_compound)\n",
    "s_score = h2.apply(ultimate_score, raw=True)"
   ]
  },
  {
   "cell_type": "code",
   "execution_count": 12,
   "metadata": {},
   "outputs": [
    {
     "data": {
      "text/plain": [
       "code\n",
       "000422.XSHE    0.749185\n",
       "600141.XSHG    0.326568\n",
       "600096.XSHG    0.057630\n",
       "dtype: float64"
      ]
     },
     "execution_count": 12,
     "metadata": {},
     "output_type": "execute_result"
    }
   ],
   "source": [
    "s_score.sort_values(ascending=False)"
   ]
  },
  {
   "cell_type": "code",
   "execution_count": null,
   "metadata": {},
   "outputs": [],
   "source": []
  }
 ],
 "metadata": {
  "kernelspec": {
   "display_name": "Python 3",
   "language": "python",
   "name": "python3"
  },
  "language_info": {
   "codemirror_mode": {
    "name": "ipython",
    "version": 3
   },
   "file_extension": ".py",
   "mimetype": "text/x-python",
   "name": "python",
   "nbconvert_exporter": "python",
   "pygments_lexer": "ipython3",
   "version": "3.6.7"
  },
  "toc": {
   "base_numbering": 1,
   "nav_menu": {},
   "number_sections": false,
   "sideBar": true,
   "skip_h1_title": false,
   "title_cell": "MarkDown菜单",
   "title_sidebar": "Contents",
   "toc_cell": false,
   "toc_position": {},
   "toc_section_display": true,
   "toc_window_display": false
  }
 },
 "nbformat": 4,
 "nbformat_minor": 2
}
