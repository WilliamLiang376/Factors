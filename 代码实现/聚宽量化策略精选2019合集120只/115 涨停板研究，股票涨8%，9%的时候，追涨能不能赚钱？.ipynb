{
 "cells": [
  {
   "cell_type": "code",
   "execution_count": 1,
   "metadata": {},
   "outputs": [],
   "source": [
    "from jqdata import *\n",
    "import jqdata\n",
    "import numpy as np\n",
    "import pandas as pd\n",
    "import datetime\n",
    "\n",
    "#先加载画图需要用的包\n",
    "import matplotlib as mpl\n",
    "import matplotlib.pyplot as plt\n",
    "mpl.style.use('ggplot')\n",
    "import seaborn as sns\n",
    "\n",
    "\n"
   ]
  },
  {
   "cell_type": "markdown",
   "metadata": {},
   "source": [
    "# 打板追涨研究"
   ]
  },
  {
   "cell_type": "markdown",
   "metadata": {},
   "source": [
    "### 获取数据的函数"
   ]
  },
  {
   "cell_type": "code",
   "execution_count": 2,
   "metadata": {},
   "outputs": [],
   "source": [
    "def get_data(stock_list, date1,date2):  #date1为当前日期 date2 为X天前\n",
    "    \n",
    "    close = get_price(stock_list, end_date=date1, \n",
    "    frequency='daily', fields='close', count=1)['close']\n",
    "    \n",
    "    close_pre = get_price(stock_list, end_date=date2 , \n",
    "    frequency='daily', fields='close', count=1)['close']\n",
    "    #price_now.columns = ['price']\n",
    "    #price_20days = get_price(stock_list, end_date=date2, frequency='daily', fields='close', count=66)['close'].T\n",
    "    #price_20days.columns = ['price']\n",
    "    high = get_price(stock_list, end_date=date1, \n",
    "    frequency='daily', fields='high', count=1)['high']\n",
    "    \n",
    "    close = close.T\n",
    "    close.columns = ['price']\n",
    "    \n",
    "    close_pre = close_pre.T\n",
    "    close_pre.columns = ['price']\n",
    "    \n",
    "    high = high.T\n",
    "    high.columns = ['price']\n",
    "    \n",
    "    close_pct = close/close_pre - 1\n",
    "    high_pct = high/close_pre-1\n",
    "    \n",
    "    close_pct.columns = ['Close_price_change']\n",
    "    high_pct.columns = ['High_price_change']\n",
    "    \n",
    "    Price = pd.concat([close_pct,high_pct],axis = 1)\n",
    "    Price = Price.dropna()\n",
    "    Price = Price[Price['High_price_change']>=0.08]\n",
    "    \n",
    "    return Price"
   ]
  },
  {
   "cell_type": "markdown",
   "metadata": {},
   "source": [
    "### 获取深次新股成分股800天的当天最高涨幅大于8%的数据\n",
    "看看获取的数据长什么样"
   ]
  },
  {
   "cell_type": "code",
   "execution_count": 6,
   "metadata": {},
   "outputs": [
    {
     "data": {
      "text/html": [
       "<div>\n\n    .dataframe thead tr:only-child th {\n        text-align: right;\n    }\n\n    .dataframe thead th {\n        text-align: left;\n    }\n\n    .dataframe tbody tr th {\n        vertical-align: top;\n    }\n\n<table border=\"1\" class=\"dataframe\">\n  <thead>\n    <tr style=\"text-align: right;\">\n      <th></th>\n      <th>Close_price_change</th>\n      <th>High_price_change</th>\n    </tr>\n  </thead>\n  <tbody>\n    <tr>\n      <th>002848.XSHE</th>\n      <td>0.027990</td>\n      <td>0.092451</td>\n    </tr>\n    <tr>\n      <th>002902.XSHE</th>\n      <td>0.076958</td>\n      <td>0.100182</td>\n    </tr>\n    <tr>\n      <th>300693.XSHE</th>\n      <td>0.054720</td>\n      <td>0.094391</td>\n    </tr>\n    <tr>\n      <th>300713.XSHE</th>\n      <td>0.029398</td>\n      <td>0.088661</td>\n    </tr>\n  </tbody>\n</table>\n</div>"
      ],
      "text/plain": [
       "             Close_price_change  High_price_change\n",
       "002848.XSHE            0.027990           0.092451\n",
       "002902.XSHE            0.076958           0.100182\n",
       "300693.XSHE            0.054720           0.094391\n",
       "300713.XSHE            0.029398           0.088661"
      ]
     },
     "execution_count": 6,
     "metadata": {},
     "output_type": "execute_result"
    }
   ],
   "source": [
    "stock_list1 = get_index_stocks('399678.XSHE')\n",
    "\n",
    "today = datetime.datetime.now()\n",
    "StartDate = today-datetime.timedelta(800)  #800天前\n",
    "EndDate = today - datetime.timedelta(1)  #一天前\n",
    "trading_dates = jqdata.get_trade_days(start_date=StartDate, end_date=EndDate) \n",
    "\n",
    "stock_data = get_data(stock_list1,trading_dates[-1]\n",
    ",trading_dates[-2])\n",
    "\n",
    "stock_data.head(10)"
   ]
  },
  {
   "cell_type": "code",
   "execution_count": 7,
   "metadata": {},
   "outputs": [
    {
     "name": "stdout",
     "output_type": "stream",
     "text": [
      "             Close_price_change  High_price_change\n",
      "002848.XSHE            0.027990           0.092451\n",
      "002902.XSHE            0.076958           0.100182\n",
      "300693.XSHE            0.054720           0.094391\n",
      "300713.XSHE            0.029398           0.088661\n",
      "002848.XSHE            0.099813           0.099813\n",
      "002890.XSHE            0.064382           0.089304\n",
      "002897.XSHE            0.100000           0.100000\n",
      "002902.XSHE            0.100200           0.100200\n",
      "300644.XSHE            0.100000           0.100000\n",
      "300719.XSHE            0.054397           0.099728\n",
      "300603.XSHE            0.044030           0.100000\n",
      "300610.XSHE            0.018930           0.083951\n",
      "300664.XSHE            0.025974           0.099838\n",
      "300697.XSHE            0.062387           0.099458\n",
      "300705.XSHE            0.033435           0.091945\n",
      "002895.XSHE            0.100000           0.100000\n",
      "002906.XSHE            0.099908           0.099908\n",
      "300634.XSHE            0.100042           0.100042\n",
      "300688.XSHE            0.075530           0.082155\n",
      "300698.XSHE            0.044820           0.096624\n",
      "涨停板占比0.585\n"
     ]
    },
    {
     "data": {
      "image/png": "[encoded data removed]",
      "text/plain": [
       "<Figure size 432x288 with 1 Axes>"
      ]
     },
     "metadata": {
      "needs_background": "light"
     },
     "output_type": "display_data"
    }
   ],
   "source": [
    "for i in range(2,len(trading_dates)-2):\n",
    "    temp_data = get_data(stock_list1,trading_dates[-i],trading_dates[-(i+1)])\n",
    "    stock_data = stock_data.append(temp_data)\n",
    "\n",
    "a = len(stock_data)\n",
    "b = len(stock_data[stock_data['Close_price_change']>=0.099])\n",
    "print(stock_data.head(20))\n",
    "print('涨停板占比%0.3f'%(b/a))\n",
    "\n",
    "\n",
    "plt.hist(np.array(stock_data['Close_price_change']),color='r')\n",
    "plt.title('Close_price_change')\n",
    "plt.show()"
   ]
  },
  {
   "cell_type": "markdown",
   "metadata": {},
   "source": [
    "# 获取数据改进版函数\n",
    "考虑了开盘直接涨停买不进去，限制开盘涨幅小于8%\\\n",
    "即开盘涨小于8%，当日最高价大于8%"
   ]
  },
  {
   "cell_type": "code",
   "execution_count": 12,
   "metadata": {},
   "outputs": [],
   "source": [
    "#改进版考虑了开盘直接涨停买不进去，限制开盘涨幅小于8%\n",
    "def get_data2(stock_list, date1,date2):  #date1为当前日期 date2 为X天前   \n",
    "    \n",
    "    close = get_price(stock_list, end_date=date1, \n",
    "    frequency='daily', fields='close', count=1)['close']\n",
    "    \n",
    "    close_pre = get_price(stock_list, end_date=date2 , \n",
    "    frequency='daily', fields='close', count=1)['close']\n",
    "    #price_now.columns = ['price']\n",
    "    #price_20days = get_price(stock_list, end_date=date2, frequency='daily', fields='close', count=66)['close'].T\n",
    "    #price_20days.columns = ['price']\n",
    "    high = get_price(stock_list, end_date=date1, \n",
    "    frequency='daily', fields='high', count=1)['high']\n",
    "    \n",
    "    open_price = get_price(stock_list, end_date=date1, \n",
    "    frequency='daily', fields='open', count=1)['open']\n",
    "    \n",
    "    open_price = open_price.T\n",
    "    open_price.columns = ['price']\n",
    "    \n",
    "    \n",
    "    close = close.T\n",
    "    close.columns = ['price']\n",
    "    \n",
    "    close_pre = close_pre.T\n",
    "    close_pre.columns = ['price']\n",
    "    \n",
    "    high = high.T\n",
    "    high.columns = ['price']\n",
    "    \n",
    "    close_pct = close/close_pre - 1\n",
    "    high_pct = high/close_pre-1\n",
    "    open_pct = open_price/close_pre - 1\n",
    "    \n",
    "    \n",
    "    close_pct.columns = ['Close_price_change']\n",
    "    high_pct.columns = ['High_price_change']\n",
    "    open_pct.columns = ['Open_price_change']\n",
    "    \n",
    "    \n",
    "    Price = pd.concat([close_pct,high_pct,open_pct],axis = 1)\n",
    "    Price = Price.dropna()\n",
    "    Price = Price[Price['High_price_change']>=0.08]\n",
    "    Price = Price[Price['Open_price_change']<0.08]\n",
    "    \n",
    "    return Price"
   ]
  },
  {
   "cell_type": "markdown",
   "metadata": {},
   "source": [
    "重新获取数据来测试，发现收盘涨停板比例小了很多，但占比还是很高的"
   ]
  },
  {
   "cell_type": "code",
   "execution_count": 15,
   "metadata": {},
   "outputs": [
    {
     "name": "stdout",
     "output_type": "stream",
     "text": [
      "             Close_price_change  High_price_change  Open_price_change\n",
      "002848.XSHE            0.027990           0.092451           0.007634\n",
      "002902.XSHE            0.076958           0.100182           0.074681\n",
      "300693.XSHE            0.054720           0.094391          -0.015048\n",
      "300713.XSHE            0.029398           0.088661          -0.005133\n",
      "002848.XSHE            0.099813           0.099813           0.016791\n",
      "002890.XSHE            0.064382           0.089304           0.002596\n",
      "002897.XSHE            0.100000           0.100000           0.008475\n",
      "002902.XSHE            0.100200           0.100200           0.052104\n",
      "300644.XSHE            0.100000           0.100000           0.009763\n",
      "300719.XSHE            0.054397           0.099728           0.010879\n",
      "300603.XSHE            0.044030           0.100000          -0.000746\n",
      "300610.XSHE            0.018930           0.083951          -0.020576\n",
      "300664.XSHE            0.025974           0.099838          -0.025974\n",
      "300697.XSHE            0.062387           0.099458          -0.018987\n",
      "300705.XSHE            0.033435           0.091945          -0.011398\n",
      "002895.XSHE            0.100000           0.100000           0.003306\n",
      "002906.XSHE            0.099908           0.099908           0.001833\n",
      "300634.XSHE            0.100042           0.100042          -0.005836\n",
      "300688.XSHE            0.075530           0.082155          -0.001546\n",
      "300698.XSHE            0.044820           0.096624           0.000000\n",
      "涨停板占比0.379\n"
     ]
    },
    {
     "data": {
      "image/png": "[encoded data removed]",
      "text/plain": [
       "<Figure size 432x288 with 1 Axes>"
      ]
     },
     "metadata": {
      "needs_background": "light"
     },
     "output_type": "display_data"
    }
   ],
   "source": [
    "stock_data = get_data2(stock_list1,trading_dates[-1]\n",
    ",trading_dates[-2])\n",
    "for i in range(2,len(trading_dates)-2):\n",
    "    temp_data = get_data2(stock_list1,trading_dates[-i],trading_dates[-(i+1)])\n",
    "    stock_data = stock_data.append(temp_data)\n",
    "\n",
    "a = len(stock_data)\n",
    "b = len(stock_data[stock_data['Close_price_change']>=0.099])\n",
    "print(stock_data.head(20))\n",
    "print('涨停板占比%0.3f'%(b/a))\n",
    "\n",
    "\n",
    "plt.hist(np.array(stock_data['Close_price_change']),color='r')\n",
    "plt.title('Close_price_change')\n",
    "plt.show()"
   ]
  },
  {
   "cell_type": "markdown",
   "metadata": {},
   "source": [
    "### "
   ]
  },
  {
   "cell_type": "code",
   "execution_count": 14,
   "metadata": {},
   "outputs": [
    {
     "data": {
      "text/html": [
       "<div>\n\n    .dataframe thead tr:only-child th {\n        text-align: right;\n    }\n\n    .dataframe thead th {\n        text-align: left;\n    }\n\n    .dataframe tbody tr th {\n        vertical-align: top;\n    }\n\n<table border=\"1\" class=\"dataframe\">\n  <thead>\n    <tr style=\"text-align: right;\">\n      <th></th>\n      <th>Close_price_change</th>\n      <th>High_price_change</th>\n      <th>Open_price_change</th>\n    </tr>\n  </thead>\n  <tbody>\n    <tr>\n      <th>002848.XSHE</th>\n      <td>0.027990</td>\n      <td>0.092451</td>\n      <td>0.007634</td>\n    </tr>\n    <tr>\n      <th>002902.XSHE</th>\n      <td>0.076958</td>\n      <td>0.100182</td>\n      <td>0.074681</td>\n    </tr>\n    <tr>\n      <th>300693.XSHE</th>\n      <td>0.054720</td>\n      <td>0.094391</td>\n      <td>-0.015048</td>\n    </tr>\n    <tr>\n      <th>300713.XSHE</th>\n      <td>0.029398</td>\n      <td>0.088661</td>\n      <td>-0.005133</td>\n    </tr>\n  </tbody>\n</table>\n</div>"
      ],
      "text/plain": [
       "             Close_price_change  High_price_change  Open_price_change\n",
       "002848.XSHE            0.027990           0.092451           0.007634\n",
       "002902.XSHE            0.076958           0.100182           0.074681\n",
       "300693.XSHE            0.054720           0.094391          -0.015048\n",
       "300713.XSHE            0.029398           0.088661          -0.005133"
      ]
     },
     "execution_count": 14,
     "metadata": {},
     "output_type": "execute_result"
    }
   ],
   "source": [
    "stock_data = get_data2(stock_list1,trading_dates[-1]\n",
    ",trading_dates[-2])\n",
    "stock_data"
   ]
  },
  {
   "cell_type": "markdown",
   "metadata": {},
   "source": [
    "### 改进版考虑了开盘直接涨停买不进去，限制开盘涨幅小于9%"
   ]
  },
  {
   "cell_type": "code",
   "execution_count": 16,
   "metadata": {},
   "outputs": [],
   "source": [
    "#改进版考虑了开盘直接涨停买不进去，限制开盘涨幅小于9%\n",
    "def get_data3(stock_list, date1,date2):  #date1为当前日期 date2 为X天前   \n",
    "    \n",
    "    close = get_price(stock_list, end_date=date1, \n",
    "    frequency='daily', fields='close', count=1)['close']\n",
    "    \n",
    "    close_pre = get_price(stock_list, end_date=date2 , \n",
    "    frequency='daily', fields='close', count=1)['close']\n",
    "    #price_now.columns = ['price']\n",
    "    #price_20days = get_price(stock_list, end_date=date2, frequency='daily', fields='close', count=66)['close'].T\n",
    "    #price_20days.columns = ['price']\n",
    "    high = get_price(stock_list, end_date=date1, \n",
    "    frequency='daily', fields='high', count=1)['high']\n",
    "    \n",
    "    open_price = get_price(stock_list, end_date=date1, \n",
    "    frequency='daily', fields='open', count=1)['open']\n",
    "    \n",
    "    open_price = open_price.T\n",
    "    open_price.columns = ['price']\n",
    "    \n",
    "    \n",
    "    close = close.T\n",
    "    close.columns = ['price']\n",
    "    \n",
    "    close_pre = close_pre.T\n",
    "    close_pre.columns = ['price']\n",
    "    \n",
    "    high = high.T\n",
    "    high.columns = ['price']\n",
    "    \n",
    "    close_pct = close/close_pre - 1\n",
    "    high_pct = high/close_pre-1\n",
    "    open_pct = open_price/close_pre - 1\n",
    "    \n",
    "    \n",
    "    close_pct.columns = ['Close_price_change']\n",
    "    high_pct.columns = ['High_price_change']\n",
    "    open_pct.columns = ['Open_price_change']\n",
    "    \n",
    "    \n",
    "    Price = pd.concat([close_pct,high_pct,open_pct],axis = 1)\n",
    "    Price = Price.dropna()\n",
    "    Price = Price[Price['High_price_change']>=0.09]\n",
    "    Price = Price[Price['Open_price_change']<0.09]\n",
    "    \n",
    "    return Price"
   ]
  },
  {
   "cell_type": "markdown",
   "metadata": {},
   "source": [
    "### 最高价大于9%，开盘小于9%\n",
    "收盘涨停的比例大于0.42，即在9%的时候追有42%的概率当天封板"
   ]
  },
  {
   "cell_type": "code",
   "execution_count": 17,
   "metadata": {},
   "outputs": [
    {
     "name": "stdout",
     "output_type": "stream",
     "text": [
      "             Close_price_change  High_price_change  Open_price_change\n",
      "600400.XSHG           -0.032558           0.100000           0.060465\n",
      "600405.XSHG            0.036446           0.093394          -0.020501\n",
      "600775.XSHG            0.061511           0.100176          -0.003515\n",
      "600776.XSHG            0.100629           0.100629          -0.004717\n",
      "601028.XSHG            0.038462           0.091093           0.014170\n",
      "601038.XSHG            0.044487           0.096712          -0.005803\n",
      "603078.XSHG            0.056991           0.100177           0.013805\n",
      "603196.XSHG            0.027505           0.098232          -0.027505\n",
      "603444.XSHG            0.092647           0.100030          -0.010778\n",
      "603595.XSHG            0.047721           0.096972          -0.008259\n",
      "603688.XSHG            0.064860           0.091965          -0.003872\n",
      "603703.XSHG            0.075112           0.099776          -0.023543\n",
      "603711.XSHG            0.089388           0.097229           0.004705\n",
      "600167.XSHG            0.041394           0.094771           0.015251\n",
      "600189.XSHG            0.043062           0.100478          -0.002392\n",
      "600303.XSHG            0.058559           0.099099           0.031532\n",
      "600776.XSHG            0.100346           0.100346           0.017301\n",
      "600860.XSHG            0.016043           0.098039           0.048128\n",
      "603098.XSHG            0.056687           0.094774           0.010629\n",
      "603466.XSHG            0.064424           0.100215           0.016464\n",
      "涨停板占比0.423\n"
     ]
    },
    {
     "data": {
      "image/png": "[encoded data removed]",
      "text/plain": [
       "<Figure size 432x288 with 1 Axes>"
      ]
     },
     "metadata": {
      "needs_background": "light"
     },
     "output_type": "display_data"
    }
   ],
   "source": [
    "stock_list1 = get_index_stocks('000002.XSHG')\n",
    "\n",
    "stock_data = get_data3(stock_list1,trading_dates[-1]\n",
    ",trading_dates[-2])\n",
    "for i in range(2,len(trading_dates)-2):\n",
    "    temp_data = get_data3(stock_list1,trading_dates[-i],trading_dates[-(i+1)])\n",
    "    stock_data = stock_data.append(temp_data)\n",
    "\n",
    "a = len(stock_data)\n",
    "b = len(stock_data[stock_data['Close_price_change']>=0.099])\n",
    "print(stock_data.head(20))\n",
    "print('涨停板占比%0.3f'%(b/a))\n",
    "\n",
    "\n",
    "plt.hist(np.array(stock_data['Close_price_change']),color='r')\n",
    "plt.title('Close_price_change')\n",
    "plt.show()"
   ]
  },
  {
   "cell_type": "code",
   "execution_count": 18,
   "metadata": {},
   "outputs": [
    {
     "name": "stdout",
     "output_type": "stream",
     "text": [
      "             Close_price_change  High_price_change  Open_price_change\n",
      "600400.XSHG           -0.032558           0.100000           0.060465\n",
      "600405.XSHG            0.036446           0.093394          -0.020501\n",
      "600775.XSHG            0.061511           0.100176          -0.003515\n",
      "600776.XSHG            0.100629           0.100629          -0.004717\n",
      "601028.XSHG            0.038462           0.091093           0.014170\n",
      "601038.XSHG            0.044487           0.096712          -0.005803\n",
      "603063.XSHG            0.048951           0.081119          -0.019580\n",
      "603078.XSHG            0.056991           0.100177           0.013805\n",
      "603196.XSHG            0.027505           0.098232          -0.027505\n",
      "603444.XSHG            0.092647           0.100030          -0.010778\n",
      "603595.XSHG            0.047721           0.096972          -0.008259\n",
      "603688.XSHG            0.064860           0.091965          -0.003872\n",
      "603703.XSHG            0.075112           0.099776          -0.023543\n",
      "603711.XSHG            0.089388           0.097229           0.004705\n",
      "603933.XSHG           -0.000433           0.086580           0.048918\n",
      "600167.XSHG            0.041394           0.094771           0.015251\n",
      "600189.XSHG            0.043062           0.100478          -0.002392\n",
      "600303.XSHG            0.058559           0.099099           0.031532\n",
      "600546.XSHG            0.060345           0.083333           0.000000\n",
      "600707.XSHG            0.042411           0.089286           0.017857\n",
      "涨停板占比0.313\n"
     ]
    },
    {
     "data": {
      "image/png": "[encoded data removed]",
      "text/plain": [
       "<Figure size 432x288 with 1 Axes>"
      ]
     },
     "metadata": {
      "needs_background": "light"
     },
     "output_type": "display_data"
    }
   ],
   "source": [
    "stock_list1 = get_index_stocks('000002.XSHG')\n",
    "\n",
    "stock_data = get_data2(stock_list1,trading_dates[-1]\n",
    ",trading_dates[-2])\n",
    "for i in range(2,len(trading_dates)-2):\n",
    "    temp_data = get_data2(stock_list1,trading_dates[-i],trading_dates[-(i+1)])\n",
    "    stock_data = stock_data.append(temp_data)\n",
    "\n",
    "a = len(stock_data)\n",
    "b = len(stock_data[stock_data['Close_price_change']>=0.099])\n",
    "print(stock_data.head(20))\n",
    "print('涨停板占比%0.3f'%(b/a))\n",
    "\n",
    "\n",
    "plt.hist(np.array(stock_data['Close_price_change']),bins = 20,color='r')\n",
    "plt.title('Close_price_change')\n",
    "plt.show()"
   ]
  },
  {
   "cell_type": "code",
   "execution_count": 20,
   "metadata": {},
   "outputs": [
    {
     "data": {
      "image/png": "[encoded data removed]",
      "text/plain": [
       "<Figure size 432x288 with 1 Axes>"
      ]
     },
     "metadata": {
      "needs_background": "light"
     },
     "output_type": "display_data"
    }
   ],
   "source": [
    "\n",
    "plt.hist(np.array(stock_data['Close_price_change']),bins = 40,color='r')\n",
    "plt.title('Close_price_change')\n",
    "plt.show()"
   ]
  },
  {
   "cell_type": "code",
   "execution_count": null,
   "metadata": {},
   "outputs": [],
   "source": []
  },
  {
   "cell_type": "markdown",
   "metadata": {},
   "source": [
    "## 完善函数，计算股价在超过9%瞬间买入，第二天收盘卖出的收益率earning"
   ]
  },
  {
   "cell_type": "code",
   "execution_count": 46,
   "metadata": {},
   "outputs": [],
   "source": [
    "#改进版考虑了开盘直接涨停买不进去，限制开盘涨幅小于9%\n",
    "def get_data4(stock_list, date1,date2,date3):  #date1为当前日期 date2 为1天前    date3为后一天\n",
    "    \n",
    "    close = get_price(stock_list, end_date=date1, \n",
    "    frequency='daily', fields='close', count=1)['close']\n",
    "    \n",
    "    close_pre = get_price(stock_list, end_date=date2 , \n",
    "    frequency='daily', fields='close', count=1)['close']\n",
    "    \n",
    "    close_after = get_price(stock_list, end_date=date3 , \n",
    "    frequency='daily', fields='high', count=1)['high']\n",
    "    \n",
    "    #price_now.columns = ['price']\n",
    "    #price_20days = get_price(stock_list, end_date=date2, frequency='daily', fields='close', count=66)['close'].T\n",
    "    #price_20days.columns = ['price']\n",
    "    high = get_price(stock_list, end_date=date1, \n",
    "    frequency='daily', fields='high', count=1)['high']\n",
    "    \n",
    "    \n",
    "    \n",
    "    open_price = get_price(stock_list, end_date=date1, \n",
    "    frequency='daily', fields='open', count=1)['open']\n",
    "    \n",
    "    open_price = open_price.T\n",
    "    open_price.columns = ['price']\n",
    "    \n",
    "    \n",
    "    close = close.T\n",
    "    close.columns = ['price']\n",
    "    \n",
    "    close_pre = close_pre.T\n",
    "    close_pre.columns = ['price']\n",
    "    \n",
    "    close_after = close_after.T\n",
    "    close_after.columns = ['price']\n",
    "    \n",
    "    high = high.T\n",
    "    high.columns = ['price']\n",
    "    \n",
    "    close_pct = close/close_pre - 1\n",
    "    high_pct = high/close_pre-1\n",
    "    open_pct = open_price/close_pre - 1\n",
    "    earning_next_day =  close_after/(1.09 * close_pre) -1   #按照头一天涨幅9%的时候买入来算earning\n",
    "    \n",
    "    close_pct.columns = ['Close_price_change']\n",
    "    high_pct.columns = ['High_price_change']\n",
    "    open_pct.columns = ['Open_price_change']\n",
    "    earning_next_day.columns = ['Earning']\n",
    "    \n",
    "    Price = pd.concat([close_pct,high_pct,open_pct,earning_next_day],axis = 1)\n",
    "    Price = Price.dropna()\n",
    "    Price = Price[Price['High_price_change']>=0.09]\n",
    "    Price = Price[Price['Open_price_change']<0.09]\n",
    "    \n",
    "    return Price"
   ]
  },
  {
   "cell_type": "markdown",
   "metadata": {},
   "source": [
    "滚动获取数据，并打印出数据来观察\n",
    "# \n",
    "计算满足条件买入后第二日收盘价卖出收益率"
   ]
  },
  {
   "cell_type": "code",
   "execution_count": 47,
   "metadata": {},
   "outputs": [
    {
     "name": "stdout",
     "output_type": "stream",
     "text": [
      "             Close_price_change  High_price_change  Open_price_change  \\\n",
      "002848.XSHE            0.099813           0.099813           0.016791   \n",
      "002897.XSHE            0.100000           0.100000           0.008475   \n",
      "002902.XSHE            0.100200           0.100200           0.052104   \n",
      "300644.XSHE            0.100000           0.100000           0.009763   \n",
      "300719.XSHE            0.054397           0.099728           0.010879   \n",
      "300603.XSHE            0.044030           0.100000          -0.000746   \n",
      "300664.XSHE            0.025974           0.099838          -0.025974   \n",
      "300697.XSHE            0.062387           0.099458          -0.018987   \n",
      "300705.XSHE            0.033435           0.091945          -0.011398   \n",
      "002895.XSHE            0.100000           0.100000           0.003306   \n",
      "002906.XSHE            0.099908           0.099908           0.001833   \n",
      "300634.XSHE            0.100042           0.100042          -0.005836   \n",
      "300698.XSHE            0.044820           0.096624           0.000000   \n",
      "300702.XSHE            0.082499           0.092036          -0.002861   \n",
      "002898.XSHE            0.099869           0.099869           0.049934   \n",
      "002902.XSHE            0.100156           0.100156           0.039958   \n",
      "002916.XSHE            0.085350           0.097452           0.038344   \n",
      "002921.XSHE            0.099850           0.099850           0.018769   \n",
      "002925.XSHE            0.071656           0.090580           0.029768   \n",
      "002928.XSHE            0.073815           0.100249           0.033416   \n",
      "\n",
      "              Earning  \n",
      "002848.XSHE  0.102287  \n",
      "002897.XSHE  0.049603  \n",
      "002902.XSHE  0.110478  \n",
      "300644.XSHE  0.038760  \n",
      "300719.XSHE -0.035990  \n",
      "300603.XSHE -0.064083  \n",
      "300664.XSHE -0.058739  \n",
      "300697.XSHE -0.031140  \n",
      "300705.XSHE -0.027495  \n",
      "002895.XSHE  0.076655  \n",
      "002906.XSHE  0.061227  \n",
      "300634.XSHE  0.081490  \n",
      "300698.XSHE -0.081501  \n",
      "300702.XSHE  0.027680  \n",
      "002898.XSHE  0.083798  \n",
      "002902.XSHE  0.046928  \n",
      "002916.XSHE -0.007772  \n",
      "002921.XSHE  0.019368  \n",
      "002925.XSHE -0.011757  \n",
      "002928.XSHE  0.018555  \n",
      "涨停板占比0.486\n",
      "赚钱占比0.651\n"
     ]
    },
    {
     "data": {
      "image/png": "[encoded data removed]",
      "text/plain": [
       "<Figure size 432x288 with 1 Axes>"
      ]
     },
     "metadata": {
      "needs_background": "light"
     },
     "output_type": "display_data"
    }
   ],
   "source": [
    "stock_list1 = get_index_stocks('399678.XSHE')\n",
    "\n",
    "stock_data = get_data4(stock_list1,trading_dates[-2],trading_dates[-3],trading_dates[-1])\n",
    "for i in range(2,len(trading_dates)-3):\n",
    "    temp_data = get_data4(stock_list1,trading_dates[-(i+1)],trading_dates[-(i+2)],trading_dates[-i])\n",
    "    stock_data = stock_data.append(temp_data)\n",
    "\n",
    "a = len(stock_data)\n",
    "b = len(stock_data[stock_data['Close_price_change']>=0.099])\n",
    "print(stock_data.head(20))\n",
    "print('涨停板占比%0.3f'%(b/a))\n",
    "\n",
    "\n",
    "zhuanqian = len(stock_data[stock_data['Earning']>0])\n",
    "print('赚钱占比%0.3f'%(zhuanqian/a))\n",
    "\n",
    "\n",
    "plt.hist(np.array(stock_data['Earning']),bins = 20,color='r')\n",
    "plt.title('Earning_next_day')\n",
    "plt.show()"
   ]
  },
  {
   "cell_type": "markdown",
   "metadata": {},
   "source": [
    "### 计算出最终盈利的占比为65.1%"
   ]
  },
  {
   "cell_type": "code",
   "execution_count": 48,
   "metadata": {},
   "outputs": [
    {
     "data": {
      "text/plain": [
       "1579"
      ]
     },
     "execution_count": 48,
     "metadata": {},
     "output_type": "execute_result"
    }
   ],
   "source": [
    "len(stock_data[stock_data['Earning']>0])"
   ]
  },
  {
   "cell_type": "markdown",
   "metadata": {},
   "source": [
    "### 计算此策略平均每次盈利"
   ]
  },
  {
   "cell_type": "code",
   "execution_count": 49,
   "metadata": {},
   "outputs": [
    {
     "data": {
      "text/plain": [
       "0.028297942874847465"
      ]
     },
     "execution_count": 49,
     "metadata": {},
     "output_type": "execute_result"
    }
   ],
   "source": [
    "stock_data['Earning'].mean()"
   ]
  },
  {
   "cell_type": "markdown",
   "metadata": {},
   "source": [
    "\n",
    "#### 证明此追涨打板策略是有一定效果的，\n",
    "$ t-statistics =（μ-0)/σ $\n",
    "#### 可以用t检验证明收益率是显著的\n"
   ]
  },
  {
   "cell_type": "code",
   "execution_count": null,
   "metadata": {},
   "outputs": [],
   "source": []
  }
 ],
 "metadata": {
  "kernelspec": {
   "display_name": "Python 3",
   "language": "python",
   "name": "python3"
  },
  "language_info": {
   "codemirror_mode": {
    "name": "ipython",
    "version": 3
   },
   "file_extension": ".py",
   "mimetype": "text/x-python",
   "name": "python",
   "nbconvert_exporter": "python",
   "pygments_lexer": "ipython3",
   "version": "3.6.7"
  }
 },
 "nbformat": 4,
 "nbformat_minor": 2
}
