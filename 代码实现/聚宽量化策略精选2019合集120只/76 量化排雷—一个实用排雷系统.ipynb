{
 "cells": [
  {
   "cell_type": "markdown",
   "metadata": {},
   "source": [
    "# 量化排雷"
   ]
  },
  {
   "cell_type": "code",
   "execution_count": 1,
   "metadata": {},
   "outputs": [],
   "source": [
    "# 风险及免责提示：该策略由聚宽用户在聚宽社区分享，仅供学习交流使用。\n",
    "# 原文一般包含策略说明，如有疑问请到原文和作者交流讨论。\n",
    "# 原文网址：https://www.joinquant.com/view/community/detail/7c938ac8472bc8a2550a4d8214fea43f?type=1\n",
    "# 标题：量化排雷—一个实用排雷系统\n",
    "\n",
    "from jqdata import *\n",
    "import numpy as np\n",
    "import pandas as pd\n",
    "import matplotlib as mpl\n",
    "import matplotlib.pyplot as plt\n",
    "import seaborn as sns\n",
    "import time\n",
    "import datetime\n",
    "import math\n",
    "import warnings\n",
    "#用来正常显示中文标签\n",
    "mpl.rcParams['font.sans-serif']=['SimHei'] \n",
    "#用来正常显示负号\n",
    "mpl.rcParams['axes.unicode_minus']=False \n",
    "warnings.filterwarnings('ignore') "
   ]
  },
  {
   "cell_type": "code",
   "execution_count": 2,
   "metadata": {
    "code_folding": [
     1,
     2
    ]
   },
   "outputs": [],
   "source": [
    "#获取属性所在的表格\n",
    "def params(param):\n",
    "    valuation=['code','day','capitalization','circulating_cap','market_cap','circulating_market_cap','turnover_ratio',\n",
    "               'pe_ratio','pe_ratio_lyr','pb_ratio','ps_ratio','pcf_ratio']\n",
    "    balance=['code','pubDate','statDate','cash_equivalents','settlement_provi','lend_capital','trading_assets','bill_receivable','account_receivable',\n",
    "             'advance_payment','insurance_receivables','reinsurance_receivables','reinsurance_contract_reserves_receivable','interest_receivable',\n",
    "             'dividend_receivable','other_receivable','bought_sellback_assets','inventories','non_current_asset_in_one_year','other_current_assets',\n",
    "             'total_current_assets','loan_and_advance','hold_for_sale_assets','hold_to_maturity_investments','longterm_receivable_account',\n",
    "             'longterm_equity_invest','investment_property','fixed_assets','constru_in_process','construction_materials','fixed_assets_liquidation',\n",
    "             'biological_assets','oil_gas_assets','intangible_assets','development_expenditure','good_will','long_deferred_expense','deferred_tax_assets',\n",
    "             'other_non_current_assets','total_non_current_assets','total_assets','shortterm_loan','borrowing_from_centralbank','deposit_in_interbank',\n",
    "             'borrowing_capital','trading_liability','notes_payable','accounts_payable','advance_peceipts','sold_buyback_secu_proceeds','commission_payable',\n",
    "             'salaries_payable','taxs_payable','interest_payable','dividend_payable','other_payable','reinsurance_payables','insurance_contract_reserves',\n",
    "             'proxy_secu_proceeds','receivings_from_vicariously_sold_securities','non_current_liability_in_one_year','other_current_liability','total_current_liability',\n",
    "             'longterm_loan','bonds_payable','longterm_account_payable','specific_account_payable','estimate_liability','deferred_tax_liability',\n",
    "             'other_non_current_liability','total_non_current_liability','total_liability','paidin_capital','capital_reserve_fund','treasury_stock',\n",
    "             'specific_reserves','surplus_reserve_fund','ordinary_risk_reserve_fund','retained_profit','foreign_currency_report_conv_diff',\n",
    "             'equities_parent_company_owners','minority_interests','total_owner_equities','total_sheet_owner_equities']\n",
    "    cash_flow=['code','pubDate','statDate','goods_sale_and_service_render_cash','net_deposit_increase','net_borrowing_from_central_bank',\n",
    "               'net_borrowing_from_finance_co','net_original_insurance_cash','net_cash_received_from_reinsurance_business',\n",
    "               'net_insurer_deposit_investment','net_deal_trading_assets','interest_and_commission_cashin','net_increase_in_placements',\n",
    "               'net_buyback','tax_levy_refund','other_cashin_related_operate','subtotal_operate_cash_inflow','goods_and_services_cash_paid',\n",
    "               'net_loan_and_advance_increase','net_deposit_in_cb_and_ib','original_compensation_paid','handling_charges_and_commission',\n",
    "               'policy_dividend_cash_paid','staff_behalf_paid','tax_payments','other_operate_cash_paid','subtotal_operate_cash_outflow',\n",
    "               'net_operate_cash_flow','invest_withdrawal_cash','invest_proceeds','fix_intan_other_asset_dispo_cash','net_cash_deal_subcompany',\n",
    "               'other_cash_from_invest_act','subtotal_invest_cash_inflow','fix_intan_other_asset_acqui_cash','invest_cash_paid',\n",
    "               'impawned_loan_net_increase','net_cash_from_sub_company','other_cash_to_invest_act','subtotal_invest_cash_outflow',\n",
    "               'net_invest_cash_flow','cash_from_invest','cash_from_mino_s_invest_sub','cash_from_borrowing','cash_from_bonds_issue',\n",
    "               'other_finance_act_cash','subtotal_finance_cash_inflow','borrowing_repayment','dividend_interest_payment','proceeds_from_sub_to_mino_s',\n",
    "               'other_finance_act_payment','subtotal_finance_cash_outflow','net_finance_cash_flow','exchange_rate_change_effect',\n",
    "               'cash_equivalent_increase','cash_equivalents_at_beginning','cash_and_equivalents_at_end']\n",
    "    income=['code','pubDate','statDate','total_operating_revenue','operating_revenue','interest_income','premiums_earned',\n",
    "            'commission_income','total_operating_cost','operating_cost','interest_expense','commission_expense','refunded_premiums',\n",
    "            'net_pay_insurance_claims','withdraw_insurance_contract_reserve','policy_dividend_payout','reinsurance_cost','operating_tax_surcharges',\n",
    "            'sale_expense','administration_expense','financial_expense','asset_impairment_loss','fair_value_variable_income','investment_income',\n",
    "            'invest_income_associates','exchange_income','operating_profit','non_operating_revenue','non_operating_expense','disposal_loss_non_current_liability',\n",
    "            'total_profit','income_tax_expense','net_profit','np_parent_company_owners','minority_profit','basic_eps','diluted_eps',\n",
    "            'other_composite_income','total_composite_income','ci_parent_company_owners','ci_minority_owners']\n",
    "    indicator=['code','pubDate','statDate','eps','adjusted_profit','operating_profit','value_change_profit','roe','inc_return',\n",
    "               'roa','net_profit_margin','gross_profit_margin','expense_to_total_revenue','operation_profit_to_total_revenue',\n",
    "               'net_profit_to_total_revenue','operating_expense_to_total_revenue','ga_expense_to_total_revenue','financing_expense_to_total_revenue',\n",
    "               'operating_profit_to_profit','invesment_profit_to_profit','adjusted_profit_to_profit','goods_sale_and_service_to_revenue',\n",
    "               'ocf_to_revenue','ocf_to_operating_profit','inc_total_revenue_year_on_year','inc_total_revenue_annual','inc_revenue_year_on_year',\n",
    "               'inc_revenue_annual','inc_operation_profit_year_on_year','inc_operation_profit_annual','inc_net_profit_year_on_year','inc_net_profit_annual',\n",
    "               'inc_net_profit_to_shareholders_year_on_year','inc_net_profit_to_shareholders_annual']\n",
    "    if param in valuation:\n",
    "        tab='valuation.'+param\n",
    "    elif param in balance:\n",
    "        tab='balance.'+param\n",
    "    elif param in cash_flow:\n",
    "        tab='cash_flow.'+param\n",
    "    elif param in income:\n",
    "        tab='income.'+param\n",
    "    elif param in indicator:\n",
    "        tab='indicator.'+param\n",
    "    return tab"
   ]
  },
  {
   "cell_type": "code",
   "execution_count": 3,
   "metadata": {
    "code_folding": [
     0
    ]
   },
   "outputs": [],
   "source": [
    "def statDate(date=None,num=1):\n",
    "    # date:格式%Y-%m-%d,把str时间处理成time格式\n",
    "# freq:'q'表现查询季报，‘y’表示查询年报\n",
    "# num:获取的日期数\n",
    "    if date:\n",
    "        tt=time.strptime(date,\"%Y-%m-%d\")\n",
    "    else:\n",
    "        tt=time.localtime()\n",
    "    a1=tt.tm_year-1\n",
    "    if tt.tm_mon<5:\n",
    "        loc_y=[str(a1-i) for i in range(1,num+1)]\n",
    "    else:\n",
    "        loc_y=[str(a1-i) for i in range(num)]\n",
    "    return loc_y"
   ]
  },
  {
   "cell_type": "code",
   "execution_count": 4,
   "metadata": {
    "code_folding": [
     0
    ]
   },
   "outputs": [
    {
     "data": {
      "text/plain": [
       "0.6167669604048673"
      ]
     },
     "execution_count": 4,
     "metadata": {},
     "output_type": "execute_result"
    }
   ],
   "source": [
    "#占比函数，param1/param2\n",
    "def Proportion(code,param1,param2,date=None):\n",
    "    tt=statDate(date=None,num=1)[0]\n",
    "    tab1=params(param1)\n",
    "    tab2=params(param2)\n",
    "    df=get_fundamentals(query(valuation.code\n",
    "                              ,valuation.day\n",
    "                              ,valuation.capitalization\n",
    "                              ,eval(tab1)#‘eval’把字符串转为可执行代码\n",
    "                              ,eval(tab2)\n",
    "                             ).filter(\n",
    "        valuation.code==code\n",
    "        ),statDate=tt)\n",
    "    rece_r=df.loc[0,param1]/df.loc[0,param2]\n",
    "    return rece_r\n",
    "code='000005.XSHE'\n",
    "Proportion(code,'account_receivable','operating_revenue',date=None)"
   ]
  },
  {
   "cell_type": "code",
   "execution_count": 5,
   "metadata": {
    "code_folding": [
     0
    ]
   },
   "outputs": [
    {
     "data": {
      "text/plain": [
       "0.4489723434001962"
      ]
     },
     "execution_count": 5,
     "metadata": {},
     "output_type": "execute_result"
    }
   ],
   "source": [
    "#占比变动率\n",
    "def Rate_of_change(code,param1,param2,date=None):\n",
    "    tt=statDate(date=None,num=2)\n",
    "    tab1=params(param1)\n",
    "    tab2=params(param2)\n",
    "    df1=get_fundamentals(query(valuation.code\n",
    "                              ,valuation.day\n",
    "                              ,valuation.capitalization\n",
    "                              ,eval(tab1)#‘eval’把字符串转为可执行代码\n",
    "                              ,eval(tab2)\n",
    "                             ).filter(\n",
    "        valuation.code==code\n",
    "        ),statDate=tt[0])\n",
    "    df2=get_fundamentals(query(valuation.code\n",
    "                              ,valuation.day\n",
    "                              ,valuation.capitalization\n",
    "                              ,eval(tab1)#‘eval’把字符串转为可执行代码\n",
    "                              ,eval(tab2)\n",
    "                             ).filter(\n",
    "        valuation.code==code\n",
    "        ),statDate=tt[1])\n",
    "    df=df1.append(df2,ignore_index=True)\n",
    "    df['ratio']=df[param1]/df[param2]\n",
    "    cha=df.loc[0,'ratio']/df.loc[1,'ratio']-1\n",
    "    return cha\n",
    "Rate_of_change(code,'account_receivable','total_sheet_owner_equities',date=None) "
   ]
  },
  {
   "cell_type": "markdown",
   "metadata": {},
   "source": [
    "（1）应收账款占比：\n",
    "\n",
    "该比例占比越高，显示公司赊销比例较高，公司的赊销的比例在某种程度上显示公司在产业链中的话语权，以及在行业中的地位。该比例越高，未来存在不能完全收回的风险。"
   ]
  },
  {
   "cell_type": "code",
   "execution_count": 6,
   "metadata": {},
   "outputs": [
    {
     "data": {
      "text/plain": [
       "0.6167669604048673"
      ]
     },
     "execution_count": 6,
     "metadata": {},
     "output_type": "execute_result"
    }
   ],
   "source": [
    "# （+）应收账款占比 = 应收账款/营业收入\n",
    "Proportion(code,'account_receivable','operating_revenue',date=None)"
   ]
  },
  {
   "cell_type": "markdown",
   "metadata": {},
   "source": [
    "(2)应收账款变动率\n",
    "\n",
    "总体来说应收账款在公司总资产中的占比，一般保持较为稳定，该比例异常上升，是公司经营开始恶化的先兆。"
   ]
  },
  {
   "cell_type": "code",
   "execution_count": 7,
   "metadata": {},
   "outputs": [
    {
     "data": {
      "text/plain": [
       "0.4489723434001962"
      ]
     },
     "execution_count": 7,
     "metadata": {},
     "output_type": "execute_result"
    }
   ],
   "source": [
    "# （+）应收账款变动率 = Δ 应收账款/总资产\n",
    "Rate_of_change(code,'account_receivable','total_sheet_owner_equities',date=None) "
   ]
  },
  {
   "cell_type": "markdown",
   "metadata": {},
   "source": [
    "(3)其他应收账款占比"
   ]
  },
  {
   "cell_type": "code",
   "execution_count": 8,
   "metadata": {},
   "outputs": [
    {
     "data": {
      "text/plain": [
       "0.25284669201167054"
      ]
     },
     "execution_count": 8,
     "metadata": {},
     "output_type": "execute_result"
    }
   ],
   "source": [
    "# （+）其他应收账款占比 = 其他应收账款/总资产\n",
    "Proportion(code,'other_receivable','total_assets',date=None)"
   ]
  },
  {
   "cell_type": "markdown",
   "metadata": {},
   "source": [
    "(4)其他应收账款变动率"
   ]
  },
  {
   "cell_type": "code",
   "execution_count": 9,
   "metadata": {},
   "outputs": [
    {
     "data": {
      "text/plain": [
       "0.6437148766125613"
      ]
     },
     "execution_count": 9,
     "metadata": {},
     "output_type": "execute_result"
    }
   ],
   "source": [
    "# （+）其他应收账款变动率 = Δ 其他应收账款/总资产\n",
    "Rate_of_change(code,'other_receivable','total_assets',date=None) "
   ]
  },
  {
   "cell_type": "markdown",
   "metadata": {},
   "source": [
    "（5）存货占比\n",
    "\n",
    "存货的占比应该结合存货的会计政策进行考虑。存货占比上升也是经营恶化、产品销售不畅的标志，当企业处于扩张的时候，存货占比也会小幅上升，或者企业为了应对不确定的不利因素，如贸易战备货，原材料处于上涨周期的备货等。"
   ]
  },
  {
   "cell_type": "code",
   "execution_count": 10,
   "metadata": {},
   "outputs": [
    {
     "data": {
      "text/plain": [
       "0.15344943340643677"
      ]
     },
     "execution_count": 10,
     "metadata": {},
     "output_type": "execute_result"
    }
   ],
   "source": [
    "# (+)存货占比 = 存货/总资产\n",
    "\n",
    "Proportion(code,'inventories','total_assets',date=None)"
   ]
  },
  {
   "cell_type": "markdown",
   "metadata": {},
   "source": [
    "(6)存货变动率"
   ]
  },
  {
   "cell_type": "code",
   "execution_count": 11,
   "metadata": {},
   "outputs": [
    {
     "data": {
      "text/plain": [
       "0.07384175599729992"
      ]
     },
     "execution_count": 11,
     "metadata": {},
     "output_type": "execute_result"
    }
   ],
   "source": [
    "# (+)存货变动率 = Δ 存货/总资产\n",
    "Rate_of_change(code,'inventories','total_assets',date=None)"
   ]
  },
  {
   "cell_type": "markdown",
   "metadata": {},
   "source": [
    "（7）软资产比例\n",
    "\n",
    "此比例反应出企业资产空心化的程度，一般行业差异较大，轻资产行业该比例较高，需要结合行业属性考虑。"
   ]
  },
  {
   "cell_type": "code",
   "execution_count": 12,
   "metadata": {
    "code_folding": [
     0
    ]
   },
   "outputs": [
    {
     "data": {
      "text/plain": [
       "0.9682697248721963"
      ]
     },
     "execution_count": 12,
     "metadata": {},
     "output_type": "execute_result"
    }
   ],
   "source": [
    "# (+)软资产比例 = (总资产 － 固定资产 － 在建工程 － 工程物资 － 货币资金) /总资产\n",
    "def Proportion_of_soft_assets(code,date=None):\n",
    "    tt=statDate(date=None,num=1)[0]\n",
    "    tab1=params('total_assets')\n",
    "    tab2=params('fixed_assets')\n",
    "    tab3=params('constru_in_process')\n",
    "    tab4=params('construction_materials')\n",
    "    tab5=params('cash_equivalents')\n",
    "    df=get_fundamentals(query(valuation.code\n",
    "                              ,valuation.day\n",
    "                              ,valuation.capitalization\n",
    "                              ,eval(tab1)#‘eval’把字符串转为可执行代码\n",
    "                              ,eval(tab2)\n",
    "                              ,eval(tab3)\n",
    "                              ,eval(tab4)\n",
    "                              ,eval(tab5)\n",
    "                             ).filter(\n",
    "        valuation.code==code\n",
    "        ),statDate=tt)\n",
    "    #对缺失值进行0填充\n",
    "    df.fillna(0,inplace=True)\n",
    "    df['ratio']=(df['total_assets']-df['fixed_assets']-df['constru_in_process']-df['construction_materials']-df['cash_equivalents'])/df['total_assets']\n",
    "    return df.loc[0,'ratio']\n",
    "Proportion_of_soft_assets(code,date=None)"
   ]
  },
  {
   "cell_type": "markdown",
   "metadata": {},
   "source": [
    "(8)现金销售率\n",
    "\n",
    "该比例越低，雷的概率越大，财务操作只能在各个科目中进行腾挪，无法真的腾挪出真金白银。"
   ]
  },
  {
   "cell_type": "code",
   "execution_count": 13,
   "metadata": {
    "code_folding": [
     0
    ]
   },
   "outputs": [
    {
     "data": {
      "text/plain": [
       "0.7803464999730606"
      ]
     },
     "execution_count": 13,
     "metadata": {},
     "output_type": "execute_result"
    }
   ],
   "source": [
    "# （-）现金销售率 = (营业收入－Δ应收账款) /营业收入\n",
    "def Cash_sales_rate(code,date=None):\n",
    "    tt=statDate(date=None,num=2)\n",
    "    tab1=params('operating_revenue')#营业收入\n",
    "    tab2=params('account_receivable')#应收账款\n",
    "    df1=get_fundamentals(query(valuation.code\n",
    "                              ,valuation.day\n",
    "                              ,valuation.capitalization\n",
    "                              ,eval(tab1)#‘eval’把字符串转为可执行代码\n",
    "                              ,eval(tab2)\n",
    "                             ).filter(\n",
    "        valuation.code==code\n",
    "        ),statDate=tt[0])\n",
    "    df2=get_fundamentals(query(valuation.code\n",
    "                              ,valuation.day\n",
    "                              ,valuation.capitalization\n",
    "                              ,eval(tab1)#‘eval’把字符串转为可执行代码\n",
    "                              ,eval(tab2)\n",
    "                             ).filter(\n",
    "        valuation.code==code\n",
    "        ),statDate=tt[1])\n",
    "    df=df1.append(df2,ignore_index=True)\n",
    "    cash=(df.loc[0,'operating_revenue']-df.loc[0,'account_receivable']+df.loc[1,'account_receivable'])/df.loc[0,'operating_revenue']\n",
    "    return cash\n",
    "\n",
    "df2=Cash_sales_rate(code,date=None)\n",
    "df2"
   ]
  },
  {
   "cell_type": "markdown",
   "metadata": {},
   "source": [
    "（9）自由现金流变动"
   ]
  },
  {
   "cell_type": "code",
   "execution_count": 14,
   "metadata": {},
   "outputs": [],
   "source": [
    "# 计算本期和上一期的差值△\n",
    "def delta(df,param,a):\n",
    "    return df.loc[a,param]-df.loc[a+1,param]   "
   ]
  },
  {
   "cell_type": "code",
   "execution_count": 30,
   "metadata": {},
   "outputs": [
    {
     "data": {
      "text/plain": [
       "-0.9026798002290719"
      ]
     },
     "execution_count": 30,
     "metadata": {},
     "output_type": "execute_result"
    }
   ],
   "source": [
    "# （-）自由现金流变动 = Δ（净利润-总应计）/总资产，其中：总应计 = (Δ 流动资产－ Δ 货币资金) － (Δ 流动负债 － Δ 一年内到期长期负债 － Δ 应交税费) － 折旧费用\n",
    "def Free_cash_flow(code,date=None):\n",
    "    tt=statDate(date=None,num=3)\n",
    "    tab1=params('total_assets')#总资产\n",
    "    tab2=params('net_profit')#净利润\n",
    "    tab3=params('total_current_assets')#流动性资产\n",
    "    tab4=params('cash_equivalents')#货币资金\n",
    "    tab5=params('total_current_liability')#流动性负债\n",
    "    tab6=params('non_current_liability_in_one_year')#一年内到期的非流动性负债\n",
    "    tab7=params('taxs_payable')#应交税费\n",
    "    tab8=params('long_deferred_expense')#长期待摊费用\n",
    "    for b,date in enumerate(tt):\n",
    "        df1=get_fundamentals(query(valuation.code\n",
    "                                   ,valuation.day\n",
    "                                   ,valuation.capitalization\n",
    "                                   ,eval(tab1)#‘eval’把字符串转为可执行代码\n",
    "                                   ,eval(tab2)\n",
    "                                   ,eval(tab3)\n",
    "                                   ,eval(tab4)\n",
    "                                   ,eval(tab5)\n",
    "                                   ,eval(tab6)\n",
    "                                   ,eval(tab7)\n",
    "                                   ,eval(tab8)\n",
    "                                   ).filter(\n",
    "            valuation.code==code\n",
    "            ),statDate=date)\n",
    "        if b==0:\n",
    "            df=df1\n",
    "        else:\n",
    "            df=df.append(df1,ignore_index=True)\n",
    "    ttl1=(delta(df,'total_current_assets',0)-delta(df,'cash_equivalents',0))-(delta(df,'total_current_liability',0)-delta(df,'non_current_liability_in_one_year',0)-delta(df,'taxs_payable',0))-df.loc[0,'long_deferred_expense']\n",
    "    ttl2=(delta(df,'total_current_assets',1)-delta(df,'cash_equivalents',1))-(delta(df,'total_current_liability',1)-delta(df,'non_current_liability_in_one_year',1)-delta(df,'taxs_payable',1))-df.loc[1,'long_deferred_expense']\n",
    "    ratio1=(df.loc[0,'net_profit']-ttl1)/df.loc[0,'total_assets']\n",
    "    ratio2=(df.loc[1,'net_profit']-ttl2)/df.loc[1,'total_assets']\n",
    "    ratio=ratio1/ratio2-1\n",
    "    return ratio\n",
    "df=Free_cash_flow(code,date=None)\n",
    "df"
   ]
  },
  {
   "cell_type": "markdown",
   "metadata": {},
   "source": [
    "(10)毛利率异常"
   ]
  },
  {
   "cell_type": "code",
   "execution_count": 16,
   "metadata": {
    "code_folding": [
     0
    ]
   },
   "outputs": [],
   "source": [
    "#返回个股指定日期数据\n",
    "def data_table(code,date=None,statdate=None,param='pe_ratio',freq='y'):\n",
    "#     ‘date’：查询日期\n",
    "#     'statdate':报告期，如‘2015q3’：表示2015年三季度报\n",
    "#     ‘param’:查询的属性\n",
    "    if statdate:\n",
    "        tt=statdate\n",
    "    else:\n",
    "        tt=statDate(date=date,num=1)[0]\n",
    "\n",
    "    df=get_fundamentals(query(valuation.code\n",
    "                              ,valuation.day\n",
    "                              ,valuation.capitalization\n",
    "                              ,eval(params(param))#‘eval’把字符串转为可执行代码\n",
    "                             ).filter(\n",
    "        valuation.code==code\n",
    "        ),statDate=tt)\n",
    "    return df"
   ]
  },
  {
   "cell_type": "code",
   "execution_count": 17,
   "metadata": {
    "code_folding": [
     0
    ]
   },
   "outputs": [],
   "source": [
    "#查询单个因素一段时间情况\n",
    "def param_value(code,enddate=None,num=10,param='pe_ratio',freq='y'):\n",
    "#     num：多少条数据\n",
    "#    param：数据的字段名\n",
    "#   freq：数据的时间间隔，如月‘M’，年‘y’，日'D'，3月为‘3M’\n",
    "    t_list=statDate(date=enddate,num=num)\n",
    "    for b,date in enumerate(t_list):\n",
    "        df=data_table(code,statdate=date,param=param)\n",
    "        if b==0:\n",
    "            df1=df\n",
    "        else:\n",
    "            df1=df1.append(df)\n",
    "    #重置索引\n",
    "    df1=df1.reset_index(drop=True)\n",
    "    #用后一个值填充空缺值\n",
    "    df1.fillna(method='backfill',inplace=True)\n",
    "    return df1"
   ]
  },
  {
   "cell_type": "code",
   "execution_count": 18,
   "metadata": {
    "code_folding": [
     0
    ]
   },
   "outputs": [],
   "source": [
    "# 平均指标，（期初+期末）/2\n",
    "def Average_param(code,date=None,statdate=None,param='pe_ratio',freq='y'):\n",
    "    if statdate:\n",
    "        tt=[statdate,str(int(statdate)-1)]\n",
    "    else:\n",
    "        tt=statDate(num=2)\n",
    "    #获取标签所在表\n",
    "    tab=params(param)\n",
    "    #获取当前数据\n",
    "    df1=get_fundamentals(query(valuation.code\n",
    "#                                ,valuation.market_cap\n",
    "                               ,valuation.day\n",
    "                              #‘eval’把字符串转为可执行代码\n",
    "                               ,eval(tab)\n",
    "                               ).filter(\n",
    "        valuation.code==code\n",
    "        ),statDate=tt[0])\n",
    "#     获取去年同期数据\n",
    "    df2=get_fundamentals(query(valuation.code\n",
    "#                                ,valuation.market_cap\n",
    "                               ,valuation.day\n",
    "                              #‘eval’把字符串转为可执行代码\n",
    "                               ,eval(tab)\n",
    "                               ).filter(\n",
    "        valuation.code==code\n",
    "        ),statDate=tt[1])\n",
    "    #计算平均值\n",
    "    df=df1.append(df2)\n",
    "    df=df.reset_index(drop=True)\n",
    "    #用后一个值填充空缺值\n",
    "    df1.fillna(method='backfill',inplace=True)\n",
    "    #修改第一个值为平均值\n",
    "    df.loc[0,param]=df[param].mean()\n",
    "    df.rename(columns={param:'avg_'+param},inplace=True)\n",
    "    df.drop(index=1,axis=1,inplace=True)\n",
    "    return df\n",
    "df=Average_param(code,date=None,param='pe_ratio',freq='y')"
   ]
  },
  {
   "cell_type": "code",
   "execution_count": 19,
   "metadata": {},
   "outputs": [
    {
     "data": {
      "text/html": [
       "<div>\n",
       "\n",
       "    .dataframe tbody tr th:only-of-type {\n",
       "        vertical-align: middle;\n",
       "    }\n",
       "\n",
       "    .dataframe tbody tr th {\n",
       "        vertical-align: top;\n",
       "    }\n",
       "\n",
       "    .dataframe thead th {\n",
       "        text-align: right;\n",
       "    }\n",
       "\n",
       "<table border=\"1\" class=\"dataframe\">\n",
       "  <thead>\n",
       "    <tr style=\"text-align: right;\">\n",
       "      <th></th>\n",
       "      <th>code</th>\n",
       "      <th>day</th>\n",
       "      <th>avg_pe_ratio</th>\n",
       "    </tr>\n",
       "  </thead>\n",
       "  <tbody>\n",
       "    <tr>\n",
       "      <th>0</th>\n",
       "      <td>000005.XSHE</td>\n",
       "      <td>2018-12-28</td>\n",
       "      <td>-15.74775</td>\n",
       "    </tr>\n",
       "  </tbody>\n",
       "</table>\n",
       "</div>"
      ],
      "text/plain": [
       "          code         day  avg_pe_ratio\n",
       "0  000005.XSHE  2018-12-28     -15.74775"
      ]
     },
     "execution_count": 19,
     "metadata": {},
     "output_type": "execute_result"
    }
   ],
   "source": [
    "df"
   ]
  },
  {
   "cell_type": "code",
   "execution_count": 20,
   "metadata": {},
   "outputs": [
    {
     "data": {
      "text/html": [
       "<div>\n",
       "\n",
       "    .dataframe tbody tr th:only-of-type {\n",
       "        vertical-align: middle;\n",
       "    }\n",
       "\n",
       "    .dataframe tbody tr th {\n",
       "        vertical-align: top;\n",
       "    }\n",
       "\n",
       "    .dataframe thead th {\n",
       "        text-align: right;\n",
       "    }\n",
       "\n",
       "<table border=\"1\" class=\"dataframe\">\n",
       "  <thead>\n",
       "    <tr style=\"text-align: right;\">\n",
       "      <th></th>\n",
       "      <th>code</th>\n",
       "      <th>day</th>\n",
       "      <th>avg_pe_ratio</th>\n",
       "    </tr>\n",
       "  </thead>\n",
       "  <tbody>\n",
       "    <tr>\n",
       "      <th>0</th>\n",
       "      <td>000005.XSHE</td>\n",
       "      <td>2018-12-28</td>\n",
       "      <td>-15.74775</td>\n",
       "    </tr>\n",
       "    <tr>\n",
       "      <th>1</th>\n",
       "      <td>000005.XSHE</td>\n",
       "      <td>2017-12-29</td>\n",
       "      <td>-20.00610</td>\n",
       "    </tr>\n",
       "    <tr>\n",
       "      <th>2</th>\n",
       "      <td>000005.XSHE</td>\n",
       "      <td>2016-12-30</td>\n",
       "      <td>150.38180</td>\n",
       "    </tr>\n",
       "  </tbody>\n",
       "</table>\n",
       "</div>"
      ],
      "text/plain": [
       "          code         day  avg_pe_ratio\n",
       "0  000005.XSHE  2018-12-28     -15.74775\n",
       "1  000005.XSHE  2017-12-29     -20.00610\n",
       "2  000005.XSHE  2016-12-30     150.38180"
      ]
     },
     "execution_count": 20,
     "metadata": {},
     "output_type": "execute_result"
    }
   ],
   "source": [
    "#查询单个因素一段时间的同比增长率\n",
    "def Average_param_Period(code,enddate=None,num=10,param='pe_ratio',freq='y'):\n",
    "#     num：多少条数据\n",
    "#    param：数据的字段名\n",
    "#   freq：数据的时间间隔，如月‘M’，年‘y’，日'D'，3月为‘3M’\n",
    "    t1=statDate(date=enddate,num=num)\n",
    "    for b,date in enumerate(t1):\n",
    "        #把日期转换成字符串格式\n",
    "        df=Average_param(code,statdate=date,param=param,freq=freq)\n",
    "        if b==0:\n",
    "            df1=df\n",
    "        else:\n",
    "            df1=df1.append(df)\n",
    "    #重置索引\n",
    "    df1=df1.reset_index(drop=True).dropna()\n",
    "        #用后一个值填充空缺值\n",
    "    df1.fillna(method='backfill',inplace=True)\n",
    "    return df1\n",
    "Average_param_Period(code,enddate=None,num=3,param='pe_ratio',freq='y')"
   ]
  },
  {
   "cell_type": "code",
   "execution_count": 21,
   "metadata": {},
   "outputs": [
    {
     "data": {
      "text/html": [
       "<div>\n",
       "\n",
       "    .dataframe tbody tr th:only-of-type {\n",
       "        vertical-align: middle;\n",
       "    }\n",
       "\n",
       "    .dataframe tbody tr th {\n",
       "        vertical-align: top;\n",
       "    }\n",
       "\n",
       "    .dataframe thead th {\n",
       "        text-align: right;\n",
       "    }\n",
       "\n",
       "<table border=\"1\" class=\"dataframe\">\n",
       "  <thead>\n",
       "    <tr style=\"text-align: right;\">\n",
       "      <th></th>\n",
       "      <th>code</th>\n",
       "      <th>day</th>\n",
       "      <th>存货周转率</th>\n",
       "      <th>存货周转天数</th>\n",
       "      <th>应收账款周转天数</th>\n",
       "      <th>营业周期</th>\n",
       "    </tr>\n",
       "  </thead>\n",
       "  <tbody>\n",
       "    <tr>\n",
       "      <th>0</th>\n",
       "      <td>000005.XSHE</td>\n",
       "      <td>2018-12-28</td>\n",
       "      <td>0.763580</td>\n",
       "      <td>117.865778</td>\n",
       "      <td>45.624619</td>\n",
       "      <td>163.490397</td>\n",
       "    </tr>\n",
       "    <tr>\n",
       "      <th>1</th>\n",
       "      <td>000005.XSHE</td>\n",
       "      <td>2017-12-29</td>\n",
       "      <td>0.830680</td>\n",
       "      <td>108.344935</td>\n",
       "      <td>30.078712</td>\n",
       "      <td>138.423646</td>\n",
       "    </tr>\n",
       "    <tr>\n",
       "      <th>2</th>\n",
       "      <td>000005.XSHE</td>\n",
       "      <td>2016-12-30</td>\n",
       "      <td>0.927525</td>\n",
       "      <td>97.032394</td>\n",
       "      <td>22.028718</td>\n",
       "      <td>119.061112</td>\n",
       "    </tr>\n",
       "  </tbody>\n",
       "</table>\n",
       "</div>"
      ],
      "text/plain": [
       "          code         day     ...       应收账款周转天数        营业周期\n",
       "0  000005.XSHE  2018-12-28     ...      45.624619  163.490397\n",
       "1  000005.XSHE  2017-12-29     ...      30.078712  138.423646\n",
       "2  000005.XSHE  2016-12-30     ...      22.028718  119.061112\n",
       "\n",
       "[3 rows x 6 columns]"
      ]
     },
     "execution_count": 21,
     "metadata": {},
     "output_type": "execute_result"
    }
   ],
   "source": [
    "def Operational_capability(code,num=10,freq='y'):\n",
    "    \n",
    "# 营业周期=存货周转天数+应收账款周转天数\n",
    "# 存货周转率又名库存周转率，是企业一定时期营业成本（销货成本）与平均存货余额的比率\n",
    "# # 存货周转天数=360/存货周转次数\n",
    "# # 存货周转次数=主营业务成本/存货平均金额\n",
    "# # 存货平均金额=(期初金额+期末金额)/2\n",
    "# 应收账款周转天数=360/应收账款周转率=平均应收账款×360天/销售收入=平均应收账款/平均日销售额\n",
    "# 应收账款周转率=（赊销净额/应收账款平均余额）=（(销售收入-现销收入-销售退回、折让、折扣)/[(期初应收账款余额+期末应收账款余额）/2])\n",
    "    df1=Average_param_Period(code,enddate=None,num=num,param='inventories',freq=freq)#存货平均金额\n",
    "    df2=param_value(code,enddate=None,num=num,param='operating_cost',freq=freq)#主营业务成本\n",
    "    df3=Average_param_Period(code,enddate=None,num=num,param='account_receivable',freq=freq)#平均应收账款\n",
    "    df4=param_value(code,enddate=None,num=num,param='operating_revenue',freq=freq)#销售收入\n",
    "    df=df1.merge(df2,on=['day','code',])\n",
    "    df=df.merge(df3,on=['day','code',])\n",
    "    df=df.merge(df4,on=['day','code',])\n",
    "    df['存货周转率']=df['operating_cost']/df['avg_inventories']\n",
    "    df['存货周转天数']=360*df['avg_inventories']/df['operating_cost']\n",
    "    df['应收账款周转天数']=360*df['avg_account_receivable']/df['operating_revenue']\n",
    "    df['营业周期']=df['应收账款周转天数']+df['存货周转天数']\n",
    "    df.drop(['operating_cost','avg_inventories','avg_account_receivable','operating_revenue','capitalization_x','capitalization_y'],axis=1,inplace=True)\n",
    "    return df\n",
    "df=Operational_capability(code,num=3,freq='y')\n",
    "df"
   ]
  },
  {
   "cell_type": "code",
   "execution_count": 22,
   "metadata": {},
   "outputs": [],
   "source": [
    "# （+）毛利率连续 3 年提升且存货周转率连续 3 年下降，是取 1，否取 0。\n",
    "def Abnormal_gross_profit_rate(code,date=None):\n",
    "    tt=statDate(date=date,num=3)\n",
    "    tab=params('gross_profit_margin')\n",
    "    for b,date in enumerate(tt):\n",
    "        df1=get_fundamentals(query(valuation.code\n",
    "                                   ,valuation.day\n",
    "                                   ,eval(tab)\n",
    "                                   ).filter(\n",
    "            valuation.code==code\n",
    "            ),statDate=date)\n",
    "        if b==0:\n",
    "            df=df1\n",
    "        else:\n",
    "            df=df.append(df1,ignore_index=True)\n",
    "    df_z=Operational_capability(code,num=3,freq='y')\n",
    "    if df.loc[0,'gross_profit_margin']>df.loc[1,'gross_profit_margin']>df.loc[2,'gross_profit_margin'] and \\\n",
    "    df_z.loc[0,'存货周转率']<df_z.loc[1,'存货周转率']<df_z.loc[2,'存货周转率']:\n",
    "        return 1\n",
    "    else:\n",
    "        return 0\n",
    "            "
   ]
  },
  {
   "cell_type": "markdown",
   "metadata": {},
   "source": [
    "（13）存贷双高"
   ]
  },
  {
   "cell_type": "code",
   "execution_count": 23,
   "metadata": {},
   "outputs": [],
   "source": [
    "# 存贷双高，指公司账面上的货币资产与有息负债均处于较高水平。通常，“存”指广\n",
    "# 义货币资金，包括货币资金（库存现金、银行存款、其他货币资金）以及应收票据、其他\n",
    "# 流动资产，其流动性强。“贷”指有息负债，为企业负债中需要支付利息的债务，一般包\n",
    "# 括短期借款，一年内到期的非流动负债，应付短期债券，长期借款，应付债券。此外，应\n",
    "# 付票据，应付账款、其他应付款，也可能是有息的。\n",
    "def Deposit_loan_double_high(code,date=None):\n",
    "    tt=statDate(date=None,num=1)[0]\n",
    "    tab1=params('cash_equivalents')\n",
    "    tab2=params('bill_receivable')\n",
    "    tab3=params('other_current_assets')\n",
    "    tab4=params('total_assets')\n",
    "#     货币资金占比 = 广义货币资金/总资产\n",
    "#     其中，广义货币资金 = 货币资金 + 应收票据 + 其他流动资产\n",
    "\n",
    "    df=get_fundamentals(query(valuation.code\n",
    "                              ,valuation.day\n",
    "                              ,eval(tab1)#‘eval’把字符串转为可执行代码\n",
    "                              ,eval(tab2)\n",
    "                              ,eval(tab3)\n",
    "                              ,eval(tab4)\n",
    "                             ).filter(\n",
    "        valuation.code==code\n",
    "        ),statDate=tt)\n",
    "    df.fillna(0,inplace=True)\n",
    "    deposit=(df.loc[0,'cash_equivalents']+df.loc[0,'bill_receivable']+df.loc[0,'other_current_assets'])/df.loc[0,'total_assets']\n",
    "#     有息负债占比 = 有息负债/总资产\n",
    "#     有息负债 = 短期借款 + 应付票据 + 一年内到期的非流动负债 + 应付短期债券 +长期借款 + 应付债券\n",
    "    tab5=params('shortterm_loan')\n",
    "    tab6=params('notes_payable')\n",
    "    tab7=params('non_current_liability_in_one_year')\n",
    "    tab8=params('bonds_payable')\n",
    "    tab9=params('longterm_loan')\n",
    "    tab10=params('longterm_account_payable')\n",
    "    df1=get_fundamentals(query(valuation.code\n",
    "                              ,valuation.day\n",
    "                              ,eval(tab5)#‘eval’把字符串转为可执行代码\n",
    "                              ,eval(tab6)\n",
    "                              ,eval(tab7)\n",
    "                              ,eval(tab8)\n",
    "                              ,eval(tab9)\n",
    "                              ,eval(tab10)\n",
    "                             ).filter(\n",
    "        valuation.code==code\n",
    "        ),statDate=tt)\n",
    "    df1.fillna(0,inplace=True)\n",
    "    liabilities=df1.loc[0,'shortterm_loan']+df1.loc[0,'notes_payable']+df1.loc[0,'non_current_liability_in_one_year']+df1.loc[0,'bonds_payable']+df1.loc[0,'longterm_account_payable']+df1.loc[0,'longterm_loan']                                                                                                \n",
    "    loan=liabilities/df.loc[0,'total_assets']\n",
    "    if deposit>0.3 and loan>0.3:\n",
    "        return 2\n",
    "    else:\n",
    "        return 0"
   ]
  },
  {
   "cell_type": "markdown",
   "metadata": {},
   "source": [
    "（14）资金收益率异常"
   ]
  },
  {
   "cell_type": "code",
   "execution_count": 24,
   "metadata": {},
   "outputs": [],
   "source": [
    "# code='000005.XSHE'\n",
    "# Proportion(code,'interest_and_commission_cashin','cash_equivalents',date=None)"
   ]
  },
  {
   "cell_type": "code",
   "execution_count": 25,
   "metadata": {
    "code_folding": []
   },
   "outputs": [],
   "source": [
    "# 画图\n",
    "def gauge(value,txt=None,kd1=0,kd2=100):\n",
    "#     value:指针值\n",
    "#     kd1：刻度起点角度\n",
    "#     kd2:刻度结束角度d\n",
    "    import numpy as np\n",
    "    import matplotlib.pyplot as plt\n",
    "    #分割圆周长\n",
    "    a=np.pi/180\n",
    "    k=kd2-kd1\n",
    "    # 设置指针长度\n",
    "    data = np.array([0.5,10,0.5,1]) # 数据\n",
    "    # 指针的位置\n",
    "    b=kd2*a-k*a*value/100\n",
    "  \n",
    "    # 指针的角度\n",
    "    angles =[b+a*90,b,b-a*90,b+180*a]\n",
    "    # 依次连接各个点，添加起点，形成闭合区域（指针线），二维数组\n",
    "    data = np.concatenate((data, [data[0]])) \n",
    "    angles = np.concatenate((angles,[angles[0]]))\n",
    "    # 把指针投射到极坐标中，\n",
    "    plt.polar(angles, data, 'r', linewidth=2,)\n",
    "    #把指针填充成实心\n",
    "    plt.fill(angles, data, facecolor='red', alpha=1)\n",
    "    # 标记指针刻度值\n",
    "#     plt.text(angles[1], data[1],'%d'%(value))\n",
    "    \n",
    "    #做极坐标系\n",
    "    #设置刻度区域,参数直接用角度，\n",
    "    # 设置绘图标签\n",
    "#     labels = np.array(['100','0']) \n",
    "#       这个函数不接受带有负角度的参数\n",
    "#     plt.thetagrids([kd1,kd2],labels)\n",
    "\n",
    "    # 填充刻度区域\n",
    "    x1=np.linspace(kd1*a, kd2*a,k, endpoint=False)\n",
    "    plt.fill_between(x1,0,10,facecolor='yellow',interpolate=True)\n",
    "    \n",
    "    # 绘制刻度，每10度，加一个长刻度\n",
    "    dtl= (kd2*a-kd1*a)/50\n",
    "    for i in range(1,50):\n",
    "        plt.text(kd2*a, 7,'%d'%(0),horizontalalignment='center',verticalalignment='center')\n",
    "        if i%5==0:\n",
    "            a1 = np.concatenate(([kd2*a-i*dtl],[kd2*a-i*dtl]))\n",
    "            a2 = np.concatenate(([8],[10]))\n",
    "            plt.polar(a1, a2, 'b', linewidth=1)\n",
    "            plt.text(kd2*a-i*dtl, 7,'%d'%(i*2),horizontalalignment='center',verticalalignment='center') \n",
    "        else:\n",
    "            a1 = np.concatenate(([kd2*a-i*dtl],[kd2*a-i*dtl]))\n",
    "            a2 = np.concatenate(([9],[10]))\n",
    "            plt.polar(a1, a2, 'b', linewidth=0.5)\n",
    "    plt.text(kd1*a, 7,'%d'%(100),horizontalalignment='center',verticalalignment='center')\n",
    "#     对刻度进行分区填色\n",
    "    k1=int((kd2-kd1)*0.3)\n",
    "    k2=int((kd2-kd1)*0.7)\n",
    "    plt.fill_between(x1[k2:],8,10,facecolor='g',interpolate=True)\n",
    "    plt.fill_between(x1[k1:k2],8,10,facecolor='silver',interpolate=True)\n",
    "    plt.fill_between(x1[0:k1],8,10,facecolor='r',interpolate=True)\n",
    "    plt.ylim(0,10)\n",
    "    # 隐藏y坐标轴\n",
    "    plt.yticks(())\n",
    "    plt.xticks(())\n",
    "    # 获取图像对象\n",
    "    ax = plt.gca()\n",
    "    # 设置隐藏非绘图区\n",
    "    ax.spines['polar'].set_color('none')\n",
    "    # 设置背景颜色\n",
    "    # # ax.patch.set_facecolor(\"gray\")\n",
    "    # 设置ax区域背景颜色透明度\n",
    "    ax.patch.set_alpha(0.5)\n",
    "    plt.text(90*a,4,'暴雷率',horizontalalignment='center',verticalalignment='center',fontsize=20 )\n",
    "    plt.text(270*a,4,'{}%'.format(value),horizontalalignment='center',verticalalignment='center',fontsize=20 )\n",
    "    if txt:\n",
    "        plt.text(270*a,8,'{}'.format(txt),horizontalalignment='center',verticalalignment='center',fontsize=12,bbox=dict(facecolor='red', alpha=0.5) )\n",
    "    else:\n",
    "        pass\n",
    "    plt.title('量化排雷')\n",
    "    plt.show()"
   ]
  },
  {
   "cell_type": "code",
   "execution_count": 26,
   "metadata": {
    "code_folding": []
   },
   "outputs": [],
   "source": [
    "# 综合评分\n",
    "def Thunderstorm_index(code,date=None):\n",
    "    a=[]\n",
    "#     (1)应收账款占比\n",
    "    score1=Proportion(code,'account_receivable','operating_revenue',date=None)\n",
    "    score1=int(np.where(score1>0.4501360353878518,1,0))\n",
    "    if score1==1:\n",
    "        a.append('应收账款占比异常')\n",
    "#     (2)应收账款变动率\n",
    "    score2=Rate_of_change(code,'account_receivable','total_sheet_owner_equities',date=None)\n",
    "    score2=int(np.where(score2>0.30680924511535257,1,0))\n",
    "    if score2==1:\n",
    "        a.append('应收账款变动率异常')\n",
    "#     (3)其他应收账款占比\n",
    "    score3=Proportion(code,'other_receivable','total_assets',date=None)\n",
    "    score3=int(np.where(score3>0.02586067243454865,1,0))\n",
    "    if score3==1:\n",
    "        a.append('其他应收账款占比异常')\n",
    "\n",
    "#    (4)其他应收账款变动率\n",
    "    score4=Rate_of_change(code,'other_receivable','total_assets',date=None)\n",
    "    score4=int(np.where(score4>1.1095017533554583,1,0))\n",
    "    if score4==1:\n",
    "        a.append('其他应收账款变动率')\n",
    "    \n",
    "#     (5)存货占比\n",
    "    score5=Proportion(code,'inventories','total_assets',date=None)\n",
    "    score5=int(np.where(score5>0.2164,1,0))\n",
    "    if score5==1:\n",
    "        a.append('存货占比异常')\n",
    "    \n",
    "#     (6)存货变动率\n",
    "    score6=Rate_of_change(code,'inventories','total_assets',date=None)\n",
    "    score6=int(np.where(score6>0.2735,1,0))\n",
    "    if score6==1:\n",
    "        a.append('存货变动率异常')\n",
    "    \n",
    "#     (7)软资产比例\n",
    "    score7=Proportion_of_soft_assets(code,date=None)\n",
    "    score7=int(np.where(score7>0.7761,1,0))\n",
    "    if score7==1:\n",
    "        a.append('软资产比例异常')\n",
    "    \n",
    "#     (8)现金销售率\n",
    "    score8=Cash_sales_rate(code,date=None)\n",
    "    score8=int(np.where(score8<0.8271,1,0))\n",
    "    if score8==1:\n",
    "        a.append('现金销售率异常')\n",
    "    \n",
    "#     (9)自由现金流变动\n",
    "    score9=Free_cash_flow(code,date=None)\n",
    "    score9=int(np.where(score9<-0.26931,1,0))\n",
    "    if score9==1:\n",
    "        a.append('自由现金流变动异常')\n",
    "    \n",
    "#     (10)毛利率异常\n",
    "    score10=Abnormal_gross_profit_rate(code,date=None)\n",
    "    if score10==1:\n",
    "        a.append('毛利率异常')\n",
    "#     (11)商誉与净资产比\n",
    "    score11=Proportion(code,'good_will','total_owner_equities',date=None)\n",
    "    score11=int(np.where(score11>1.2,1,0))\n",
    "    if score11==1:\n",
    "        a.append('商誉与净资产比偏高')\n",
    "#     (12)商誉与净利润比\n",
    "    score12=Proportion(code,'good_will','total_profit',date=None)\n",
    "    score12=int(np.where(score12>2,3,0))\n",
    "    if score12==3:\n",
    "        a.append('商誉与净利润比偏高,警示！')\n",
    "#     (13)存贷双高\n",
    "    score13=Deposit_loan_double_high(code,date=None)\n",
    "    if score13==2:\n",
    "        a.append('存贷双高，警示！')\n",
    "        \n",
    "    Comprehensive_score=100*(score1+score2+score3+score4+score5+score6+score7+score8+score9+score10+score11+score12+score13)/13\n",
    "    b=[score1,score2,score3,score4,score5,score6,score7,score8,score9,score10,score11,score12,score13]\n",
    "#     有些项目危险性高，给分多，分值可能超过100\n",
    "    value=min(round(Comprehensive_score,2),100)\n",
    "    gauge(value,txt=str(a),kd1=-30,kd2=210)\n",
    "    return a"
   ]
  },
  {
   "cell_type": "code",
   "execution_count": 27,
   "metadata": {
    "scrolled": true
   },
   "outputs": [
    {
     "data": {
      "image/png": "[encoded data removed]",
      "text/plain": [
       "<Figure size 432x288 with 1 Axes>"
      ]
     },
     "metadata": {},
     "output_type": "display_data"
    },
    {
     "data": {
      "text/plain": [
       "['应收账款占比异常', '其他应收账款变动率', '自由现金流变动异常', '存贷双高，警示！']"
      ]
     },
     "execution_count": 27,
     "metadata": {},
     "output_type": "execute_result"
    }
   ],
   "source": [
    "code='002450.XSHE'\n",
    "Thunderstorm_index(code,date='2019-1-1')"
   ]
  },
  {
   "cell_type": "code",
   "execution_count": 37,
   "metadata": {},
   "outputs": [],
   "source": [
    "# 指标值统计分析\n",
    "def Statistics(function,date=None):\n",
    "    #function：输入查看的函数str\n",
    "    score_dict=[]\n",
    "    stocks = list(get_all_securities(['stock']).index)\n",
    "    for code in stocks:\n",
    "        try:\n",
    "            score=round(eval(function),4)\n",
    "            score_dict.append({'code':code,'score':score})\n",
    "        except KeyError:\n",
    "            pass\n",
    "    return pd.DataFrame(score_dict)\n",
    "                  "
   ]
  },
  {
   "cell_type": "code",
   "execution_count": 38,
   "metadata": {
    "scrolled": true
   },
   "outputs": [
    {
     "data": {
      "text/html": [
       "<div>\n",
       "\n",
       "    .dataframe tbody tr th:only-of-type {\n",
       "        vertical-align: middle;\n",
       "    }\n",
       "\n",
       "    .dataframe tbody tr th {\n",
       "        vertical-align: top;\n",
       "    }\n",
       "\n",
       "    .dataframe thead th {\n",
       "        text-align: right;\n",
       "    }\n",
       "\n",
       "<table border=\"1\" class=\"dataframe\">\n",
       "  <thead>\n",
       "    <tr style=\"text-align: right;\">\n",
       "      <th></th>\n",
       "      <th>code</th>\n",
       "      <th>score</th>\n",
       "    </tr>\n",
       "  </thead>\n",
       "  <tbody>\n",
       "    <tr>\n",
       "      <th>0</th>\n",
       "      <td>000001.XSHE</td>\n",
       "      <td>0.2348</td>\n",
       "    </tr>\n",
       "    <tr>\n",
       "      <th>1</th>\n",
       "      <td>000002.XSHE</td>\n",
       "      <td>0.0032</td>\n",
       "    </tr>\n",
       "    <tr>\n",
       "      <th>2</th>\n",
       "      <td>000004.XSHE</td>\n",
       "      <td>NaN</td>\n",
       "    </tr>\n",
       "    <tr>\n",
       "      <th>3</th>\n",
       "      <td>000005.XSHE</td>\n",
       "      <td>1.2901</td>\n",
       "    </tr>\n",
       "    <tr>\n",
       "      <th>4</th>\n",
       "      <td>000006.XSHE</td>\n",
       "      <td>NaN</td>\n",
       "    </tr>\n",
       "    <tr>\n",
       "      <th>5</th>\n",
       "      <td>000007.XSHE</td>\n",
       "      <td>NaN</td>\n",
       "    </tr>\n",
       "    <tr>\n",
       "      <th>6</th>\n",
       "      <td>000008.XSHE</td>\n",
       "      <td>8.2656</td>\n",
       "    </tr>\n",
       "    <tr>\n",
       "      <th>7</th>\n",
       "      <td>000009.XSHE</td>\n",
       "      <td>0.4881</td>\n",
       "    </tr>\n",
       "    <tr>\n",
       "      <th>8</th>\n",
       "      <td>000010.XSHE</td>\n",
       "      <td>-0.2803</td>\n",
       "    </tr>\n",
       "    <tr>\n",
       "      <th>9</th>\n",
       "      <td>000011.XSHE</td>\n",
       "      <td>NaN</td>\n",
       "    </tr>\n",
       "    <tr>\n",
       "      <th>10</th>\n",
       "      <td>000012.XSHE</td>\n",
       "      <td>0.6917</td>\n",
       "    </tr>\n",
       "    <tr>\n",
       "      <th>11</th>\n",
       "      <td>000014.XSHE</td>\n",
       "      <td>NaN</td>\n",
       "    </tr>\n",
       "    <tr>\n",
       "      <th>12</th>\n",
       "      <td>000016.XSHE</td>\n",
       "      <td>1.8811</td>\n",
       "    </tr>\n",
       "    <tr>\n",
       "      <th>13</th>\n",
       "      <td>000017.XSHE</td>\n",
       "      <td>NaN</td>\n",
       "    </tr>\n",
       "    <tr>\n",
       "      <th>14</th>\n",
       "      <td>000018.XSHE</td>\n",
       "      <td>-0.0159</td>\n",
       "    </tr>\n",
       "    <tr>\n",
       "      <th>15</th>\n",
       "      <td>000019.XSHE</td>\n",
       "      <td>NaN</td>\n",
       "    </tr>\n",
       "    <tr>\n",
       "      <th>16</th>\n",
       "      <td>000020.XSHE</td>\n",
       "      <td>NaN</td>\n",
       "    </tr>\n",
       "    <tr>\n",
       "      <th>17</th>\n",
       "      <td>000021.XSHE</td>\n",
       "      <td>0.0148</td>\n",
       "    </tr>\n",
       "    <tr>\n",
       "      <th>18</th>\n",
       "      <td>000023.XSHE</td>\n",
       "      <td>NaN</td>\n",
       "    </tr>\n",
       "    <tr>\n",
       "      <th>19</th>\n",
       "      <td>000025.XSHE</td>\n",
       "      <td>NaN</td>\n",
       "    </tr>\n",
       "    <tr>\n",
       "      <th>20</th>\n",
       "      <td>000026.XSHE</td>\n",
       "      <td>NaN</td>\n",
       "    </tr>\n",
       "    <tr>\n",
       "      <th>21</th>\n",
       "      <td>000027.XSHE</td>\n",
       "      <td>2.0256</td>\n",
       "    </tr>\n",
       "    <tr>\n",
       "      <th>22</th>\n",
       "      <td>000028.XSHE</td>\n",
       "      <td>0.4965</td>\n",
       "    </tr>\n",
       "    <tr>\n",
       "      <th>23</th>\n",
       "      <td>000029.XSHE</td>\n",
       "      <td>NaN</td>\n",
       "    </tr>\n",
       "    <tr>\n",
       "      <th>24</th>\n",
       "      <td>000030.XSHE</td>\n",
       "      <td>0.0116</td>\n",
       "    </tr>\n",
       "    <tr>\n",
       "      <th>25</th>\n",
       "      <td>000031.XSHE</td>\n",
       "      <td>0.0468</td>\n",
       "    </tr>\n",
       "    <tr>\n",
       "      <th>26</th>\n",
       "      <td>000032.XSHE</td>\n",
       "      <td>NaN</td>\n",
       "    </tr>\n",
       "    <tr>\n",
       "      <th>27</th>\n",
       "      <td>000034.XSHE</td>\n",
       "      <td>1.4078</td>\n",
       "    </tr>\n",
       "    <tr>\n",
       "      <th>28</th>\n",
       "      <td>000035.XSHE</td>\n",
       "      <td>0.1040</td>\n",
       "    </tr>\n",
       "    <tr>\n",
       "      <th>29</th>\n",
       "      <td>000036.XSHE</td>\n",
       "      <td>NaN</td>\n",
       "    </tr>\n",
       "    <tr>\n",
       "      <th>...</th>\n",
       "      <td>...</td>\n",
       "      <td>...</td>\n",
       "    </tr>\n",
       "    <tr>\n",
       "      <th>3535</th>\n",
       "      <td>603936.XSHG</td>\n",
       "      <td>7.6864</td>\n",
       "    </tr>\n",
       "    <tr>\n",
       "      <th>3536</th>\n",
       "      <td>603937.XSHG</td>\n",
       "      <td>NaN</td>\n",
       "    </tr>\n",
       "    <tr>\n",
       "      <th>3537</th>\n",
       "      <td>603938.XSHG</td>\n",
       "      <td>NaN</td>\n",
       "    </tr>\n",
       "    <tr>\n",
       "      <th>3538</th>\n",
       "      <td>603939.XSHG</td>\n",
       "      <td>4.7015</td>\n",
       "    </tr>\n",
       "    <tr>\n",
       "      <th>3539</th>\n",
       "      <td>603955.XSHG</td>\n",
       "      <td>0.0004</td>\n",
       "    </tr>\n",
       "    <tr>\n",
       "      <th>3540</th>\n",
       "      <td>603958.XSHG</td>\n",
       "      <td>NaN</td>\n",
       "    </tr>\n",
       "    <tr>\n",
       "      <th>3541</th>\n",
       "      <td>603959.XSHG</td>\n",
       "      <td>0.8773</td>\n",
       "    </tr>\n",
       "    <tr>\n",
       "      <th>3542</th>\n",
       "      <td>603960.XSHG</td>\n",
       "      <td>1.3409</td>\n",
       "    </tr>\n",
       "    <tr>\n",
       "      <th>3543</th>\n",
       "      <td>603963.XSHG</td>\n",
       "      <td>NaN</td>\n",
       "    </tr>\n",
       "    <tr>\n",
       "      <th>3544</th>\n",
       "      <td>603966.XSHG</td>\n",
       "      <td>4.3931</td>\n",
       "    </tr>\n",
       "    <tr>\n",
       "      <th>3545</th>\n",
       "      <td>603968.XSHG</td>\n",
       "      <td>NaN</td>\n",
       "    </tr>\n",
       "    <tr>\n",
       "      <th>3546</th>\n",
       "      <td>603969.XSHG</td>\n",
       "      <td>0.0017</td>\n",
       "    </tr>\n",
       "    <tr>\n",
       "      <th>3547</th>\n",
       "      <td>603970.XSHG</td>\n",
       "      <td>0.0005</td>\n",
       "    </tr>\n",
       "    <tr>\n",
       "      <th>3548</th>\n",
       "      <td>603976.XSHG</td>\n",
       "      <td>NaN</td>\n",
       "    </tr>\n",
       "    <tr>\n",
       "      <th>3549</th>\n",
       "      <td>603977.XSHG</td>\n",
       "      <td>4.0992</td>\n",
       "    </tr>\n",
       "    <tr>\n",
       "      <th>3550</th>\n",
       "      <td>603978.XSHG</td>\n",
       "      <td>NaN</td>\n",
       "    </tr>\n",
       "    <tr>\n",
       "      <th>3551</th>\n",
       "      <td>603979.XSHG</td>\n",
       "      <td>NaN</td>\n",
       "    </tr>\n",
       "    <tr>\n",
       "      <th>3552</th>\n",
       "      <td>603980.XSHG</td>\n",
       "      <td>NaN</td>\n",
       "    </tr>\n",
       "    <tr>\n",
       "      <th>3553</th>\n",
       "      <td>603985.XSHG</td>\n",
       "      <td>0.8251</td>\n",
       "    </tr>\n",
       "    <tr>\n",
       "      <th>3554</th>\n",
       "      <td>603986.XSHG</td>\n",
       "      <td>NaN</td>\n",
       "    </tr>\n",
       "    <tr>\n",
       "      <th>3555</th>\n",
       "      <td>603987.XSHG</td>\n",
       "      <td>0.0079</td>\n",
       "    </tr>\n",
       "    <tr>\n",
       "      <th>3556</th>\n",
       "      <td>603988.XSHG</td>\n",
       "      <td>NaN</td>\n",
       "    </tr>\n",
       "    <tr>\n",
       "      <th>3557</th>\n",
       "      <td>603989.XSHG</td>\n",
       "      <td>NaN</td>\n",
       "    </tr>\n",
       "    <tr>\n",
       "      <th>3558</th>\n",
       "      <td>603990.XSHG</td>\n",
       "      <td>NaN</td>\n",
       "    </tr>\n",
       "    <tr>\n",
       "      <th>3559</th>\n",
       "      <td>603991.XSHG</td>\n",
       "      <td>NaN</td>\n",
       "    </tr>\n",
       "    <tr>\n",
       "      <th>3560</th>\n",
       "      <td>603993.XSHG</td>\n",
       "      <td>0.0966</td>\n",
       "    </tr>\n",
       "    <tr>\n",
       "      <th>3561</th>\n",
       "      <td>603996.XSHG</td>\n",
       "      <td>NaN</td>\n",
       "    </tr>\n",
       "    <tr>\n",
       "      <th>3562</th>\n",
       "      <td>603997.XSHG</td>\n",
       "      <td>0.0083</td>\n",
       "    </tr>\n",
       "    <tr>\n",
       "      <th>3563</th>\n",
       "      <td>603998.XSHG</td>\n",
       "      <td>1.1841</td>\n",
       "    </tr>\n",
       "    <tr>\n",
       "      <th>3564</th>\n",
       "      <td>603999.XSHG</td>\n",
       "      <td>NaN</td>\n",
       "    </tr>\n",
       "  </tbody>\n",
       "</table>\n",
       "<p>3565 rows × 2 columns</p>\n",
       "</div>"
      ],
      "text/plain": [
       "             code   score\n",
       "0     000001.XSHE  0.2348\n",
       "1     000002.XSHE  0.0032\n",
       "2     000004.XSHE     NaN\n",
       "3     000005.XSHE  1.2901\n",
       "4     000006.XSHE     NaN\n",
       "5     000007.XSHE     NaN\n",
       "6     000008.XSHE  8.2656\n",
       "7     000009.XSHE  0.4881\n",
       "8     000010.XSHE -0.2803\n",
       "9     000011.XSHE     NaN\n",
       "10    000012.XSHE  0.6917\n",
       "11    000014.XSHE     NaN\n",
       "12    000016.XSHE  1.8811\n",
       "13    000017.XSHE     NaN\n",
       "14    000018.XSHE -0.0159\n",
       "15    000019.XSHE     NaN\n",
       "16    000020.XSHE     NaN\n",
       "17    000021.XSHE  0.0148\n",
       "18    000023.XSHE     NaN\n",
       "19    000025.XSHE     NaN\n",
       "20    000026.XSHE     NaN\n",
       "21    000027.XSHE  2.0256\n",
       "22    000028.XSHE  0.4965\n",
       "23    000029.XSHE     NaN\n",
       "24    000030.XSHE  0.0116\n",
       "25    000031.XSHE  0.0468\n",
       "26    000032.XSHE     NaN\n",
       "27    000034.XSHE  1.4078\n",
       "28    000035.XSHE  0.1040\n",
       "29    000036.XSHE     NaN\n",
       "...           ...     ...\n",
       "3535  603936.XSHG  7.6864\n",
       "3536  603937.XSHG     NaN\n",
       "3537  603938.XSHG     NaN\n",
       "3538  603939.XSHG  4.7015\n",
       "3539  603955.XSHG  0.0004\n",
       "3540  603958.XSHG     NaN\n",
       "3541  603959.XSHG  0.8773\n",
       "3542  603960.XSHG  1.3409\n",
       "3543  603963.XSHG     NaN\n",
       "3544  603966.XSHG  4.3931\n",
       "3545  603968.XSHG     NaN\n",
       "3546  603969.XSHG  0.0017\n",
       "3547  603970.XSHG  0.0005\n",
       "3548  603976.XSHG     NaN\n",
       "3549  603977.XSHG  4.0992\n",
       "3550  603978.XSHG     NaN\n",
       "3551  603979.XSHG     NaN\n",
       "3552  603980.XSHG     NaN\n",
       "3553  603985.XSHG  0.8251\n",
       "3554  603986.XSHG     NaN\n",
       "3555  603987.XSHG  0.0079\n",
       "3556  603988.XSHG     NaN\n",
       "3557  603989.XSHG     NaN\n",
       "3558  603990.XSHG     NaN\n",
       "3559  603991.XSHG     NaN\n",
       "3560  603993.XSHG  0.0966\n",
       "3561  603996.XSHG     NaN\n",
       "3562  603997.XSHG  0.0083\n",
       "3563  603998.XSHG  1.1841\n",
       "3564  603999.XSHG     NaN\n",
       "\n",
       "[3565 rows x 2 columns]"
      ]
     },
     "execution_count": 38,
     "metadata": {},
     "output_type": "execute_result"
    }
   ],
   "source": [
    "a=Statistics(\"Proportion(code,'good_will','total_profit',date=None)\",date=None)\n",
    "a"
   ]
  },
  {
   "cell_type": "code",
   "execution_count": null,
   "metadata": {
    "scrolled": true
   },
   "outputs": [],
   "source": []
  },
  {
   "cell_type": "code",
   "execution_count": null,
   "metadata": {
    "scrolled": true
   },
   "outputs": [],
   "source": []
  }
 ],
 "metadata": {
  "kernelspec": {
   "display_name": "Python 3",
   "language": "python",
   "name": "python3"
  },
  "language_info": {
   "codemirror_mode": {
    "name": "ipython",
    "version": 3
   },
   "file_extension": ".py",
   "mimetype": "text/x-python",
   "name": "python",
   "nbconvert_exporter": "python",
   "pygments_lexer": "ipython3",
   "version": "3.6.7"
  },
  "toc": {
   "base_numbering": 1,
   "nav_menu": {},
   "number_sections": false,
   "sideBar": true,
   "skip_h1_title": false,
   "title_cell": "MarkDown菜单",
   "title_sidebar": "Contents",
   "toc_cell": false,
   "toc_position": {},
   "toc_section_display": true,
   "toc_window_display": false
  }
 },
 "nbformat": 4,
 "nbformat_minor": 2
}
