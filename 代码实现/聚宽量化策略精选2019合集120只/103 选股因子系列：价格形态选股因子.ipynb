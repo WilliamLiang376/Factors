{
 "cells": [
  {
   "cell_type": "markdown",
   "metadata": {},
   "source": [
    "<b>研究目的：</b>  \n",
    "\n",
    "本文参考海通证券冯佳睿、袁林青撰写的《选股因子系列研究(十八)——价格形态选股因子》，根据研报分析，主要测试了开盘冲高、盘低回升以及均价偏离这三种价格类因子。基于该文章，本文对文章中提到的三种价格类因子进行因子有效性分析，从而实现对股票未来收益的预测，为 alpha 因子的挖掘提供了一定思路。 \n",
    "\n",
    "<b>研究内容：</b>  \n",
    "\n",
    "（1）构建分别以月和半月为观察期的三种价格类因子；  \n",
    "（2）对构建出来的因子进行因子有效性分析，分别包括因子 IC/IR 分析，分层回测组合分析等，并根据结果分析因子的预测能力以及不同观察期对预测能力的影响；   \n",
    "（3）对每个因子，加入行业、市值、贝塔、动量、残差波动率以及非线性市值这 6 个因子进行正交化处理，分析正交化后因子对组合收益的贡献及其预测效果；  \n",
    "（4）对因子进行多因子模型回测分析，分析不同因子对组合收益带来的贡献等。 \n",
    "\n",
    "<b>研究结论：</b>  \n",
    "\n",
    "（1）通过对这三种价格类因子的因子有效性分析结果来看，三种因子均有较好的选股能力，针对不同的观察期，月度因子比半月度因子具有更强的选股能力，但是相对而言，这三种因子的分层回测单调性不足；  \n",
    "（2）通过将这三种因子与行业、市值、贝塔、动量、残差波动率以及非线性市值这 6 个因子进行正交化处理，分析结果可知正交化因子预测稳定性得到较大提升，因子的分层回测单调性得到增强；  \n",
    "（3）对多因子模型进行回测分析，分别从横截面收益率回归和纯多头组合这两方面进行分析，根据分析结果来看，在加入因子 HighOpen 或者因子 VwapClose 后，模型收益能力和风险控制能力相比原始模型均得到了较大提升。"
   ]
  },
  {
   "cell_type": "markdown",
   "metadata": {},
   "source": [
    "# 1 因子构建"
   ]
  },
  {
   "cell_type": "markdown",
   "metadata": {},
   "source": [
    "通过对 K 线的研究，不难发现，常见价格信息，如高、开、低、收等，也能够很好地实现对股票收益的刻画，且对于大多数散户而言，K 线是其主要研究对象，从中提取特征信息，如 K 线的上影线、下影线等等。  \n",
    "参考研报内容，考虑引入开盘、盘高、盘低以及均价构建相关指标刻画股票日内的形态特征。共引入三个指标：开盘冲高、盘低回升以及均价偏离。具体指标计算方式如下所示：  \n",
    "（1）开盘冲高：log(盘高/开盘价)。该指标越大，表示股票盘中冲高幅度越大。  \n",
    "（2）盘低回升：log(收盘价/盘低)。该指标越大，表示股票从盘低回升的幅度也就越大。  \n",
    "（3）均价偏离：log(均价/收盘价)。该指标体现了股票成交均价相对于收盘价的偏离。  \n",
    "紧接着，设计因子实现上述指标，在每个月或者每半个月的时间窗口下，计算上述三个因子过去 1 个月或者半个月的均值，具体计算公式如下所示：  \n",
    "<center> $ HighOpen = 1/K * \\sum_{i=t-k}^{t-1}log(high_i / open_i)$ </center>\n",
    "<center> $ CLoseLow = 1/K * \\sum_{i=t-k}^{t-1}log(close_i / low_i)$ </center>\n",
    "<center> $ VwapClose = 1/K * \\sum_{i=t-k}^{t-1}log(vwap_i / close_i)$ </center>"
   ]
  },
  {
   "cell_type": "markdown",
   "metadata": {},
   "source": [
    "## 1.1 日期列表获取"
   ]
  },
  {
   "cell_type": "markdown",
   "metadata": {},
   "source": [
    "在每个月的月末对因子数据进行提取，因此需要对每个月的月末日期进行统计。  \n",
    "输入参数分别为 peroid、start_date 和 end_date，其中 peroid 进行周期选择，可选周期为周(W)、月(M)和季(Q)，start_date和end_date 分别为开始日期和结束日期。  \n",
    "函数返回值为对应的日期。本文选取开始日期为 2013.1.1，结束日期为 2018.1.1。周期如月取 “W”，半月取 “2W”。"
   ]
  },
  {
   "cell_type": "code",
   "execution_count": 1,
   "metadata": {
    "code_folding": []
   },
   "outputs": [],
   "source": [
    "# 风险及免责提示：该策略由聚宽用户在聚宽社区分享，仅供学习交流使用。\n",
    "# 原文一般包含策略说明，如有疑问请到原文和作者交流讨论。\n",
    "# 原文网址：https://www.joinquant.com/view/community/detail/21927\n",
    "# 标题：选股因子系列：价格形态选股因子\n",
    "\n",
    "from jqdata import *\n",
    "import datetime\n",
    "import pandas as pd\n",
    "import numpy as np\n",
    "from six import StringIO\n",
    "import warnings\n",
    "import time\n",
    "import pickle\n",
    "import scipy.stats as st\n",
    "from jqfactor import winsorize_med\n",
    "from jqfactor import neutralize\n",
    "from jqfactor import standardlize\n",
    "import statsmodels.api as sm\n",
    "import seaborn as sns\n",
    "warnings.filterwarnings(\"ignore\")"
   ]
  },
  {
   "cell_type": "code",
   "execution_count": 2,
   "metadata": {
    "code_folding": [
     0
    ]
   },
   "outputs": [],
   "source": [
    "#获取指定周期的日期列表 'W、M、Q'\n",
    "def get_period_date(peroid,start_date, end_date):\n",
    "    #设定转换周期period_type  转换为周是'W',月'M',季度线'Q',五分钟'5min',12天'12D'\n",
    "    stock_data = get_price('000001.XSHE',start_date,end_date,'daily',fields=['close'])\n",
    "    #记录每个周期中最后一个交易日\n",
    "    stock_data['date']=stock_data.index\n",
    "    #进行转换，周线的每个变量都等于那一周中最后一个交易日的变量值\n",
    "    period_stock_data=stock_data.resample(peroid,how='last')\n",
    "    date=period_stock_data.index\n",
    "    pydate_array = date.to_pydatetime()\n",
    "    date_only_array = np.vectorize(lambda s: s.strftime('%Y-%m-%d'))(pydate_array )\n",
    "    date_only_series = pd.Series(date_only_array)\n",
    "    start_date = datetime.datetime.strptime(start_date, \"%Y-%m-%d\")\n",
    "    start_date=start_date-datetime.timedelta(days=1)\n",
    "    start_date = start_date.strftime(\"%Y-%m-%d\")\n",
    "    date_list=date_only_series.values.tolist()\n",
    "    date_list.insert(0,start_date)\n",
    "    return date_list"
   ]
  },
  {
   "cell_type": "markdown",
   "metadata": {},
   "source": [
    "## 1.2 股票列表获取"
   ]
  },
  {
   "cell_type": "markdown",
   "metadata": {},
   "source": [
    "股票池: 全 A 股  \n",
    "股票筛选：剔除 ST 股票，剔除上市 3 个月内的股票，每只股票视作一个样本  "
   ]
  },
  {
   "cell_type": "code",
   "execution_count": 3,
   "metadata": {
    "code_folding": [
     0
    ]
   },
   "outputs": [],
   "source": [
    "#去除上市距beginDate不足 3 个月的股票\n",
    "def delect_stop(stocks,beginDate,n=30*3):\n",
    "    stockList = []\n",
    "    beginDate = datetime.datetime.strptime(beginDate, \"%Y-%m-%d\")\n",
    "    for stock in stocks:\n",
    "        start_date = get_security_info(stock).start_date\n",
    "        if start_date < (beginDate-datetime.timedelta(days = n)).date():\n",
    "            stockList.append(stock)\n",
    "    return stockList\n",
    "\n",
    "#获取股票池\n",
    "def get_stock_A(begin_date):\n",
    "    begin_date = str(begin_date)\n",
    "    stockList = get_index_stocks('000002.XSHG',begin_date)+get_index_stocks('399107.XSHE',begin_date)\n",
    "    #剔除ST股\n",
    "    st_data = get_extras('is_st', stockList, count = 1, end_date=begin_date)\n",
    "    stockList = [stock for stock in stockList if not st_data[stock][0]]\n",
    "    #剔除停牌、新股及退市股票\n",
    "    stockList = delect_stop(stockList, begin_date)\n",
    "    return stockList"
   ]
  },
  {
   "cell_type": "markdown",
   "metadata": {},
   "source": [
    "## 1.3 数据获取"
   ]
  },
  {
   "cell_type": "markdown",
   "metadata": {},
   "source": [
    "参考上面实现因子构建的公式，在每个月以及每半个月最后一天，分别根据对应的时间窗口，对因子进行计算，并将计算得到的因子数据分别保存在变量 factorData_M 以及 factorData_2W 中。"
   ]
  },
  {
   "cell_type": "code",
   "execution_count": 4,
   "metadata": {
    "code_folding": [
     0
    ]
   },
   "outputs": [
    {
     "name": "stdout",
     "output_type": "stream",
     "text": [
      "('Time used:', 105.55157799999999)\n"
     ]
    }
   ],
   "source": [
    "start = time.clock()\n",
    "# 时间窗口\n",
    "N = 20\n",
    "begin_date = '2013-01-01'\n",
    "end_date = '2018-01-01'\n",
    "# 获取月度日期列表\n",
    "dateList = get_period_date('M',begin_date, end_date)\n",
    "factorData_M = {}\n",
    "for date in dateList:\n",
    "    stockList = get_stock_A(date)\n",
    "    # 获取价格类数据\n",
    "    df_data = get_price(stockList, count = N, end_date = date, frequency='1d', fields=['high', 'open', 'low', 'close', 'avg'])\n",
    "    # 因子计算\n",
    "    temp1 = log(df_data[\"high\"] / df_data[\"open\"]).mean()\n",
    "    temp2 = log(df_data[\"close\"] / df_data[\"low\"]).mean()\n",
    "    temp3 = log(df_data[\"avg\"] / df_data[\"close\"]).mean()\n",
    "    tempData = pd.DataFrame()\n",
    "    tempData[\"HighOpen\"] = temp1\n",
    "    tempData[\"CloseLow\"] = temp2\n",
    "    tempData[\"VwapClose\"] = temp3\n",
    "    tempData = standardlize(tempData, axis=0)\n",
    "    factorData_M[date] = tempData\n",
    "elapsed = (time.clock() - start)\n",
    "print(\"Time used:\",elapsed)\n"
   ]
  },
  {
   "cell_type": "code",
   "execution_count": 5,
   "metadata": {
    "code_folding": [
     0
    ]
   },
   "outputs": [
    {
     "name": "stdout",
     "output_type": "stream",
     "text": [
      "('Time used:', 216.62505500000003)\n"
     ]
    }
   ],
   "source": [
    "start = time.clock()\n",
    "N = 10\n",
    "begin_date = '2013-01-01'\n",
    "end_date = '2018-01-01'\n",
    "# 获取半月日期列表\n",
    "dateList = get_period_date('2W',begin_date, end_date)\n",
    "factorData_2W = {}\n",
    "for date in dateList:\n",
    "    stockList = get_stock_A(date)\n",
    "    # 获取价格类数据\n",
    "    df_data = get_price(stockList, count = N, end_date = date, frequency='1d', fields=['high', 'open', 'low', 'close', 'avg'])\n",
    "    # 因子计算\n",
    "    temp1 = log(df_data[\"high\"] / df_data[\"open\"]).mean()\n",
    "    temp2 = log(df_data[\"close\"] / df_data[\"low\"]).mean()\n",
    "    temp3 = log(df_data[\"avg\"] / df_data[\"close\"]).mean()\n",
    "    tempData = pd.DataFrame()\n",
    "    tempData[\"HighOpen\"] = temp1\n",
    "    tempData[\"CloseLow\"] = temp2\n",
    "    tempData[\"VwapClose\"] = temp3\n",
    "    tempData = standardlize(tempData, axis=0)\n",
    "    factorData_2W[date] = tempData\n",
    "elapsed = (time.clock() - start)\n",
    "print(\"Time used:\",elapsed)\n"
   ]
  },
  {
   "cell_type": "markdown",
   "metadata": {},
   "source": [
    "# 2 因子有效性分析"
   ]
  },
  {
   "cell_type": "markdown",
   "metadata": {},
   "source": [
    "## 2.1 因子 IC 分析"
   ]
  },
  {
   "cell_type": "markdown",
   "metadata": {},
   "source": [
    "因子 k 的 IC 值一般是指个股第 T 期在因子 k 上的暴露度与 T + 1 期的收益率的相关系数。当得到因子 IC 值序列后，根据以下分析方法进行计算:  \n",
    "（1）IC 值序列的均值: 判断因子有效性;  \n",
    "（2）IC 值系列的均值与标准差比值（IR）：分析分析有效性  \n",
    "常见 IC 分析方式分为以下两种：normal IC 以及 rank IC，接下来从这两个角度，对不同因子的 IC 以及 IR 进行分析。"
   ]
  },
  {
   "cell_type": "code",
   "execution_count": 6,
   "metadata": {
    "code_folding": [
     0
    ]
   },
   "outputs": [
    {
     "data": {
      "image/png": "[encoded data removed]",
      "text/plain": [
       "<matplotlib.figure.Figure at 0x7f82e9646290>"
      ]
     },
     "metadata": {
      "needs_background": "light"
     },
     "output_type": "display_data"
    }
   ],
   "source": [
    "def factor_IC_analysis(factorData, Field, begin_date, end_date, period):  \n",
    "    dateList = get_period_date(period,begin_date, end_date)\n",
    "    IC_norm = {}\n",
    "    IC_rank = {}\n",
    "    R_T = pd.DataFrame()\n",
    "    for date in dateList[:-1]:\n",
    "        #取股票池\n",
    "        stockList = list(factorData[date].index)\n",
    "        #获取横截面收益率\n",
    "        df_close=get_price(stockList, date, dateList[dateList.index(date)+1], 'daily', ['close'])\n",
    "        if df_close.empty:\n",
    "            continue\n",
    "        df_pchg=df_close['close'].iloc[-1,:]/df_close['close'].iloc[0,:]-1\n",
    "        R_T['pchg']=df_pchg\n",
    "        #获取因子数据\n",
    "        factor_data = factorData[date][Field]\n",
    "        #数据标准化\n",
    "        factor_data = standardlize(factor_data, inf2nan=True, axis=0)\n",
    "        R_T['factor'] = factor_data\n",
    "        R_T = R_T.dropna()\n",
    "        IC_norm[date]=st.pearsonr(R_T.pchg, R_T['factor'])[0]\n",
    "        IC_rank[date]=st.pearsonr(R_T.pchg.rank(), R_T['factor'].rank())[0]\n",
    "    IC_norm = pd.Series(IC_norm).dropna()\n",
    "    IC_rank = pd.Series(IC_rank).dropna()\n",
    "    return (IC_norm, IC_rank)\n",
    "# 因子 IC 分析\n",
    "IndexList = [\"HighOpen_2W\", \"CloseLow_2W\", \"VwapClose_2W\", \"HighOpen_M\", \"CloseLow_M\", \"VwapClose_M\"]\n",
    "ColumnsList = [\"IC\", \"IR\", \"RankIC\", \"RankIR\"]\n",
    "IC = pd.DataFrame(index = IndexList, columns = ColumnsList)\n",
    "for i in [\"2W\", \"M\"]:\n",
    "    for j in [\"HighOpen\", \"CloseLow\", \"VwapClose\"]:\n",
    "        if i == \"2W\":\n",
    "            tempIC = factor_IC_analysis(factorData_2W, j, begin_date, end_date, i)\n",
    "        if i == \"M\":\n",
    "            tempIC = factor_IC_analysis(factorData_M, j, begin_date, end_date, i)\n",
    "        # 分析结果保存\n",
    "        IC.loc[j + \"_\" + i, \"IC\"] = tempIC[0].mean()\n",
    "        IC.loc[j + \"_\" + i, \"IR\"] = tempIC[0].mean() / tempIC[0].std()\n",
    "        IC.loc[j + \"_\" + i, \"RankIC\"] = tempIC[1].mean()\n",
    "        IC.loc[j + \"_\" + i, \"RankIR\"] = tempIC[1].mean() / tempIC[1].std()\n",
    "IC = IC.astype(float)\n",
    "fig = plt.figure(figsize=(15,6))\n",
    "ax = fig.add_subplot(111)\n",
    "sns.heatmap(IC, annot=True, vmax=1, vmin = 0)\n",
    "ax.set_title(\"IC / IR\", fontsize=21)\n",
    "fig.show()"
   ]
  },
  {
   "cell_type": "markdown",
   "metadata": {},
   "source": [
    "上表给出的结果为以月为周期的三个因子以及以半月为周期的三个因子的 IC、IR 以及 Rank IC、Rank IR 的值，根据表中结果可知，各因子都有较强的选股能力，具体可得到的结论如下所示：  \n",
    "（1）因子 HighOpen 与 VwapClose 均为正向因子，而因子 CloseLow 与他们的方向相反，为反向因子。  \n",
    "（2）对于因子 HighOpen 与 VwapClose 而言，以月为周期的预测能力明显更强于以半月为周期；对于因子 CloseLow 而言，以半月为周期的预测能力更强于以月为周期。  \n",
    "（3）以半月为周期时，三个因子的 normal IC 绝对值均能够达到 0.03，以月为周期时，三个因子的 normal IC 绝对值能够达到 0.4 以上。此外。从 IR 来看，相对而言以月为周期有着更为明显的提升。"
   ]
  },
  {
   "cell_type": "markdown",
   "metadata": {},
   "source": [
    "## 2.2 分层组合回测分析"
   ]
  },
  {
   "cell_type": "markdown",
   "metadata": {},
   "source": [
    "为了进一步分析因子有效性，本文对该因子进行分层回测分析，策略步骤如下所示：  \n",
    "（1）在每个月或者每半个月最后一个交易日，统计全 A 股因子的值；  \n",
    "（2）根据因子值按照从小到大的顺序排序，并将其等分为 10 组；  \n",
    "（3）每个调仓日对每组股票池进行调仓交易，从而获得 10 组股票组合的月均收益。  \n",
    "首先，对以月为调仓期的情况进行分析。"
   ]
  },
  {
   "cell_type": "code",
   "execution_count": 7,
   "metadata": {
    "code_folding": [
     0
    ]
   },
   "outputs": [
    {
     "data": {
      "image/png": "[encoded data removed]",
      "text/plain": [
       "<matplotlib.figure.Figure at 0x7f82e9646850>"
      ]
     },
     "metadata": {
      "needs_background": "light"
     },
     "output_type": "display_data"
    }
   ],
   "source": [
    "def GetPchg(i, factorData, Field, begin_date, end_date, period):\n",
    "    dateList = get_period_date(period,begin_date, end_date)\n",
    "    pchg = []\n",
    "    # 交易手续费\n",
    "    cost = 0.002\n",
    "    for date in dateList[:-1]:\n",
    "        tempData = factorData[date].copy()\n",
    "        # 因子排序\n",
    "        tempData = tempData.sort(Field)\n",
    "        stockList = list(tempData.index)\n",
    "        # 获取交易股票池\n",
    "        stocks = stockList[int(len(stockList)*(i-1)/10):int(len(stockList)*i/10)]\n",
    "        df_close = get_price(stocks, date, dateList[dateList.index(date)+1], 'daily', ['close'])['close']\n",
    "        pchg.append(np.mean(df_close.iloc[-1] / df_close.iloc[0] - 1) - cost)\n",
    "    return pchg\n",
    "# 分层组合回测\n",
    "pchg_M = {}\n",
    "fig = plt.figure(figsize=(15,6))\n",
    "bar_width = 0.3\n",
    "x = np.array(range(1,11))\n",
    "for j in [\"HighOpen\", \"CloseLow\", \"VwapClose\"]:\n",
    "    tempPchg = []\n",
    "    for k in range(1,11):\n",
    "        pchg_M[j+str(k)] = GetPchg(k, factorData_M, j, begin_date, end_date, \"M\")\n",
    "        tempPchg.append(np.mean(pchg_M[j+str(k)]))\n",
    "    plt.bar(x, tempPchg, bar_width, label = j)\n",
    "    x = x + bar_width\n",
    "plt.xticks(range(1, len(tempPchg)+1))\n",
    "# 添加图例\n",
    "plt.legend()\n",
    "plt.show()\n",
    "\n"
   ]
  },
  {
   "cell_type": "markdown",
   "metadata": {},
   "source": [
    "上图展示的是以月为周期时，各个组合的月均收益情况，从分组收益可以看出，因子 HighOpen 以及 CloseOpen除了组合 1 外，其他组合基本符合两边组别收益低，中间组别收益高的非线性趋势，因子 VwapClose 基本符合这样的情况。  \n",
    "接下来，对以半月为调仓期的情况进行具体分析。"
   ]
  },
  {
   "cell_type": "code",
   "execution_count": 8,
   "metadata": {
    "code_folding": [
     0
    ]
   },
   "outputs": [
    {
     "data": {
      "image/png": "[encoded data removed]",
      "text/plain": [
       "<matplotlib.figure.Figure at 0x7f82e9646190>"
      ]
     },
     "metadata": {
      "needs_background": "light"
     },
     "output_type": "display_data"
    }
   ],
   "source": [
    "pchg_2W = {}\n",
    "fig = plt.figure(figsize=(15,6))\n",
    "bar_width = 0.3\n",
    "x = np.array(range(1,11))\n",
    "for j in [\"HighOpen\", \"CloseLow\", \"VwapClose\"]:\n",
    "    tempPchg = []\n",
    "    for k in range(1,11):\n",
    "        pchg_2W[j+str(k)] = GetPchg(k, factorData_2W, j, begin_date, end_date, \"2W\")\n",
    "        tempPchg.append(np.mean(pchg_2W[j+str(k)]))\n",
    "    plt.bar(x, tempPchg, bar_width, label = j)\n",
    "    x = x + bar_width\n",
    "plt.xticks(range(1, len(tempPchg)+1))\n",
    "# 添加图例\n",
    "plt.legend()\n",
    "plt.show()\n"
   ]
  },
  {
   "cell_type": "markdown",
   "metadata": {},
   "source": [
    "上图展示的以半月为调仓期的组合情况，从图中可知，基本上走势和以月为调仓期的情况相似，但是，以半月为调仓期的组合比以月为调仓期的组合月均收益更低，该结论与 IC 分析的结果一致。  \n",
    "接下来，对于每个组合的情况，通过下表的具体月均收益进行提现。"
   ]
  },
  {
   "cell_type": "code",
   "execution_count": 9,
   "metadata": {
    "code_folding": [
     0
    ]
   },
   "outputs": [
    {
     "data": {
      "image/png": "[encoded data removed]",
      "text/plain": [
       "<matplotlib.figure.Figure at 0x7f82b5346ad0>"
      ]
     },
     "metadata": {
      "needs_background": "light"
     },
     "output_type": "display_data"
    }
   ],
   "source": [
    "# 分层组合回测的具体数据以及多空组合\n",
    "IndexList = range(1,11) + [\"longshort\"]\n",
    "ColumnsList = [\"HighOpen_2W\", \"CloseLow_2W\", \"VwapClose_2W\", \"HighOpen_M\", \"CloseLow_M\", \"VwapClose_M\"]\n",
    "result = pd.DataFrame(index = IndexList, columns = ColumnsList)\n",
    "for i in [\"2W\", \"M\"]:\n",
    "    for j in [\"HighOpen\", \"CloseLow\", \"VwapClose\"]:\n",
    "        for k in range(1,11):\n",
    "            if i == \"2W\":\n",
    "                temp = np.mean(pchg_2W[j+str(k)])\n",
    "                result.loc[k, j+\"_\"+i] = temp\n",
    "                # 获取多空组合数据\n",
    "                result.loc[\"longshort\", j+\"_\"+i] = np.mean(pchg_2W[j+str(1)]) + np.mean(pchg_2W[j+str(10)]) \n",
    "            if i == \"M\":\n",
    "                temp = np.mean(pchg_M[j+str(k)])\n",
    "                result.loc[k, j+\"_\"+i] = temp \n",
    "                # 获取多空组合数据\n",
    "                result.loc[\"longshort\", j+\"_\"+i] = np.mean(pchg_M[j+str(1)]) + np.mean(pchg_M[j+str(10)]) \n",
    "result = result.astype(float)\n",
    "fig = plt.figure(figsize=(15,6))\n",
    "ax = fig.add_subplot(111)\n",
    "sns.heatmap(result, annot=True, vmax=1, vmin = 0)\n",
    "fig.show()\n"
   ]
  },
  {
   "cell_type": "markdown",
   "metadata": {},
   "source": [
    "上表展示了不同组合的月均收益以及对应的多空组合，从多空组合收益来看，三个因子均在以月为调仓期的情况下能够获得更高的收益，且因子 HighOpen > CloseLow > VwapClose。  \n",
    "接下来，对不同因子不同构建期的组合，选择前 10% 股票构建的组合每年收益以及胜率（是否获得正收益）进行分析。"
   ]
  },
  {
   "cell_type": "code",
   "execution_count": 10,
   "metadata": {
    "code_folding": [
     0
    ]
   },
   "outputs": [
    {
     "data": {
      "image/png": "[encoded data removed]",
      "text/plain": [
       "<matplotlib.figure.Figure at 0x7f82b46821d0>"
      ]
     },
     "metadata": {
      "needs_background": "light"
     },
     "output_type": "display_data"
    }
   ],
   "source": [
    "IndexList = [\"2013\", \"2014\", \"2015\", \"2016\", \"2017\"]\n",
    "result = pd.DataFrame(index = IndexList)\n",
    "for period in [\"2W\", \"M\"]:\n",
    "    for factor in [\"HighOpen\", \"CloseLow\", \"VwapClose\"]:\n",
    "        rate = []\n",
    "        ret = []\n",
    "        for k in range(len(IndexList)):\n",
    "            if period == \"2W\":\n",
    "                temp = pchg_2W[factor+str(1)][k*len(pchg_2W[factor+str(1)])/len(IndexList):(k+1)*len(pchg_2W[factor+str(1)])/len(IndexList)]\n",
    "                rate.append(len([i for i in temp if i>0]) / float(len(temp)))\n",
    "                tempSum = 1\n",
    "                for a in temp:\n",
    "                    tempSum *= 1+a\n",
    "                ret.append(tempSum - 1)\n",
    "            if period == \"M\":\n",
    "                temp = pchg_M[factor+str(1)][k*len(pchg_M[factor+str(1)])/len(IndexList):(k+1)*len(pchg_M[factor+str(1)])/len(IndexList)]\n",
    "                rate.append(len([i for i in temp if i>0]) / float(len(temp)))\n",
    "                tempSum = 1\n",
    "                for a in temp:\n",
    "                    tempSum *= 1+a\n",
    "                ret.append(tempSum - 1)\n",
    "        result[\"TotalRet_\" + factor + \"_\" + period] = ret\n",
    "        result[\"WinRate_\" + factor + \"_\" + period] = rate\n",
    "\n",
    "result = result.astype(float)\n",
    "fig = plt.figure(figsize=(15,6))\n",
    "ax = fig.add_subplot(111)\n",
    "sns.heatmap(result, annot=True, vmax=1, vmin = 0)\n",
    "fig.show()\n"
   ]
  },
  {
   "cell_type": "markdown",
   "metadata": {},
   "source": [
    "上表展示了不同组合的每年收益以及对应的胜率，从表中可以看出：  \n",
    "（1）每个组合均在除 2017 年以外的每一年获得正收益且胜率基本上大于 60%；  \n",
    "（2）以月为调仓期的组合能够获得很明显更高的收益。"
   ]
  },
  {
   "cell_type": "markdown",
   "metadata": {},
   "source": [
    "# 3 因子正交化处理"
   ]
  },
  {
   "cell_type": "markdown",
   "metadata": {},
   "source": [
    "第 2 章对因子的有效性进行了具体分析，但是考虑到分层回测的单调性不好，因此引用行业、市值、贝塔、动量、残差波动率以及非线性市值 6 个因子，进行正交处理并构建对应的正交因子，然后对正交因子进行因子有效性分析。"
   ]
  },
  {
   "cell_type": "markdown",
   "metadata": {},
   "source": [
    "## 3.1 数据获取"
   ]
  },
  {
   "cell_type": "code",
   "execution_count": 11,
   "metadata": {
    "code_folding": [
     0
    ]
   },
   "outputs": [
    {
     "name": "stdout",
     "output_type": "stream",
     "text": [
      "('Time used:', 95.68705699999987)\n"
     ]
    }
   ],
   "source": [
    "start = time.clock()\n",
    "begin_date = '2013-01-01'\n",
    "end_date = '2018-01-01'\n",
    "dateList = get_period_date('M',begin_date, end_date)\n",
    "for date in dateList:\n",
    "    tempData = factorData_M[date]\n",
    "    # 对原始因子进行中性化处理\n",
    "    tempData = neutralize(tempData, how=[\"sw_l1\", \"size\", \"beta\", \"momentum\", \"residual_volatility\", \"non_linear_size\"], date=date, axis=0, fillna=None, add_constant=False)\n",
    "    factorData_M[date] = tempData\n",
    "elapsed = (time.clock() - start)\n",
    "print(\"Time used:\",elapsed)\n"
   ]
  },
  {
   "cell_type": "code",
   "execution_count": 12,
   "metadata": {
    "code_folding": [
     0
    ]
   },
   "outputs": [
    {
     "name": "stdout",
     "output_type": "stream",
     "text": [
      "('Time used:', 211.58337600000004)\n"
     ]
    }
   ],
   "source": [
    "start = time.clock()\n",
    "begin_date = '2013-01-01'\n",
    "end_date = '2018-01-01'\n",
    "dateList = get_period_date('2W',begin_date, end_date)\n",
    "for date in dateList:\n",
    "    tempData = factorData_2W[date]\n",
    "    # 对原始因子进行中性化处理\n",
    "    tempData = neutralize(tempData, how=[\"sw_l1\", \"size\", \"beta\", \"momentum\", \"residual_volatility\", \"non_linear_size\"], date=date, axis=0, fillna=None, add_constant=False)\n",
    "    factorData_2W[date] = tempData\n",
    "elapsed = (time.clock() - start)\n",
    "print(\"Time used:\",elapsed)\n"
   ]
  },
  {
   "cell_type": "markdown",
   "metadata": {},
   "source": [
    "## 3.2 因子有效性分析"
   ]
  },
  {
   "cell_type": "markdown",
   "metadata": {},
   "source": [
    "### 3.2.1 因子 IC 分析"
   ]
  },
  {
   "cell_type": "markdown",
   "metadata": {},
   "source": [
    "首先，对正交化后的各个因子进行 IC 分析，分析内容和前面类似。 "
   ]
  },
  {
   "cell_type": "code",
   "execution_count": 13,
   "metadata": {
    "code_folding": [
     0
    ]
   },
   "outputs": [
    {
     "data": {
      "image/png": "[encoded data removed]",
      "text/plain": [
       "<matplotlib.figure.Figure at 0x7f82e8d26dd0>"
      ]
     },
     "metadata": {
      "needs_background": "light"
     },
     "output_type": "display_data"
    }
   ],
   "source": [
    "IndexList = [\"HighOpen_2W\", \"CloseLow_2W\", \"VwapClose_2W\", \"HighOpen_M\", \"CloseLow_M\", \"VwapClose_M\"]\n",
    "ColumnsList = [\"IC\", \"IR\", \"RankIC\", \"RankIR\"]\n",
    "IC = pd.DataFrame(index = IndexList, columns = ColumnsList)\n",
    "for i in [\"2W\", \"M\"]:\n",
    "    for j in [\"HighOpen\", \"CloseLow\", \"VwapClose\"]:\n",
    "        if i == \"2W\":\n",
    "            # 获取 IC 分析结果\n",
    "            tempIC = factor_IC_analysis(factorData_2W, j, begin_date, end_date, i)\n",
    "        if i == \"M\":\n",
    "            tempIC = factor_IC_analysis(factorData_M, j, begin_date, end_date, i)\n",
    "        # 结果保存\n",
    "        IC.loc[j + \"_\" + i, \"IC\"] = tempIC[0].mean()\n",
    "        IC.loc[j + \"_\" + i, \"IR\"] = tempIC[0].mean() / tempIC[0].std()\n",
    "        IC.loc[j + \"_\" + i, \"RankIC\"] = tempIC[1].mean()\n",
    "        IC.loc[j + \"_\" + i, \"RankIR\"] = tempIC[1].mean() / tempIC[1].std()\n",
    "# 结果展示\n",
    "IC = IC.astype(float)\n",
    "fig = plt.figure(figsize=(15,6))\n",
    "ax = fig.add_subplot(111)\n",
    "sns.heatmap(IC, annot=True, vmax=1, vmin = 0)\n",
    "ax.set_title(\"IC / IR\", fontsize=21)\n",
    "fig.show()"
   ]
  },
  {
   "cell_type": "markdown",
   "metadata": {},
   "source": [
    "上表展示了正交化后的各个因子 IC 值，从表中可以看出，正交化后因子与不进行正交化之前，IC 值变化不明显，但是 IR 得到了明显提升，可见正交化操作能够提高因子的稳定性。"
   ]
  },
  {
   "cell_type": "markdown",
   "metadata": {},
   "source": [
    "### 3.2.2 分层组合回测分析"
   ]
  },
  {
   "cell_type": "code",
   "execution_count": 14,
   "metadata": {
    "code_folding": [
     0
    ]
   },
   "outputs": [
    {
     "data": {
      "image/png": "[encoded data removed]",
      "text/plain": [
       "<matplotlib.figure.Figure at 0x7f82b45fd290>"
      ]
     },
     "metadata": {
      "needs_background": "light"
     },
     "output_type": "display_data"
    }
   ],
   "source": [
    "pchg_M = {}\n",
    "fig = plt.figure(figsize=(15,6))\n",
    "bar_width = 0.3\n",
    "x = np.array(range(1,11))\n",
    "for j in [\"HighOpen\", \"CloseLow\", \"VwapClose\"]:\n",
    "    tempPchg = []\n",
    "    # 获取分层回测结果\n",
    "    for k in range(1,11):\n",
    "        pchg_M[j+str(k)] = GetPchg(k, factorData_M, j, begin_date, end_date, \"M\")\n",
    "        tempPchg.append(np.mean(pchg_M[j+str(k)]))\n",
    "    plt.bar(x, tempPchg, bar_width, label = j)\n",
    "    x = x + bar_width\n",
    "plt.xticks(range(1, len(tempPchg)+1))\n",
    "# 添加图例\n",
    "plt.legend()\n",
    "plt.show()\n"
   ]
  },
  {
   "cell_type": "code",
   "execution_count": 15,
   "metadata": {
    "code_folding": [
     0
    ]
   },
   "outputs": [
    {
     "data": {
      "image/png": "[encoded data removed]",
      "text/plain": [
       "<matplotlib.figure.Figure at 0x7f82b5354150>"
      ]
     },
     "metadata": {
      "needs_background": "light"
     },
     "output_type": "display_data"
    }
   ],
   "source": [
    "pchg_2W = {}\n",
    "fig = plt.figure(figsize=(15,6))\n",
    "bar_width = 0.3\n",
    "x = np.array(range(1,11))\n",
    "for j in [\"HighOpen\", \"CloseLow\", \"VwapClose\"]:\n",
    "    tempPchg = []\n",
    "    # 获取分层回测结果\n",
    "    for k in range(1,11):\n",
    "        pchg_2W[j+str(k)] = GetPchg(k, factorData_2W, j, begin_date, end_date, \"2W\")\n",
    "        tempPchg.append(np.mean(pchg_2W[j+str(k)]))\n",
    "    plt.bar(x, tempPchg, bar_width, label = j)\n",
    "    x = x + bar_width\n",
    "plt.xticks(range(1, len(tempPchg)+1))\n",
    "# 添加图例\n",
    "plt.legend()\n",
    "plt.show()\n"
   ]
  },
  {
   "cell_type": "markdown",
   "metadata": {},
   "source": [
    "上面两张图展示的分别是以月为调仓期和以半月为调仓期的结果，从图中可以看出，正交化后因子，分层单调性有了很明显的提升，由次可以看出正交化结果能够使得因子有效性得到进一步加强。"
   ]
  },
  {
   "cell_type": "markdown",
   "metadata": {},
   "source": [
    "# 4 多因子模型回测"
   ]
  },
  {
   "cell_type": "markdown",
   "metadata": {},
   "source": [
    "## 4.1 横截面收益率回归"
   ]
  },
  {
   "cell_type": "markdown",
   "metadata": {},
   "source": [
    "接下来，从回归法的角度讨论因子在加入到模型后的额外选股能力具体回归方程如下所示：  \n",
    "<center> $r_{i,t} = \\alpha_t + \\beta_{1,t}size_{i,t} + \\beta_{2,t}Beta_{i,t} + \\beta_{3,t}momentum_{i,t} + \\beta_{4,t}residual\\_volatility_{i,t}  + \\beta_{5,t}non\\_linear\\_size_{i,t} + \\epsilon_{i,t}$ </center>  \n",
    "其中，size 表示市值，beta 表示股票相对于市场的波动敏感度，momentum 表示过去两年里相对强势的股票与弱势股票之间的差异，residual_volatility 表示剥离了市场风险后的波动率高低产生的收益率差异，non_linear_size 表示无法由规模因子解释的但与规模有关的收益差异。"
   ]
  },
  {
   "cell_type": "code",
   "execution_count": 16,
   "metadata": {
    "code_folding": [
     0
    ]
   },
   "outputs": [
    {
     "name": "stdout",
     "output_type": "stream",
     "text": [
      "('Time used:', 30.592061999999714)\n"
     ]
    }
   ],
   "source": [
    "from jqfactor import get_factor_values\n",
    "\n",
    "start = time.clock()\n",
    "begin_date = '2013-01-01'\n",
    "end_date = '2018-01-01'\n",
    "dateList = get_period_date('M',begin_date, end_date)\n",
    "for date in dateList:\n",
    "    tempData = factorData_M[date]\n",
    "    stockList = list(tempData.index)\n",
    "    # 获取 5 因子数据并保存\n",
    "    temp = get_factor_values(stockList, [\"size\", \"beta\", \"momentum\", \"residual_volatility\", \"non_linear_size\"], end_date = date, count = 1)\n",
    "    tempData[\"size\"] = temp[\"size\"].iloc[0]\n",
    "    tempData[\"beta\"] = temp[\"beta\"].iloc[0]\n",
    "    tempData[\"momentum\"] = temp[\"momentum\"].iloc[0]\n",
    "    tempData[\"residual_volatility\"] = temp[\"residual_volatility\"].iloc[0]\n",
    "    tempData[\"non_linear_size\"] = temp[\"non_linear_size\"].iloc[0]\n",
    "    tempData = standardlize(tempData, axis=0)\n",
    "    factorData_M[date] = tempData\n",
    "elapsed = (time.clock() - start)\n",
    "print(\"Time used:\",elapsed)\n"
   ]
  },
  {
   "cell_type": "code",
   "execution_count": 17,
   "metadata": {
    "code_folding": [
     0
    ]
   },
   "outputs": [
    {
     "name": "stdout",
     "output_type": "stream",
     "text": [
      "调整 r2 值:  0.0683815804623\n"
     ]
    },
    {
     "data": {
      "text/html": [
       "<div>\n",
       "<table border=\"1\" class=\"dataframe\">\n",
       "  <thead>\n",
       "    <tr style=\"text-align: right;\">\n",
       "      <th></th>\n",
       "      <th>size</th>\n",
       "      <th>beta</th>\n",
       "      <th>momentum</th>\n",
       "      <th>residual_volatility</th>\n",
       "      <th>non_linear_size</th>\n",
       "      <th>HighOpen</th>\n",
       "      <th>CloseLow</th>\n",
       "      <th>VwapClose</th>\n",
       "    </tr>\n",
       "  </thead>\n",
       "  <tbody>\n",
       "    <tr>\n",
       "      <th>t 统计量</th>\n",
       "      <td>-2.930224</td>\n",
       "      <td>-1.232884</td>\n",
       "      <td>1.000269</td>\n",
       "      <td>-2.172425</td>\n",
       "      <td>-2.130718</td>\n",
       "      <td>-0.789071</td>\n",
       "      <td>0.323366</td>\n",
       "      <td>1.727728</td>\n",
       "    </tr>\n",
       "    <tr>\n",
       "      <th>因子收益率</th>\n",
       "      <td>-0.009421</td>\n",
       "      <td>-0.003106</td>\n",
       "      <td>0.003108</td>\n",
       "      <td>-0.005486</td>\n",
       "      <td>-0.005793</td>\n",
       "      <td>-0.004701</td>\n",
       "      <td>0.001457</td>\n",
       "      <td>0.005905</td>\n",
       "    </tr>\n",
       "  </tbody>\n",
       "</table>\n",
       "</div>"
      ],
      "text/plain": [
       "           size      beta  momentum  residual_volatility  non_linear_size  \\\n",
       "t 统计量 -2.930224 -1.232884  1.000269            -2.172425        -2.130718   \n",
       "因子收益率 -0.009421 -0.003106  0.003108            -0.005486        -0.005793   \n",
       "\n",
       "       HighOpen  CloseLow  VwapClose  \n",
       "t 统计量 -0.789071  0.323366   1.727728  \n",
       "因子收益率 -0.004701  0.001457   0.005905  "
      ]
     },
     "execution_count": 17,
     "metadata": {},
     "output_type": "execute_result"
    }
   ],
   "source": [
    "def LRData(factorData, Fields):\n",
    "    result_t = pd.DataFrame()\n",
    "    result_params = pd.DataFrame()\n",
    "    result_r2 = []\n",
    "    for date in dateList[:-1]:\n",
    "        R_T = pd.DataFrame()\n",
    "        #取股票池\n",
    "        stockList = list(factorData[date].index)\n",
    "        #获取横截面收益率\n",
    "        df_close = get_price(stockList, date, dateList[dateList.index(date)+1], 'daily', ['close'])\n",
    "        if df_close.empty:\n",
    "            continue\n",
    "        df_pchg=df_close['close'].iloc[-1,:]/df_close['close'].iloc[0,:]-1\n",
    "        R_T['pchg'] = df_pchg\n",
    "        #获取因子数据\n",
    "        factor_data = factorData[date]\n",
    "        R_T[Fields] = factor_data[Fields]\n",
    "        R_T = R_T.dropna()\n",
    "        X = R_T[Fields]\n",
    "        y = R_T['pchg']   \n",
    "        # WLS回归\n",
    "        wls = sm.OLS(y, X)\n",
    "        result = wls.fit()\n",
    "        tvalues = result.tvalues\n",
    "        params = result.params\n",
    "        r2 = result.rsquared_adj\n",
    "        result_t[date] = tvalues\n",
    "        result_params[date] = params\n",
    "        result_r2.append(r2)\n",
    "    result = pd.DataFrame()\n",
    "    result['t 统计量'] = result_t.mean(axis = 1)\n",
    "    result['因子收益率'] = result_params.mean(axis = 1)\n",
    "    print \"调整 r2 值: \", np.nanmean(result_r2)\n",
    "\n",
    "    return result.T\n",
    "# 对多因子模型进行回归\n",
    "Fields = [\"size\", \"beta\", \"momentum\", \"residual_volatility\", \"non_linear_size\", \"HighOpen\", \"CloseLow\", \"VwapClose\"]\n",
    "LRData(factorData_M, Fields)\n",
    "\n"
   ]
  },
  {
   "cell_type": "markdown",
   "metadata": {},
   "source": [
    "上表展示的结果为三个以月为调仓期的因子在加入市值、贝塔、动量、残差波动率以及非线性市值这 5 个因子后，各个因子的 t 统计量以及对应的因子收益率，根据表中结果可知，size、non_linear_size 以及 residual_volatility 对股票收益贡献最大，其次是因子 VwapClose。"
   ]
  },
  {
   "cell_type": "markdown",
   "metadata": {},
   "source": [
    "## 4.2 纯多头组合"
   ]
  },
  {
   "cell_type": "markdown",
   "metadata": {},
   "source": [
    "参考前面分析的模型，可分为原始模型（5 因子模型）以及添加不同因子的改进模型，基于 2013 - 2018 年这 5 年的数据，对每个模型，通过等权的方式，实现对未来收益的预测，并筛选出预测收益最高的 100 只股票，构建相对应的组合，下面对每个模型的组合进行分析。"
   ]
  },
  {
   "cell_type": "code",
   "execution_count": 18,
   "metadata": {
    "code_folding": [
     0
    ]
   },
   "outputs": [
    {
     "data": {
      "text/html": [
       "<div>\n",
       "<table border=\"1\" class=\"dataframe\">\n",
       "  <thead>\n",
       "    <tr style=\"text-align: right;\">\n",
       "      <th></th>\n",
       "      <th>TotalRet</th>\n",
       "      <th>AnnRet</th>\n",
       "      <th>Vola</th>\n",
       "      <th>WinRate</th>\n",
       "      <th>SR</th>\n",
       "    </tr>\n",
       "  </thead>\n",
       "  <tbody>\n",
       "    <tr>\n",
       "      <th>Origin</th>\n",
       "      <td>18.4815</td>\n",
       "      <td>0.8110251</td>\n",
       "      <td>0.1048673</td>\n",
       "      <td>0.7166667</td>\n",
       "      <td>7.352388</td>\n",
       "    </tr>\n",
       "    <tr>\n",
       "      <th>HighOpen</th>\n",
       "      <td>24.29106</td>\n",
       "      <td>0.9080661</td>\n",
       "      <td>0.1032213</td>\n",
       "      <td>0.75</td>\n",
       "      <td>8.409755</td>\n",
       "    </tr>\n",
       "    <tr>\n",
       "      <th>CloseLow</th>\n",
       "      <td>9.428401</td>\n",
       "      <td>0.5982457</td>\n",
       "      <td>0.109454</td>\n",
       "      <td>0.6666667</td>\n",
       "      <td>5.100279</td>\n",
       "    </tr>\n",
       "    <tr>\n",
       "      <th>VwapClose</th>\n",
       "      <td>22.20143</td>\n",
       "      <td>0.875439</td>\n",
       "      <td>0.1133322</td>\n",
       "      <td>0.7166667</td>\n",
       "      <td>7.371595</td>\n",
       "    </tr>\n",
       "  </tbody>\n",
       "</table>\n",
       "</div>"
      ],
      "text/plain": [
       "           TotalRet     AnnRet       Vola    WinRate        SR\n",
       "Origin      18.4815  0.8110251  0.1048673  0.7166667  7.352388\n",
       "HighOpen   24.29106  0.9080661  0.1032213       0.75  8.409755\n",
       "CloseLow   9.428401  0.5982457   0.109454  0.6666667  5.100279\n",
       "VwapClose  22.20143   0.875439  0.1133322  0.7166667  7.371595"
      ]
     },
     "execution_count": 18,
     "metadata": {},
     "output_type": "execute_result"
    }
   ],
   "source": [
    "def GetPchg_100(factorData, Field, begin_date, end_date):\n",
    "    dateList = get_period_date('M',begin_date, end_date)\n",
    "    pchg = []\n",
    "    # 交易手续费\n",
    "    cost = 0.002\n",
    "    for date in dateList[:-1]:\n",
    "        tempData = factorData[date].copy()\n",
    "        # 各因子等权\n",
    "        temp = -tempData[\"size\"] - tempData[\"beta\"] +  tempData[\"momentum\"] - tempData[\"residual_volatility\"] - tempData[\"non_linear_size\"]\n",
    "        if Field == \"HighOpen\":\n",
    "            temp += -tempData[\"HighOpen\"]\n",
    "        if Field == \"CloseLow\":\n",
    "            temp += tempData[\"CloseLow\"]\n",
    "        if Field == \"VwapClose\":\n",
    "            temp += tempData[\"VwapClose\"]\n",
    "        # 因子排序\n",
    "        temp.sort(ascending = False)\n",
    "        stockList = list(temp.index)\n",
    "        # 获取前 100 只股票作为股票池\n",
    "        stocks = stockList[:100]\n",
    "        df_close = get_price(stocks, date, dateList[dateList.index(date)+1], 'daily', ['close'])['close']\n",
    "        pchg.append(np.mean(df_close.iloc[-1] / df_close.iloc[0] - 1) - cost)\n",
    "    # 风险收益指标计算\n",
    "    netValue = 1\n",
    "    for i in pchg:\n",
    "        netValue *= 1+i\n",
    "    totalRet = netValue - 1\n",
    "    annRet = pow(1+totalRet, 0.2) - 1\n",
    "    winRate = len([i for i in pchg if i>0]) / float(len(pchg))\n",
    "    volati = np.std(pchg)\n",
    "    SR = (annRet - 0.04) / volati\n",
    "    return [totalRet, annRet, volati, winRate, SR]\n",
    "\n",
    "Fields = [\"Origin\", \"HighOpen\", \"CloseLow\", \"VwapClose\"]\n",
    "result = pd.DataFrame(index = Fields, columns = [\"TotalRet\", \"AnnRet\", \"Vola\", \"WinRate\", \"SR\"])\n",
    "\n",
    "for field in Fields:\n",
    "    result.loc[field,:] = GetPchg_100(factorData_M, field, begin_date, end_date)\n",
    "result\n"
   ]
  },
  {
   "cell_type": "markdown",
   "metadata": {},
   "source": [
    "上表展示了不同模型的组合收益情况，从表中可知，在加入因子 HighOpen 或者因子 VwapClose 后，模型收益能力和风险控制能力相比原始模型均得到了较大提升。加入因子 HighOpen 对模型收益贡献最大，且对应模型的波动性最低，使得模型的夏普比率在所有模型中最大。"
   ]
  },
  {
   "cell_type": "markdown",
   "metadata": {},
   "source": [
    "# 结论"
   ]
  },
  {
   "cell_type": "markdown",
   "metadata": {},
   "source": [
    "海通金工本篇报告的研究主要测试了三种价格类因子的选股效果，即 HighOpen、CloseLow 和 VwapClose。\n",
    "本文通过上述分析，得到了以下结论：  \n",
    "（1）通过对这三种价格类因子的因子有效性分析结果来看，三种因子均有较好的选股能力，针对不同的观察期，月度因子比半月度因子具有更强的选股能力，但是相对而言，这三种因子的分层回测单调性不足；  \n",
    "（2）通过将这三种因子与行业、市值、贝塔、动量、残差波动率以及非线性市值这 6 个因子进行正交化处理，分析结果可知正交化因子预测稳定性得到较大提升，因子的分层回测单调性得到增强；  \n",
    "（3）对多因子模型进行回测分析，分别从横截面收益率回归和纯多头组合这两方面进行分析，根据分析结果来看，在加入因子 HighOpen 或者因子 VwapClose 后，模型收益能力和风险控制能力相比原始模型均得到了较大提升。"
   ]
  }
 ],
 "metadata": {
  "kernelspec": {
   "display_name": "Python 2",
   "language": "python",
   "name": "python2"
  },
  "language_info": {
   "codemirror_mode": {
    "name": "ipython",
    "version": 2
   },
   "file_extension": ".py",
   "mimetype": "text/x-python",
   "name": "python",
   "nbconvert_exporter": "python",
   "pygments_lexer": "ipython2",
   "version": "2.7.10"
  },
  "toc": {
   "base_numbering": 1,
   "nav_menu": {},
   "number_sections": false,
   "sideBar": true,
   "skip_h1_title": false,
   "title_cell": "MarkDown菜单",
   "title_sidebar": "Contents",
   "toc_cell": false,
   "toc_position": {},
   "toc_section_display": true,
   "toc_window_display": false
  }
 },
 "nbformat": 4,
 "nbformat_minor": 2
}
