{
 "cells": [
  {
   "cell_type": "markdown",
   "metadata": {},
   "source": [
    "# 识别趋势震荡之神器 MESA --最大熵谱分析（一）：滤波器模型建立"
   ]
  },
  {
   "cell_type": "markdown",
   "metadata": {},
   "source": [
    "### 导入需要的Package"
   ]
  },
  {
   "cell_type": "code",
   "execution_count": 2,
   "metadata": {},
   "outputs": [
    {
     "name": "stdout",
     "output_type": "stream",
     "text": [
      "提示：当前环境pandas版本为0.25，get_price与get_fundamentals_continuously接口panel参数将固定为False\n",
      "注意：0.25以上版本pandas不支持panel，如使用该数据结构和相关函数请注意修改\n",
      "auth success \n"
     ]
    }
   ],
   "source": [
    "# 风险及免责提示：该策略由聚宽用户在聚宽社区分享，仅供学习交流使用。\n",
    "# 原文一般包含策略说明，如有疑问请到原文和作者交流讨论。\n",
    "# 原文网址：https://www.joinquant.com/view/community/detail/28235\n",
    "# 标题：识别趋势震荡之神器 MESA最大熵谱分析（一）：滤波器建立\n",
    "\n",
    "from jqdatasdk import * \n",
    "auth('user_name','password')"
   ]
  },
  {
   "cell_type": "code",
   "execution_count": 3,
   "metadata": {},
   "outputs": [],
   "source": [
    "import matplotlib.pyplot as plt\n",
    "import numpy as np\n",
    "import tushare as ts\n",
    "import seaborn as sns\n",
    "import pandas as pd\n",
    "import statsmodels.tsa.api as smt"
   ]
  },
  {
   "cell_type": "code",
   "execution_count": 4,
   "metadata": {},
   "outputs": [],
   "source": [
    "from statsmodels.tsa.ar_model import AutoReg, ar_select_order"
   ]
  },
  {
   "cell_type": "code",
   "execution_count": 5,
   "metadata": {},
   "outputs": [],
   "source": [
    "import statsmodels.api as sm\n",
    "import scipy.stats as scs\n",
    "from arch import arch_model"
   ]
  },
  {
   "cell_type": "code",
   "execution_count": 6,
   "metadata": {},
   "outputs": [],
   "source": [
    "from statsmodels.tsa.api import acf, pacf, graphics"
   ]
  },
  {
   "cell_type": "code",
   "execution_count": 7,
   "metadata": {},
   "outputs": [],
   "source": [
    "import math"
   ]
  },
  {
   "cell_type": "code",
   "execution_count": 19,
   "metadata": {},
   "outputs": [],
   "source": [
    "from statsmodels.tsa.stattools import adfuller as ADF"
   ]
  },
  {
   "cell_type": "markdown",
   "metadata": {},
   "source": [
    "## 取分钟级数据，在可能的情况下尽可能取更细致的数据，避免信息丢失"
   ]
  },
  {
   "cell_type": "code",
   "execution_count": 8,
   "metadata": {},
   "outputs": [],
   "source": [
    "start_date = '2020-06-01'\n",
    "end_date = '2020-07-02'"
   ]
  },
  {
   "cell_type": "code",
   "execution_count": 9,
   "metadata": {},
   "outputs": [
    {
     "data": {
      "text/html": [
       "<div>\n",
       "\n",
       "    .dataframe tbody tr th:only-of-type {\n",
       "        vertical-align: middle;\n",
       "    }\n",
       "\n",
       "    .dataframe tbody tr th {\n",
       "        vertical-align: top;\n",
       "    }\n",
       "\n",
       "    .dataframe thead th {\n",
       "        text-align: right;\n",
       "    }\n",
       "\n",
       "<table border=\"1\" class=\"dataframe\">\n",
       "  <thead>\n",
       "    <tr style=\"text-align: right;\">\n",
       "      <th></th>\n",
       "      <th>open</th>\n",
       "      <th>close</th>\n",
       "      <th>high</th>\n",
       "      <th>low</th>\n",
       "      <th>volume</th>\n",
       "      <th>money</th>\n",
       "    </tr>\n",
       "  </thead>\n",
       "  <tbody>\n",
       "    <tr>\n",
       "      <td>2020-06-01 09:31:00</td>\n",
       "      <td>3901.73</td>\n",
       "      <td>3916.87</td>\n",
       "      <td>3917.83</td>\n",
       "      <td>3901.73</td>\n",
       "      <td>472712900.0</td>\n",
       "      <td>6.809592e+09</td>\n",
       "    </tr>\n",
       "    <tr>\n",
       "      <td>2020-06-01 09:32:00</td>\n",
       "      <td>3916.79</td>\n",
       "      <td>3923.65</td>\n",
       "      <td>3923.65</td>\n",
       "      <td>3916.79</td>\n",
       "      <td>226349200.0</td>\n",
       "      <td>3.454604e+09</td>\n",
       "    </tr>\n",
       "    <tr>\n",
       "      <td>2020-06-01 09:33:00</td>\n",
       "      <td>3924.91</td>\n",
       "      <td>3927.14</td>\n",
       "      <td>3927.37</td>\n",
       "      <td>3924.91</td>\n",
       "      <td>178812600.0</td>\n",
       "      <td>2.848020e+09</td>\n",
       "    </tr>\n",
       "    <tr>\n",
       "      <td>2020-06-01 09:34:00</td>\n",
       "      <td>3925.79</td>\n",
       "      <td>3919.52</td>\n",
       "      <td>3925.79</td>\n",
       "      <td>3919.52</td>\n",
       "      <td>163042800.0</td>\n",
       "      <td>2.826398e+09</td>\n",
       "    </tr>\n",
       "    <tr>\n",
       "      <td>2020-06-01 09:35:00</td>\n",
       "      <td>3918.91</td>\n",
       "      <td>3921.59</td>\n",
       "      <td>3922.56</td>\n",
       "      <td>3918.22</td>\n",
       "      <td>140899600.0</td>\n",
       "      <td>2.471371e+09</td>\n",
       "    </tr>\n",
       "    <tr>\n",
       "      <td>...</td>\n",
       "      <td>...</td>\n",
       "      <td>...</td>\n",
       "      <td>...</td>\n",
       "      <td>...</td>\n",
       "      <td>...</td>\n",
       "      <td>...</td>\n",
       "    </tr>\n",
       "    <tr>\n",
       "      <td>2020-07-01 14:56:00</td>\n",
       "      <td>4243.52</td>\n",
       "      <td>4245.06</td>\n",
       "      <td>4245.68</td>\n",
       "      <td>4243.52</td>\n",
       "      <td>123488600.0</td>\n",
       "      <td>1.943141e+09</td>\n",
       "    </tr>\n",
       "    <tr>\n",
       "      <td>2020-07-01 14:57:00</td>\n",
       "      <td>4244.97</td>\n",
       "      <td>4247.09</td>\n",
       "      <td>4247.09</td>\n",
       "      <td>4244.97</td>\n",
       "      <td>120538000.0</td>\n",
       "      <td>2.129668e+09</td>\n",
       "    </tr>\n",
       "    <tr>\n",
       "      <td>2020-07-01 14:58:00</td>\n",
       "      <td>4247.35</td>\n",
       "      <td>4247.34</td>\n",
       "      <td>4247.35</td>\n",
       "      <td>4247.34</td>\n",
       "      <td>5043000.0</td>\n",
       "      <td>8.953286e+07</td>\n",
       "    </tr>\n",
       "    <tr>\n",
       "      <td>2020-07-01 14:59:00</td>\n",
       "      <td>4247.34</td>\n",
       "      <td>4247.34</td>\n",
       "      <td>4247.34</td>\n",
       "      <td>4247.34</td>\n",
       "      <td>0.0</td>\n",
       "      <td>0.000000e+00</td>\n",
       "    </tr>\n",
       "    <tr>\n",
       "      <td>2020-07-01 15:00:00</td>\n",
       "      <td>4247.34</td>\n",
       "      <td>4247.78</td>\n",
       "      <td>4247.78</td>\n",
       "      <td>4247.27</td>\n",
       "      <td>224729100.0</td>\n",
       "      <td>3.573373e+09</td>\n",
       "    </tr>\n",
       "  </tbody>\n",
       "</table>\n",
       "<p>5040 rows × 6 columns</p>\n",
       "</div>"
      ],
      "text/plain": [
       "                        open    close     high      low       volume  \\\n",
       "2020-06-01 09:31:00  3901.73  3916.87  3917.83  3901.73  472712900.0   \n",
       "2020-06-01 09:32:00  3916.79  3923.65  3923.65  3916.79  226349200.0   \n",
       "2020-06-01 09:33:00  3924.91  3927.14  3927.37  3924.91  178812600.0   \n",
       "2020-06-01 09:34:00  3925.79  3919.52  3925.79  3919.52  163042800.0   \n",
       "2020-06-01 09:35:00  3918.91  3921.59  3922.56  3918.22  140899600.0   \n",
       "...                      ...      ...      ...      ...          ...   \n",
       "2020-07-01 14:56:00  4243.52  4245.06  4245.68  4243.52  123488600.0   \n",
       "2020-07-01 14:57:00  4244.97  4247.09  4247.09  4244.97  120538000.0   \n",
       "2020-07-01 14:58:00  4247.35  4247.34  4247.35  4247.34    5043000.0   \n",
       "2020-07-01 14:59:00  4247.34  4247.34  4247.34  4247.34          0.0   \n",
       "2020-07-01 15:00:00  4247.34  4247.78  4247.78  4247.27  224729100.0   \n",
       "\n",
       "                            money  \n",
       "2020-06-01 09:31:00  6.809592e+09  \n",
       "2020-06-01 09:32:00  3.454604e+09  \n",
       "2020-06-01 09:33:00  2.848020e+09  \n",
       "2020-06-01 09:34:00  2.826398e+09  \n",
       "2020-06-01 09:35:00  2.471371e+09  \n",
       "...                           ...  \n",
       "2020-07-01 14:56:00  1.943141e+09  \n",
       "2020-07-01 14:57:00  2.129668e+09  \n",
       "2020-07-01 14:58:00  8.953286e+07  \n",
       "2020-07-01 14:59:00  0.000000e+00  \n",
       "2020-07-01 15:00:00  3.573373e+09  \n",
       "\n",
       "[5040 rows x 6 columns]"
      ]
     },
     "execution_count": 9,
     "metadata": {},
     "output_type": "execute_result"
    }
   ],
   "source": [
    "df = get_price('000300.XSHG', start_date = start_date, end_date = end_date, frequency = 'minute')\n",
    "df"
   ]
  },
  {
   "cell_type": "code",
   "execution_count": 10,
   "metadata": {},
   "outputs": [
    {
     "name": "stderr",
     "output_type": "stream",
     "text": [
      "/Users/hongrendemac/opt/anaconda3/lib/python3.7/site-packages/pandas/plotting/_matplotlib/converter.py:103: FutureWarning: Using an implicitly registered datetime converter for a matplotlib plotting method. The converter was registered by pandas on import. Future versions of pandas will require you to explicitly register matplotlib converters.\n",
      "\n",
      "To register the converters:\n",
      "\t>>> from pandas.plotting import register_matplotlib_converters\n",
      "\t>>> register_matplotlib_converters()\n",
      "  warnings.warn(msg, FutureWarning)\n"
     ]
    },
    {
     "data": {
      "text/plain": [
       "[<matplotlib.lines.Line2D at 0x7fec1b8ef350>]"
      ]
     },
     "execution_count": 10,
     "metadata": {},
     "output_type": "execute_result"
    },
    {
     "data": {
      "image/png": "[encoded data removed]",
      "text/plain": [
       "<Figure size 432x288 with 1 Axes>"
      ]
     },
     "metadata": {
      "needs_background": "light"
     },
     "output_type": "display_data"
    }
   ],
   "source": [
    "plt.plot(df['close'])"
   ]
  },
  {
   "cell_type": "code",
   "execution_count": 11,
   "metadata": {},
   "outputs": [
    {
     "data": {
      "text/html": [
       "<div>\n",
       "\n",
       "    .dataframe tbody tr th:only-of-type {\n",
       "        vertical-align: middle;\n",
       "    }\n",
       "\n",
       "    .dataframe tbody tr th {\n",
       "        vertical-align: top;\n",
       "    }\n",
       "\n",
       "    .dataframe thead th {\n",
       "        text-align: right;\n",
       "    }\n",
       "\n",
       "<table border=\"1\" class=\"dataframe\">\n",
       "  <thead>\n",
       "    <tr style=\"text-align: right;\">\n",
       "      <th></th>\n",
       "      <th>index</th>\n",
       "      <th>open</th>\n",
       "      <th>close</th>\n",
       "      <th>high</th>\n",
       "      <th>low</th>\n",
       "      <th>volume</th>\n",
       "      <th>money</th>\n",
       "    </tr>\n",
       "  </thead>\n",
       "  <tbody>\n",
       "    <tr>\n",
       "      <td>0</td>\n",
       "      <td>2020-06-01 09:31:00</td>\n",
       "      <td>3901.73</td>\n",
       "      <td>3916.87</td>\n",
       "      <td>3917.83</td>\n",
       "      <td>3901.73</td>\n",
       "      <td>472712900.0</td>\n",
       "      <td>6.809592e+09</td>\n",
       "    </tr>\n",
       "    <tr>\n",
       "      <td>1</td>\n",
       "      <td>2020-06-01 09:32:00</td>\n",
       "      <td>3916.79</td>\n",
       "      <td>3923.65</td>\n",
       "      <td>3923.65</td>\n",
       "      <td>3916.79</td>\n",
       "      <td>226349200.0</td>\n",
       "      <td>3.454604e+09</td>\n",
       "    </tr>\n",
       "    <tr>\n",
       "      <td>2</td>\n",
       "      <td>2020-06-01 09:33:00</td>\n",
       "      <td>3924.91</td>\n",
       "      <td>3927.14</td>\n",
       "      <td>3927.37</td>\n",
       "      <td>3924.91</td>\n",
       "      <td>178812600.0</td>\n",
       "      <td>2.848020e+09</td>\n",
       "    </tr>\n",
       "    <tr>\n",
       "      <td>3</td>\n",
       "      <td>2020-06-01 09:34:00</td>\n",
       "      <td>3925.79</td>\n",
       "      <td>3919.52</td>\n",
       "      <td>3925.79</td>\n",
       "      <td>3919.52</td>\n",
       "      <td>163042800.0</td>\n",
       "      <td>2.826398e+09</td>\n",
       "    </tr>\n",
       "    <tr>\n",
       "      <td>4</td>\n",
       "      <td>2020-06-01 09:35:00</td>\n",
       "      <td>3918.91</td>\n",
       "      <td>3921.59</td>\n",
       "      <td>3922.56</td>\n",
       "      <td>3918.22</td>\n",
       "      <td>140899600.0</td>\n",
       "      <td>2.471371e+09</td>\n",
       "    </tr>\n",
       "    <tr>\n",
       "      <td>...</td>\n",
       "      <td>...</td>\n",
       "      <td>...</td>\n",
       "      <td>...</td>\n",
       "      <td>...</td>\n",
       "      <td>...</td>\n",
       "      <td>...</td>\n",
       "      <td>...</td>\n",
       "    </tr>\n",
       "    <tr>\n",
       "      <td>5035</td>\n",
       "      <td>2020-07-01 14:56:00</td>\n",
       "      <td>4243.52</td>\n",
       "      <td>4245.06</td>\n",
       "      <td>4245.68</td>\n",
       "      <td>4243.52</td>\n",
       "      <td>123488600.0</td>\n",
       "      <td>1.943141e+09</td>\n",
       "    </tr>\n",
       "    <tr>\n",
       "      <td>5036</td>\n",
       "      <td>2020-07-01 14:57:00</td>\n",
       "      <td>4244.97</td>\n",
       "      <td>4247.09</td>\n",
       "      <td>4247.09</td>\n",
       "      <td>4244.97</td>\n",
       "      <td>120538000.0</td>\n",
       "      <td>2.129668e+09</td>\n",
       "    </tr>\n",
       "    <tr>\n",
       "      <td>5037</td>\n",
       "      <td>2020-07-01 14:58:00</td>\n",
       "      <td>4247.35</td>\n",
       "      <td>4247.34</td>\n",
       "      <td>4247.35</td>\n",
       "      <td>4247.34</td>\n",
       "      <td>5043000.0</td>\n",
       "      <td>8.953286e+07</td>\n",
       "    </tr>\n",
       "    <tr>\n",
       "      <td>5038</td>\n",
       "      <td>2020-07-01 14:59:00</td>\n",
       "      <td>4247.34</td>\n",
       "      <td>4247.34</td>\n",
       "      <td>4247.34</td>\n",
       "      <td>4247.34</td>\n",
       "      <td>0.0</td>\n",
       "      <td>0.000000e+00</td>\n",
       "    </tr>\n",
       "    <tr>\n",
       "      <td>5039</td>\n",
       "      <td>2020-07-01 15:00:00</td>\n",
       "      <td>4247.34</td>\n",
       "      <td>4247.78</td>\n",
       "      <td>4247.78</td>\n",
       "      <td>4247.27</td>\n",
       "      <td>224729100.0</td>\n",
       "      <td>3.573373e+09</td>\n",
       "    </tr>\n",
       "  </tbody>\n",
       "</table>\n",
       "<p>5040 rows × 7 columns</p>\n",
       "</div>"
      ],
      "text/plain": [
       "                   index     open    close     high      low       volume  \\\n",
       "0    2020-06-01 09:31:00  3901.73  3916.87  3917.83  3901.73  472712900.0   \n",
       "1    2020-06-01 09:32:00  3916.79  3923.65  3923.65  3916.79  226349200.0   \n",
       "2    2020-06-01 09:33:00  3924.91  3927.14  3927.37  3924.91  178812600.0   \n",
       "3    2020-06-01 09:34:00  3925.79  3919.52  3925.79  3919.52  163042800.0   \n",
       "4    2020-06-01 09:35:00  3918.91  3921.59  3922.56  3918.22  140899600.0   \n",
       "...                  ...      ...      ...      ...      ...          ...   \n",
       "5035 2020-07-01 14:56:00  4243.52  4245.06  4245.68  4243.52  123488600.0   \n",
       "5036 2020-07-01 14:57:00  4244.97  4247.09  4247.09  4244.97  120538000.0   \n",
       "5037 2020-07-01 14:58:00  4247.35  4247.34  4247.35  4247.34    5043000.0   \n",
       "5038 2020-07-01 14:59:00  4247.34  4247.34  4247.34  4247.34          0.0   \n",
       "5039 2020-07-01 15:00:00  4247.34  4247.78  4247.78  4247.27  224729100.0   \n",
       "\n",
       "             money  \n",
       "0     6.809592e+09  \n",
       "1     3.454604e+09  \n",
       "2     2.848020e+09  \n",
       "3     2.826398e+09  \n",
       "4     2.471371e+09  \n",
       "...            ...  \n",
       "5035  1.943141e+09  \n",
       "5036  2.129668e+09  \n",
       "5037  8.953286e+07  \n",
       "5038  0.000000e+00  \n",
       "5039  3.573373e+09  \n",
       "\n",
       "[5040 rows x 7 columns]"
      ]
     },
     "execution_count": 11,
     "metadata": {},
     "output_type": "execute_result"
    }
   ],
   "source": [
    "df = df.reset_index()\n",
    "df"
   ]
  },
  {
   "cell_type": "code",
   "execution_count": 12,
   "metadata": {},
   "outputs": [
    {
     "data": {
      "text/plain": [
       "[<matplotlib.lines.Line2D at 0x7fec1bbb4210>]"
      ]
     },
     "execution_count": 12,
     "metadata": {},
     "output_type": "execute_result"
    },
    {
     "data": {
      "image/png": "[encoded data removed]",
      "text/plain": [
       "<Figure size 432x288 with 1 Axes>"
      ]
     },
     "metadata": {
      "needs_background": "light"
     },
     "output_type": "display_data"
    }
   ],
   "source": [
    "plt.plot(df['close'])"
   ]
  },
  {
   "cell_type": "markdown",
   "metadata": {},
   "source": [
    "## 使用AR模型估计最大熵谱分析模型的系数，AR模型有效的前提是平稳序列"
   ]
  },
  {
   "cell_type": "code",
   "execution_count": 20,
   "metadata": {},
   "outputs": [
    {
     "data": {
      "text/plain": [
       "(0.23302291698008903,\n",
       " 0.9740541036168257,\n",
       " 10,\n",
       " 5029,\n",
       " {'1%': -3.431650982497774,\n",
       "  '5%': -2.8621148943129975,\n",
       "  '10%': -2.5670760168145454},\n",
       " 20743.43331664526)"
      ]
     },
     "execution_count": 20,
     "metadata": {},
     "output_type": "execute_result"
    }
   ],
   "source": [
    "ADF(df['close'])"
   ]
  },
  {
   "cell_type": "markdown",
   "metadata": {},
   "source": [
    "### 序列不平稳，进行差分"
   ]
  },
  {
   "cell_type": "code",
   "execution_count": 21,
   "metadata": {},
   "outputs": [],
   "source": [
    "df = df.diff()\n",
    "df = df.dropna()"
   ]
  },
  {
   "cell_type": "code",
   "execution_count": 22,
   "metadata": {},
   "outputs": [
    {
     "data": {
      "text/plain": [
       "(-23.304706024153177,\n",
       " 0.0,\n",
       " 9,\n",
       " 5029,\n",
       " {'1%': -3.431650982497774,\n",
       "  '5%': -2.8621148943129975,\n",
       "  '10%': -2.5670760168145454},\n",
       " 20735.086824018214)"
      ]
     },
     "execution_count": 22,
     "metadata": {},
     "output_type": "execute_result"
    }
   ],
   "source": [
    "ADF(df['close'])"
   ]
  },
  {
   "cell_type": "markdown",
   "metadata": {},
   "source": [
    "### 序列平稳，对差分数据等间隔取值，选取合适的间隔建立AR模型\n",
    "### 每天的数据量和AR模型滞后项保持一致"
   ]
  },
  {
   "cell_type": "code",
   "execution_count": 23,
   "metadata": {},
   "outputs": [],
   "source": [
    "max_range = df.shape[0]"
   ]
  },
  {
   "cell_type": "code",
   "execution_count": 24,
   "metadata": {},
   "outputs": [
    {
     "data": {
      "text/plain": [
       "0      6.78\n",
       "1     -2.50\n",
       "2      4.24\n",
       "3      0.64\n",
       "4      1.86\n",
       "       ... \n",
       "835   -0.13\n",
       "836    4.40\n",
       "837   -0.17\n",
       "838   -0.04\n",
       "839    1.54\n",
       "Name: close, Length: 840, dtype: float64"
      ]
     },
     "execution_count": 24,
     "metadata": {},
     "output_type": "execute_result"
    }
   ],
   "source": [
    "df_40 = pd.DataFrame()\n",
    "for i in range(0, max_range, 6):\n",
    "    s = df.iloc[i]\n",
    "    df_40 = df_40.append(s, ignore_index = True)\n",
    "df_40_close = df_40['close']\n",
    "df_40_close"
   ]
  },
  {
   "cell_type": "code",
   "execution_count": 25,
   "metadata": {},
   "outputs": [],
   "source": [
    "df_30 = pd.DataFrame()\n",
    "for i in range(0, max_range, 8):\n",
    "    s = df.iloc[i]\n",
    "    df_30 = df_30.append(s, ignore_index = True)\n",
    "df_30_close = df_30['close']"
   ]
  },
  {
   "cell_type": "code",
   "execution_count": 26,
   "metadata": {},
   "outputs": [],
   "source": [
    "df_20 = pd.DataFrame()\n",
    "for i in range(0, max_range, 12):\n",
    "    s = df.iloc[i]\n",
    "    df_20 = df_20.append(s, ignore_index = True)\n",
    "df_20_close = df_20['close']"
   ]
  },
  {
   "cell_type": "code",
   "execution_count": 27,
   "metadata": {},
   "outputs": [],
   "source": [
    "df_10 = pd.DataFrame()\n",
    "for i in range(0, max_range, 24):\n",
    "    s = df.iloc[i]\n",
    "    df_10 = df_10.append(s, ignore_index = True)\n",
    "df_10_close = df_10['close']"
   ]
  },
  {
   "cell_type": "code",
   "execution_count": 28,
   "metadata": {},
   "outputs": [
    {
     "data": {
      "text/plain": [
       "[<matplotlib.lines.Line2D at 0x7fec00dfa710>]"
      ]
     },
     "execution_count": 28,
     "metadata": {},
     "output_type": "execute_result"
    },
    {
     "data": {
      "image/png": "[encoded data removed]",
      "text/plain": [
       "<Figure size 432x288 with 4 Axes>"
      ]
     },
     "metadata": {
      "needs_background": "light"
     },
     "output_type": "display_data"
    }
   ],
   "source": [
    "plt.subplot(2, 2, 1)\n",
    "plt.plot(df_10_close)\n",
    "plt.subplot(2, 2, 2)\n",
    "plt.plot(df_20_close)\n",
    "plt.subplot(2, 2, 3)\n",
    "plt.plot(df_30_close)\n",
    "plt.subplot(2, 2, 4)\n",
    "plt.plot(df_40_close)"
   ]
  },
  {
   "cell_type": "code",
   "execution_count": 29,
   "metadata": {},
   "outputs": [],
   "source": [
    "def ts_plot(data, lags=None,title=''):\n",
    "    if not isinstance(data, pd.Series):   \n",
    "        data = pd.Series(data)\n",
    "    #matplotlib官方提供了五种不同的图形风格，\n",
    "    #包括bmh、ggplot、dark_background、fivethirtyeight和grayscale\n",
    "    with plt.style.context('ggplot'):    \n",
    "        fig = plt.figure(figsize=(10, 8))\n",
    "        layout = (3, 2)\n",
    "        ts_ax = plt.subplot2grid(layout, (0, 0), colspan=2)\n",
    "        acf_ax = plt.subplot2grid(layout, (1, 0))\n",
    "        pacf_ax = plt.subplot2grid(layout, (1, 1))\n",
    "        qq_ax = plt.subplot2grid(layout, (2, 0))\n",
    "        pp_ax = plt.subplot2grid(layout, (2, 1))\n",
    "        data.plot(ax=ts_ax)\n",
    "        ts_ax.set_title(title)\n",
    "        smt.graphics.plot_acf(data, lags=lags, ax=acf_ax, alpha=0.5)\n",
    "        acf_ax.set_title('ACF')\n",
    "        smt.graphics.plot_pacf(data, lags=lags, ax=pacf_ax, alpha=0.5)\n",
    "        pacf_ax.set_title('PACF')\n",
    "        sm.qqplot(data, line='s', ax=qq_ax)\n",
    "        qq_ax.set_title('QQ')        \n",
    "        scs.probplot(data, sparams=(data.mean(), \n",
    "                     data.std()), plot=pp_ax)\n",
    "        pp_ax.set_title('PP') \n",
    "        plt.tight_layout()\n",
    "    return"
   ]
  },
  {
   "cell_type": "code",
   "execution_count": 30,
   "metadata": {},
   "outputs": [],
   "source": [
    "max_lag = 10\n",
    "Y_10 = df_10['close']"
   ]
  },
  {
   "cell_type": "code",
   "execution_count": 31,
   "metadata": {},
   "outputs": [
    {
     "data": {
      "image/png": "[encoded data removed]",
      "text/plain": [
       "<Figure size 720x576 with 5 Axes>"
      ]
     },
     "metadata": {},
     "output_type": "display_data"
    }
   ],
   "source": [
    "ts_plot(Y_10,lags = max_lag,title = '10 datas per day')"
   ]
  },
  {
   "cell_type": "code",
   "execution_count": 32,
   "metadata": {},
   "outputs": [],
   "source": [
    "max_lag = 20\n",
    "Y_20 = df_20['close']"
   ]
  },
  {
   "cell_type": "code",
   "execution_count": 33,
   "metadata": {},
   "outputs": [
    {
     "data": {
      "image/png": "[encoded data removed]",
      "text/plain": [
       "<Figure size 720x576 with 5 Axes>"
      ]
     },
     "metadata": {},
     "output_type": "display_data"
    }
   ],
   "source": [
    "ts_plot(Y_20,lags = max_lag,title = '20 datas per day')"
   ]
  },
  {
   "cell_type": "code",
   "execution_count": 34,
   "metadata": {},
   "outputs": [],
   "source": [
    "max_lag = 30\n",
    "Y_30 = df_30['close']"
   ]
  },
  {
   "cell_type": "code",
   "execution_count": 35,
   "metadata": {},
   "outputs": [
    {
     "data": {
      "image/png": "[encoded data removed]",
      "text/plain": [
       "<Figure size 720x576 with 5 Axes>"
      ]
     },
     "metadata": {},
     "output_type": "display_data"
    }
   ],
   "source": [
    "ts_plot(Y_30,lags = max_lag,title = '30 datas per day')"
   ]
  },
  {
   "cell_type": "code",
   "execution_count": 36,
   "metadata": {},
   "outputs": [],
   "source": [
    "max_lag = 40\n",
    "Y_40 = df_40['close']"
   ]
  },
  {
   "cell_type": "code",
   "execution_count": 37,
   "metadata": {},
   "outputs": [
    {
     "data": {
      "image/png": "[encoded data removed]",
      "text/plain": [
       "<Figure size 720x576 with 5 Axes>"
      ]
     },
     "metadata": {},
     "output_type": "display_data"
    }
   ],
   "source": [
    "ts_plot(Y_40,lags = max_lag,title = '40 datas per day')"
   ]
  },
  {
   "cell_type": "code",
   "execution_count": 38,
   "metadata": {},
   "outputs": [
    {
     "data": {
      "text/plain": [
       "1.2634296688312072"
      ]
     },
     "execution_count": 38,
     "metadata": {},
     "output_type": "execute_result"
    }
   ],
   "source": [
    "mod = AutoReg(Y_10, 4)\n",
    "res = mod.fit()\n",
    "res.aic"
   ]
  },
  {
   "cell_type": "markdown",
   "metadata": {},
   "source": [
    "### 绘制AIC图像，选取最合适的滞后项数和阶数"
   ]
  },
  {
   "cell_type": "code",
   "execution_count": 39,
   "metadata": {},
   "outputs": [
    {
     "data": {
      "text/plain": [
       "[1.2302034421807695,\n",
       " 1.2378389944223642,\n",
       " 1.2494292647853802,\n",
       " 1.2634296688312072,\n",
       " 1.2741135863364341,\n",
       " 1.2860008787750306,\n",
       " 1.2991823149576112,\n",
       " 1.3136624455192345,\n",
       " 1.3258292511393062]"
      ]
     },
     "execution_count": 39,
     "metadata": {},
     "output_type": "execute_result"
    }
   ],
   "source": [
    "aic_10 = []\n",
    "for i in range(1, 10):\n",
    "    mod = AutoReg(Y_10, i)\n",
    "    res = mod.fit()\n",
    "    aic_10.append(res.aic)\n",
    "aic_10"
   ]
  },
  {
   "cell_type": "code",
   "execution_count": 40,
   "metadata": {},
   "outputs": [
    {
     "data": {
      "text/plain": [
       "[0.9893080395695613,\n",
       " 0.9716752116028244,\n",
       " 0.9731276098672895,\n",
       " 0.9798851731752586,\n",
       " 0.9868415067081968,\n",
       " 0.9869073356540701,\n",
       " 0.991724663789896,\n",
       " 0.9961171557461387,\n",
       " 0.9996224644038159]"
      ]
     },
     "execution_count": 40,
     "metadata": {},
     "output_type": "execute_result"
    }
   ],
   "source": [
    "aic_20 = []\n",
    "for i in range(1, 10):\n",
    "    mod = AutoReg(Y_20, i)\n",
    "    res = mod.fit()\n",
    "    aic_20.append(res.aic)\n",
    "aic_20"
   ]
  },
  {
   "cell_type": "code",
   "execution_count": 41,
   "metadata": {},
   "outputs": [
    {
     "data": {
      "text/plain": [
       "[0.8883966266408881,\n",
       " 0.8827051020498194,\n",
       " 0.8854595770511812,\n",
       " 0.8863761800597363,\n",
       " 0.8828383721324863,\n",
       " 0.8872542839823238,\n",
       " 0.891697544457208,\n",
       " 0.8956571815871494,\n",
       " 0.895290781906864]"
      ]
     },
     "execution_count": 41,
     "metadata": {},
     "output_type": "execute_result"
    }
   ],
   "source": [
    "aic_30 = []\n",
    "for i in range(1, 10):\n",
    "    mod = AutoReg(Y_30, i)\n",
    "    res = mod.fit()\n",
    "    aic_30.append(res.aic)\n",
    "aic_30"
   ]
  },
  {
   "cell_type": "code",
   "execution_count": 42,
   "metadata": {},
   "outputs": [
    {
     "data": {
      "text/plain": [
       "[0.7713723717306292,\n",
       " 0.7703757838399609,\n",
       " 0.7647320697059775,\n",
       " 0.7669245156801189,\n",
       " 0.7668024048259103,\n",
       " 0.7687842971095048,\n",
       " 0.7722914903095743,\n",
       " 0.7736629254886405,\n",
       " 0.7756862952999102]"
      ]
     },
     "execution_count": 42,
     "metadata": {},
     "output_type": "execute_result"
    }
   ],
   "source": [
    "aic_40 = []\n",
    "for i in range(1, 10):\n",
    "    mod = AutoReg(Y_40, i)\n",
    "    res = mod.fit()\n",
    "    aic_40.append(res.aic)\n",
    "aic_40"
   ]
  },
  {
   "cell_type": "code",
   "execution_count": 43,
   "metadata": {},
   "outputs": [],
   "source": [
    "x = range(0, 9)\n",
    "y1 = aic_10\n",
    "y2 = aic_20\n",
    "y3 = aic_30\n",
    "y4 = aic_40"
   ]
  },
  {
   "cell_type": "code",
   "execution_count": 44,
   "metadata": {},
   "outputs": [
    {
     "data": {
      "text/plain": [
       "<matplotlib.legend.Legend at 0x7fec02c36190>"
      ]
     },
     "execution_count": 44,
     "metadata": {},
     "output_type": "execute_result"
    },
    {
     "data": {
      "image/png": "[encoded data removed]",
      "text/plain": [
       "<Figure size 432x288 with 1 Axes>"
      ]
     },
     "metadata": {
      "needs_background": "light"
     },
     "output_type": "display_data"
    }
   ],
   "source": [
    "plt.plot(x, y1, color = 'green', label = 'AIC_10')\n",
    "plt.plot(x, y2, color = 'red', label = 'AIC_20')\n",
    "plt.plot(x, y3, color = 'b', label = 'AIC_30')\n",
    "plt.plot(x, y4, color = 'black', label = 'AIC_40')\n",
    "plt.legend()"
   ]
  },
  {
   "cell_type": "markdown",
   "metadata": {},
   "source": [
    "### 显然滞后项为40最为合适，目测估计是AR（2）模型，（理论上ARMA（1，1）模型更好，但是无法转化为最大熵模型），接下来用statsmodel的package进行检验"
   ]
  },
  {
   "cell_type": "code",
   "execution_count": 45,
   "metadata": {},
   "outputs": [
    {
     "name": "stderr",
     "output_type": "stream",
     "text": [
      "/Users/hongrendemac/opt/anaconda3/lib/python3.7/site-packages/statsmodels/tsa/ar_model.py:691: FutureWarning: \n",
      "statsmodels.tsa.AR has been deprecated in favor of statsmodels.tsa.AutoReg and\n",
      "statsmodels.tsa.SARIMAX.\n",
      "\n",
      "AutoReg adds the ability to specify exogenous variables, include time trends,\n",
      "and add seasonal dummies. The AutoReg API differs from AR since the model is\n",
      "treated as immutable, and so the entire specification including the lag\n",
      "length must be specified when creating the model. This change is too\n",
      "substantial to incorporate into the existing AR api. The function\n",
      "ar_select_order performs lag length selection for AutoReg models.\n",
      "\n",
      "AutoReg only estimates parameters using conditional MLE (OLS). Use SARIMAX to\n",
      "estimate ARX and related models using full MLE via the Kalman Filter.\n",
      "\n",
      "To silence this warning and continue using AR until it is removed, use:\n",
      "\n",
      "import warnings\n",
      "warnings.filterwarnings('ignore', 'statsmodels.tsa.ar_model.AR', FutureWarning)\n",
      "\n",
      "  warnings.warn(AR_DEPRECATION_WARN, FutureWarning)\n"
     ]
    },
    {
     "name": "stdout",
     "output_type": "stream",
     "text": [
      "沪深300拟合AR模型的最佳滞后阶数 1\n"
     ]
    }
   ],
   "source": [
    "result = smt.AR(Y_40).fit(maxlag=40, ic='aic', trend='nc')\n",
    "est_order = smt.AR(Y_40).select_order(maxlag=40, \n",
    "            ic='aic', trend='nc')\n",
    "print(f'沪深300拟合AR模型的最佳滞后阶数 {est_order}')"
   ]
  },
  {
   "cell_type": "markdown",
   "metadata": {},
   "source": [
    "### 这里显示最佳滞后阶数是1，但是如果是1，频谱密度将为一个常数，所以选择最接近的2，建立AR（2）模型"
   ]
  },
  {
   "cell_type": "code",
   "execution_count": 46,
   "metadata": {},
   "outputs": [
    {
     "data": {
      "text/html": [
       "<table class=\"simpletable\">\n",
       "<caption>AutoReg Model Results</caption>\n",
       "<tr>\n",
       "  <th>Dep. Variable:</th>       <td>close</td>      <th>  No. Observations:  </th>    <td>840</td>   \n",
       "</tr>\n",
       "<tr>\n",
       "  <th>Model:</th>            <td>AutoReg(2)</td>    <th>  Log Likelihood     </th> <td>-1507.858</td>\n",
       "</tr>\n",
       "<tr>\n",
       "  <th>Method:</th>         <td>Conditional MLE</td> <th>  S.D. of innovations</th>   <td>1.463</td>  \n",
       "</tr>\n",
       "<tr>\n",
       "  <th>Date:</th>          <td>Fri, 03 Jul 2020</td> <th>  AIC                </th>   <td>0.770</td>  \n",
       "</tr>\n",
       "<tr>\n",
       "  <th>Time:</th>              <td>09:24:35</td>     <th>  BIC                </th>   <td>0.793</td>  \n",
       "</tr>\n",
       "<tr>\n",
       "  <th>Sample:</th>                <td>2</td>        <th>  HQIC               </th>   <td>0.779</td>  \n",
       "</tr>\n",
       "<tr>\n",
       "  <th></th>                      <td>840</td>       <th>                     </th>     <td> </td>    \n",
       "</tr>\n",
       "</table>\n",
       "<table class=\"simpletable\">\n",
       "<tr>\n",
       "      <td></td>         <th>coef</th>     <th>std err</th>      <th>z</th>      <th>P&gt;|z|</th>  <th>[0.025</th>    <th>0.975]</th>  \n",
       "</tr>\n",
       "<tr>\n",
       "  <th>intercept</th> <td>    0.1342</td> <td>    0.051</td> <td>    2.632</td> <td> 0.008</td> <td>    0.034</td> <td>    0.234</td>\n",
       "</tr>\n",
       "<tr>\n",
       "  <th>close.L1</th>  <td>    0.0162</td> <td>    0.034</td> <td>    0.471</td> <td> 0.638</td> <td>   -0.051</td> <td>    0.084</td>\n",
       "</tr>\n",
       "<tr>\n",
       "  <th>close.L2</th>  <td>    0.0218</td> <td>    0.034</td> <td>    0.640</td> <td> 0.522</td> <td>   -0.045</td> <td>    0.089</td>\n",
       "</tr>\n",
       "</table>\n",
       "<table class=\"simpletable\">\n",
       "<caption>Roots</caption>\n",
       "<tr>\n",
       "    <td></td>   <th>            Real</th>  <th>         Imaginary</th> <th>         Modulus</th>  <th>        Frequency</th>\n",
       "</tr>\n",
       "<tr>\n",
       "  <th>AR.1</th> <td>           6.4099</td> <td>          +0.0000j</td> <td>           6.4099</td> <td>           0.0000</td>\n",
       "</tr>\n",
       "<tr>\n",
       "  <th>AR.2</th> <td>          -7.1540</td> <td>          +0.0000j</td> <td>           7.1540</td> <td>           0.5000</td>\n",
       "</tr>\n",
       "</table>"
      ],
      "text/plain": [
       "<class 'statsmodels.iolib.summary.Summary'>\n",
       "\"\"\"\n",
       "                            AutoReg Model Results                             \n",
       "==============================================================================\n",
       "Dep. Variable:                  close   No. Observations:                  840\n",
       "Model:                     AutoReg(2)   Log Likelihood               -1507.858\n",
       "Method:               Conditional MLE   S.D. of innovations              1.463\n",
       "Date:                Fri, 03 Jul 2020   AIC                              0.770\n",
       "Time:                        09:24:35   BIC                              0.793\n",
       "Sample:                             2   HQIC                             0.779\n",
       "                                  840                                         \n",
       "==============================================================================\n",
       "                 coef    std err          z      P>|z|      [0.025      0.975]\n",
       "------------------------------------------------------------------------------\n",
       "intercept      0.1342      0.051      2.632      0.008       0.034       0.234\n",
       "close.L1       0.0162      0.034      0.471      0.638      -0.051       0.084\n",
       "close.L2       0.0218      0.034      0.640      0.522      -0.045       0.089\n",
       "                                    Roots                                    \n",
       "=============================================================================\n",
       "                  Real          Imaginary           Modulus         Frequency\n",
       "-----------------------------------------------------------------------------\n",
       "AR.1            6.4099           +0.0000j            6.4099            0.0000\n",
       "AR.2           -7.1540           +0.0000j            7.1540            0.5000\n",
       "-----------------------------------------------------------------------------\n",
       "\"\"\""
      ]
     },
     "execution_count": 46,
     "metadata": {},
     "output_type": "execute_result"
    }
   ],
   "source": [
    "mod = AutoReg(Y_40, 2)\n",
    "res = mod.fit()\n",
    "res.summary()"
   ]
  },
  {
   "cell_type": "code",
   "execution_count": 47,
   "metadata": {},
   "outputs": [
    {
     "data": {
      "text/plain": [
       "0.016226931041860834"
      ]
     },
     "execution_count": 47,
     "metadata": {},
     "output_type": "execute_result"
    }
   ],
   "source": [
    "phi1 = res.params[1]\n",
    "phi2 = res.params[2]\n",
    "phi1"
   ]
  },
  {
   "cell_type": "code",
   "execution_count": 48,
   "metadata": {},
   "outputs": [
    {
     "data": {
      "text/plain": [
       "0.021807343639551807"
      ]
     },
     "execution_count": 48,
     "metadata": {},
     "output_type": "execute_result"
    }
   ],
   "source": [
    "phi2"
   ]
  },
  {
   "cell_type": "markdown",
   "metadata": {},
   "source": [
    "### 通过Z变换得到需要的alpha系数"
   ]
  },
  {
   "cell_type": "code",
   "execution_count": 49,
   "metadata": {},
   "outputs": [],
   "source": [
    "alpha1 = phi1\n",
    "alpha2 = phi2"
   ]
  },
  {
   "cell_type": "code",
   "execution_count": 50,
   "metadata": {},
   "outputs": [
    {
     "data": {
      "text/plain": [
       "0.0027902062988454865"
      ]
     },
     "execution_count": 50,
     "metadata": {},
     "output_type": "execute_result"
    }
   ],
   "source": [
    "alpha = np.array([alpha1, alpha2])\n",
    "sigma = alpha.std()\n",
    "sigma"
   ]
  },
  {
   "cell_type": "code",
   "execution_count": 51,
   "metadata": {},
   "outputs": [
    {
     "data": {
      "text/plain": [
       "3.141592653589793"
      ]
     },
     "execution_count": 51,
     "metadata": {},
     "output_type": "execute_result"
    }
   ],
   "source": [
    "pi = math.pi\n",
    "pi"
   ]
  },
  {
   "cell_type": "code",
   "execution_count": 52,
   "metadata": {},
   "outputs": [
    {
     "data": {
      "text/plain": [
       "2.718281828459045"
      ]
     },
     "execution_count": 52,
     "metadata": {},
     "output_type": "execute_result"
    }
   ],
   "source": [
    "e = math.e\n",
    "e"
   ]
  },
  {
   "cell_type": "code",
   "execution_count": 53,
   "metadata": {},
   "outputs": [
    {
     "data": {
      "text/plain": [
       "(0.7710737641656675-2.6066264306850795j)"
      ]
     },
     "execution_count": 53,
     "metadata": {},
     "output_type": "execute_result"
    }
   ],
   "source": [
    "np.exp(complex(1,5))"
   ]
  },
  {
   "cell_type": "code",
   "execution_count": 54,
   "metadata": {},
   "outputs": [],
   "source": [
    "f = np.linspace(0, 0.5, 1000)"
   ]
  },
  {
   "cell_type": "code",
   "execution_count": 55,
   "metadata": {},
   "outputs": [],
   "source": [
    "s = lambda f : (2*sigma)/(abs(1 - alpha1*np.exp(complex(0,-1*2*pi*f)) - alpha2*np.exp(complex(0,-4*pi*f))))**2"
   ]
  },
  {
   "cell_type": "code",
   "execution_count": 56,
   "metadata": {},
   "outputs": [
    {
     "data": {
      "text/plain": [
       "0.0"
      ]
     },
     "execution_count": 56,
     "metadata": {},
     "output_type": "execute_result"
    }
   ],
   "source": [
    "s(0.8)-s(0.2)"
   ]
  },
  {
   "cell_type": "code",
   "execution_count": 57,
   "metadata": {},
   "outputs": [],
   "source": [
    "spectral_density = map(s, f)"
   ]
  },
  {
   "cell_type": "code",
   "execution_count": 58,
   "metadata": {},
   "outputs": [
    {
     "data": {
      "text/plain": [
       "[0.006030413793974559,\n",
       " 0.006030407149450455,\n",
       " 0.006030387216198488,\n",
       " 0.006030353995179658,\n",
       " 0.006030307487995543,\n",
       " 0.006030247696888164,\n",
       " 0.006030174624739787,\n",
       " 0.006030088275072694,\n",
       " 0.006029988652048866,\n",
       " 0.006029875760469644,\n",
       " 0.006029749605775318,\n",
       " 0.0060296101940446635,\n",
       " 0.006029457531994422,\n",
       " 0.006029291626978751,\n",
       " 0.0060291124869885785,\n",
       " 0.00602892012065094,\n",
       " 0.006028714537228247,\n",
       " 0.006028495746617495,\n",
       " 0.0060282637593494426,\n",
       " 0.006028018586587701,\n",
       " 0.006027760240127808,\n",
       " 0.006027488732396225,\n",
       " 0.006027204076449289,\n",
       " 0.006026906285972104,\n",
       " 0.006026595375277399,\n",
       " 0.0060262713593043134,\n",
       " 0.006025934253617141,\n",
       " 0.0060255840744040156,\n",
       " 0.0060252208384755585,\n",
       " 0.0060248445632634555,\n",
       " 0.006024455266818995,\n",
       " 0.006024052967811555,\n",
       " 0.006023637685527032,\n",
       " 0.0060232094398662275,\n",
       " 0.0060227682513431776,\n",
       " 0.0060223141410834366,\n",
       " 0.0060218471308223125,\n",
       " 0.006021367242903047,\n",
       " 0.00602087450027495,\n",
       " 0.006020368926491488,\n",
       " 0.006019850545708308,\n",
       " 0.006019319382681249,\n",
       " 0.006018775462764261,\n",
       " 0.006018218811907307,\n",
       " 0.006017649456654205,\n",
       " 0.006017067424140431,\n",
       " 0.006016472742090864,\n",
       " 0.006015865438817497,\n",
       " 0.006015245543217086,\n",
       " 0.006014613084768786,\n",
       " 0.006013968093531682,\n",
       " 0.006013310600142355,\n",
       " 0.006012640635812328,\n",
       " 0.006011958232325515,\n",
       " 0.0060112634220356115,\n",
       " 0.006010556237863437,\n",
       " 0.0060098367132942416,\n",
       " 0.006009104882374972,\n",
       " 0.006008360779711492,\n",
       " 0.0060076044404657435,\n",
       " 0.006006835900352907,\n",
       " 0.006006055195638487,\n",
       " 0.006005262363135366,\n",
       " 0.006004457440200817,\n",
       " 0.006003640464733489,\n",
       " 0.006002811475170336,\n",
       " 0.006001970510483527,\n",
       " 0.0060011176101772805,\n",
       " 0.006000252814284719,\n",
       " 0.005999376163364632,\n",
       " 0.00599848769849823,\n",
       " 0.005997587461285858,\n",
       " 0.005996675493843671,\n",
       " 0.005995751838800272,\n",
       " 0.005994816539293328,\n",
       " 0.005993869638966123,\n",
       " 0.005992911181964111,\n",
       " 0.0059919412129314205,\n",
       " 0.005990959777007313,\n",
       " 0.005989966919822635,\n",
       " 0.005988962687496218,\n",
       " 0.005987947126631259,\n",
       " 0.005986920284311658,\n",
       " 0.005985882208098342,\n",
       " 0.005984832946025546,\n",
       " 0.005983772546597064,\n",
       " 0.005982701058782483,\n",
       " 0.005981618532013378,\n",
       " 0.005980525016179482,\n",
       " 0.005979420561624837,\n",
       " 0.0059783052191438955,\n",
       " 0.005977179039977632,\n",
       " 0.005976042075809593,\n",
       " 0.005974894378761945,\n",
       " 0.005973736001391488,\n",
       " 0.005972566996685649,\n",
       " 0.005971387418058449,\n",
       " 0.005970197319346452,\n",
       " 0.005968996754804686,\n",
       " 0.00596778577910255,\n",
       " 0.0059665644473196845,\n",
       " 0.005965332814941846,\n",
       " 0.005964090937856733,\n",
       " 0.005962838872349822,\n",
       " 0.0059615766751001525,\n",
       " 0.005960304403176124,\n",
       " 0.005959022114031252,\n",
       " 0.0059577298654999245,\n",
       " 0.005956427715793128,\n",
       " 0.005955115723494161,\n",
       " 0.005953793947554341,\n",
       " 0.005952462447288683,\n",
       " 0.005951121282371569,\n",
       " 0.005949770512832405,\n",
       " 0.005948410199051271,\n",
       " 0.005947040401754536,\n",
       " 0.005945661182010486,\n",
       " 0.005944272601224929,\n",
       " 0.005942874721136781,\n",
       " 0.005941467603813663,\n",
       " 0.005940051311647459,\n",
       " 0.005938625907349891,\n",
       " 0.005937191453948068,\n",
       " 0.005935748014780035,\n",
       " 0.005934295653490308,\n",
       " 0.005932834434025409,\n",
       " 0.005931364420629386,\n",
       " 0.005929885677839326,\n",
       " 0.00592839827048088,\n",
       " 0.0059269022636637535,\n",
       " 0.00592539772277722,\n",
       " 0.005923884713485611,\n",
       " 0.005922363301723808,\n",
       " 0.005920833553692738,\n",
       " 0.005919295535854858,\n",
       " 0.005917749314929636,\n",
       " 0.005916194957889043,\n",
       " 0.005914632531953028,\n",
       " 0.005913062104584998,\n",
       " 0.005911483743487306,\n",
       " 0.005909897516596728,\n",
       " 0.005908303492079941,\n",
       " 0.005906701738329022,\n",
       " 0.005905092323956909,\n",
       " 0.005903475317792911,\n",
       " 0.005901850788878184,\n",
       " 0.005900218806461233,\n",
       " 0.005898579439993407,\n",
       " 0.0058969327591243915,\n",
       " 0.005895278833697728,\n",
       " 0.005893617733746316,\n",
       " 0.005891949529487935,\n",
       " 0.005890274291320761,\n",
       " 0.005888592089818899,\n",
       " 0.005886902995727922,\n",
       " 0.005885207079960409,\n",
       " 0.0058835044135914965,\n",
       " 0.005881795067854442,\n",
       " 0.005880079114136186,\n",
       " 0.0058783566239729345,\n",
       " 0.005876627669045744,\n",
       " 0.0058748923211761174,\n",
       " 0.005873150652321605,\n",
       " 0.005871402734571435,\n",
       " 0.005869648640142128,\n",
       " 0.005867888441373153,\n",
       " 0.0058661222107225615,\n",
       " 0.0058643500207626615,\n",
       " 0.005862571944175698,\n",
       " 0.005860788053749543,\n",
       " 0.005858998422373381,\n",
       " 0.005857203123033458,\n",
       " 0.005855402228808784,\n",
       " 0.005853595812866899,\n",
       " 0.005851783948459626,\n",
       " 0.005849966708918847,\n",
       " 0.005848144167652293,\n",
       " 0.0058463163981393625,\n",
       " 0.005844483473926939,\n",
       " 0.005842645468625224,\n",
       " 0.005840802455903615,\n",
       " 0.005838954509486561,\n",
       " 0.005837101703149463,\n",
       " 0.005835244110714594,\n",
       " 0.005833381806047011,\n",
       " 0.005831514863050512,\n",
       " 0.005829643355663605,\n",
       " 0.005827767357855483,\n",
       " 0.005825886943622043,\n",
       " 0.005824002186981897,\n",
       " 0.005822113161972424,\n",
       " 0.00582021994264583,\n",
       " 0.005818322603065242,\n",
       " 0.0058164212173007985,\n",
       " 0.005814515859425789,\n",
       " 0.0058126066035128,\n",
       " 0.00581069352362988,\n",
       " 0.005808776693836733,\n",
       " 0.005806856188180931,\n",
       " 0.005804932080694149,\n",
       " 0.005803004445388425,\n",
       " 0.005801073356252434,\n",
       " 0.0057991388872478,\n",
       " 0.005797201112305414,\n",
       " 0.0057952601053217895,\n",
       " 0.005793315940155424,\n",
       " 0.005791368690623215,\n",
       " 0.0057894184304968545,\n",
       " 0.005787465233499299,\n",
       " 0.005785509173301214,\n",
       " 0.005783550323517487,\n",
       " 0.005781588757703729,\n",
       " 0.005779624549352822,\n",
       " 0.005777657771891487,\n",
       " 0.0057756884986768725,\n",
       " 0.005773716802993172,\n",
       " 0.005771742758048262,\n",
       " 0.005769766436970381,\n",
       " 0.005767787912804798,\n",
       " 0.005765807258510561,\n",
       " 0.005763824546957212,\n",
       " 0.00576183985092158,\n",
       " 0.005759853243084561,\n",
       " 0.005757864796027941,\n",
       " 0.005755874582231259,\n",
       " 0.005753882674068655,\n",
       " 0.005751889143805796,\n",
       " 0.005749894063596784,\n",
       " 0.0057478975054811214,\n",
       " 0.005745899541380684,\n",
       " 0.0057439002430967265,\n",
       " 0.005741899682306931,\n",
       " 0.005739897930562435,\n",
       " 0.005737895059284958,\n",
       " 0.005735891139763881,\n",
       " 0.005733886243153407,\n",
       " 0.005731880440469725,\n",
       " 0.005729873802588201,\n",
       " 0.005727866400240597,\n",
       " 0.00572585830401233,\n",
       " 0.005723849584339746,\n",
       " 0.005721840311507412,\n",
       " 0.005719830555645456,\n",
       " 0.005717820386726924,\n",
       " 0.005715809874565163,\n",
       " 0.005713799088811235,\n",
       " 0.005711788098951347,\n",
       " 0.005709776974304334,\n",
       " 0.005707765784019136,\n",
       " 0.0057057545970723295,\n",
       " 0.0057037434822656725,\n",
       " 0.005701732508223672,\n",
       " 0.005699721743391199,\n",
       " 0.005697711256031111,\n",
       " 0.0056957011142219054,\n",
       " 0.005693691385855409,\n",
       " 0.005691682138634485,\n",
       " 0.00568967344007077,\n",
       " 0.005687665357482441,\n",
       " 0.005685657957992008,\n",
       " 0.005683651308524117,\n",
       " 0.005681645475803424,\n",
       " 0.005679640526352434,\n",
       " 0.005677636526489424,\n",
       " 0.005675633542326355,\n",
       " 0.005673631639766826,\n",
       " 0.0056716308845040555,\n",
       " 0.005669631342018879,\n",
       " 0.005667633077577787,\n",
       " 0.005665636156230974,\n",
       " 0.005663640642810431,\n",
       " 0.005661646601928043,\n",
       " 0.0056596540979737325,\n",
       " 0.005657663195113622,\n",
       " 0.0056556739572882105,\n",
       " 0.005653686448210596,\n",
       " 0.0056517007313647075,\n",
       " 0.005649716870003572,\n",
       " 0.005647734927147607,\n",
       " 0.0056457549655829185,\n",
       " 0.005643777047859665,\n",
       " 0.005641801236290402,\n",
       " 0.00563982759294848,\n",
       " 0.005637856179666457,\n",
       " 0.005635887058034543,\n",
       " 0.005633920289399054,\n",
       " 0.005631955934860908,\n",
       " 0.005629994055274135,\n",
       " 0.005628034711244411,\n",
       " 0.005626077963127632,\n",
       " 0.005624123871028476,\n",
       " 0.005622172494799035,\n",
       " 0.005620223894037434,\n",
       " 0.005618278128086494,\n",
       " 0.005616335256032402,\n",
       " 0.005614395336703428,\n",
       " 0.005612458428668637,\n",
       " 0.005610524590236654,\n",
       " 0.005608593879454422,\n",
       " 0.0056066663541059995,\n",
       " 0.0056047420717113845,\n",
       " 0.005602821089525347,\n",
       " 0.0056009034645362965,\n",
       " 0.005598989253465163,\n",
       " 0.005597078512764307,\n",
       " 0.005595171298616439,\n",
       " 0.005593267666933581,\n",
       " 0.005591367673356028,\n",
       " 0.005589471373251343,\n",
       " 0.005587578821713376,\n",
       " 0.005585690073561297,\n",
       " 0.005583805183338642,\n",
       " 0.005581924205312403,\n",
       " 0.005580047193472115,\n",
       " 0.005578174201528978,\n",
       " 0.005576305282914997,\n",
       " 0.0055744404907821345,\n",
       " 0.005572579878001488,\n",
       " 0.005570723497162487,\n",
       " 0.005568871400572116,\n",
       " 0.005567023640254145,\n",
       " 0.005565180267948383,\n",
       " 0.005563341335109954,\n",
       " 0.005561506892908594,\n",
       " 0.005559676992227962,\n",
       " 0.005557851683664955,\n",
       " 0.005556031017529088,\n",
       " 0.005554215043841827,\n",
       " 0.005552403812335994,\n",
       " 0.005550597372455162,\n",
       " 0.0055487957733530826,\n",
       " 0.005546999063893111,\n",
       " 0.005545207292647673,\n",
       " 0.005543420507897732,\n",
       " 0.005541638757632269,\n",
       " 0.005539862089547811,\n",
       " 0.005538090551047926,\n",
       " 0.005536324189242777,\n",
       " 0.005534563050948681,\n",
       " 0.005532807182687666,\n",
       " 0.005531056630687066,\n",
       " 0.0055293114408791165,\n",
       " 0.005527571658900587,\n",
       " 0.005525837330092393,\n",
       " 0.005524108499499262,\n",
       " 0.005522385211869393,\n",
       " 0.0055206675116541174,\n",
       " 0.005518955443007622,\n",
       " 0.0055172490497866255,\n",
       " 0.005515548375550119,\n",
       " 0.0055138534635591,\n",
       " 0.005512164356776303,\n",
       " 0.005510481097865987,\n",
       " 0.005508803729193701,\n",
       " 0.005507132292826064,\n",
       " 0.005505466830530592,\n",
       " 0.005503807383775487,\n",
       " 0.005502153993729479,\n",
       " 0.0055005067012616725,\n",
       " 0.00549886554694139,\n",
       " 0.005497230571038038,\n",
       " 0.0054956018135210016,\n",
       " 0.005493979314059506,\n",
       " 0.005492363112022551,\n",
       " 0.005490753246478799,\n",
       " 0.005489149756196508,\n",
       " 0.005487552679643482,\n",
       " 0.005485962054986995,\n",
       " 0.005484377920093758,\n",
       " 0.005482800312529903,\n",
       " 0.005481229269560943,\n",
       " 0.005479664828151767,\n",
       " 0.0054781070249666506,\n",
       " 0.005476555896369253,\n",
       " 0.005475011478422649,\n",
       " 0.005473473806889348,\n",
       " 0.005471942917231343,\n",
       " 0.005470418844610157,\n",
       " 0.005468901623886908,\n",
       " 0.005467391289622355,\n",
       " 0.005465887876077002,\n",
       " 0.005464391417211164,\n",
       " 0.005462901946685081,\n",
       " 0.005461419497858993,\n",
       " 0.005459944103793272,\n",
       " 0.005458475797248541,\n",
       " 0.005457014610685788,\n",
       " 0.005455560576266518,\n",
       " 0.005454113725852867,\n",
       " 0.005452674091007797,\n",
       " 0.005451241702995215,\n",
       " 0.005449816592780147,\n",
       " 0.005448398791028925,\n",
       " 0.005446988328109353,\n",
       " 0.005445585234090892,\n",
       " 0.005444189538744856,\n",
       " 0.005442801271544615,\n",
       " 0.005441420461665798,\n",
       " 0.0054400471379865015,\n",
       " 0.005438681329087507,\n",
       " 0.005437323063252508,\n",
       " 0.005435972368468348,\n",
       " 0.0054346292724252315,\n",
       " 0.0054332938025169935,\n",
       " 0.005431965985841325,\n",
       " 0.005430645849200032,\n",
       " 0.005429333419099298,\n",
       " 0.005428028721749935,\n",
       " 0.00542673178306766,\n",
       " 0.00542544262867335,\n",
       " 0.0054241612838933475,\n",
       " 0.0054228877737597094,\n",
       " 0.005421622123010512,\n",
       " 0.005420364356090127,\n",
       " 0.00541911449714953,\n",
       " 0.00541787257004658,\n",
       " 0.00541663859834634,\n",
       " 0.005415412605321363,\n",
       " 0.005414194613952016,\n",
       " 0.005412984646926781,\n",
       " 0.005411782726642578,\n",
       " 0.005410588875205073,\n",
       " 0.005409403114429017,\n",
       " 0.005408225465838553,\n",
       " 0.0054070559506675655,\n",
       " 0.005405894589859985,\n",
       " 0.005404741404070142,\n",
       " 0.005403596413663088,\n",
       " 0.005402459638714954,\n",
       " 0.005401331099013274,\n",
       " 0.005400210814057337,\n",
       " 0.005399098803058529,\n",
       " 0.005397995084940677,\n",
       " 0.0053968996783404135,\n",
       " 0.005395812601607513,\n",
       " 0.005394733872805251,\n",
       " 0.005393663509710765,\n",
       " 0.005392601529815398,\n",
       " 0.005391547950325075,\n",
       " 0.005390502788160644,\n",
       " 0.005389466059958252,\n",
       " 0.005388437782069697,\n",
       " 0.005387417970562802,\n",
       " 0.005386406641221774,\n",
       " 0.005385403809547572,\n",
       " 0.005384409490758265,\n",
       " 0.005383423699789411,\n",
       " 0.005382446451294428,\n",
       " 0.00538147775964495,\n",
       " 0.005380517638931203,\n",
       " 0.005379566102962378,\n",
       " 0.005378623165267,\n",
       " 0.005377688839093301,\n",
       " 0.005376763137409581,\n",
       " 0.005375846072904593,\n",
       " 0.005374937657987917,\n",
       " 0.005374037904790315,\n",
       " 0.00537314682516411,\n",
       " 0.005372264430683574,\n",
       " 0.005371390732645275,\n",
       " 0.005370525742068466,\n",
       " 0.00536966946969545,\n",
       " 0.005368821925991956,\n",
       " 0.005367983121147499,\n",
       " 0.005367153065075762,\n",
       " 0.005366331767414964,\n",
       " 0.005365519237528227,\n",
       " 0.0053647154845039395,\n",
       " 0.005363920517156141,\n",
       " 0.005363134344024876,\n",
       " 0.005362356973376557,\n",
       " 0.005361588413204357,\n",
       " 0.005360828671228538,\n",
       " 0.005360077754896846,\n",
       " 0.0053593356713848616,\n",
       " 0.005358602427596363,\n",
       " 0.00535787803016369,\n",
       " 0.005357162485448106,\n",
       " 0.0053564557995401515,\n",
       " 0.005355757978260015,\n",
       " 0.005355069027157876,\n",
       " 0.0053543889515142796,\n",
       " 0.005353717756340462,\n",
       " 0.005353055446378744,\n",
       " 0.005352402026102845,\n",
       " 0.005351757499718267,\n",
       " 0.0053511218711626216,\n",
       " 0.005350495144105992,\n",
       " 0.005349877321951267,\n",
       " 0.005349268407834506,\n",
       " 0.005348668404625275,\n",
       " 0.005348077314926974,\n",
       " 0.005347495141077203,\n",
       " 0.00534692188514809,\n",
       " 0.005346357548946633,\n",
       " 0.005345802134015039,\n",
       " 0.005345255641631039,\n",
       " 0.005344718072808264,\n",
       " 0.005344189428296537,\n",
       " 0.005343669708582225,\n",
       " 0.005343158913888565,\n",
       " 0.005342657044175986,\n",
       " 0.005342164099142441,\n",
       " 0.005341680078223732,\n",
       " 0.005341204980593828,\n",
       " 0.0053407388051651935,\n",
       " 0.005340281550589103,\n",
       " 0.005339833215255955,\n",
       " 0.005339393797295602,\n",
       " 0.0053389632945776465,\n",
       " 0.005338541704711775,\n",
       " 0.00533812902504806,\n",
       " 0.005337725252677256,\n",
       " 0.005337330384431142,\n",
       " 0.005336944416882785,\n",
       " 0.00533656734634689,\n",
       " 0.005336199168880063,\n",
       " 0.0053358398802811485,\n",
       " 0.005335489476091503,\n",
       " 0.005335147951595299,\n",
       " 0.0053348153018198475,\n",
       " 0.00533449152153585,\n",
       " 0.005334176605257742,\n",
       " 0.0053338705472439395,\n",
       " 0.005333573341497165,\n",
       " 0.005333284981764723,\n",
       " 0.005333005461538784,\n",
       " 0.0053327347740566855,\n",
       " 0.0053324729123012055,\n",
       " 0.0053322198690008505,\n",
       " 0.005331975636630151,\n",
       " 0.005331740207409919,\n",
       " 0.005331513573307548,\n",
       " 0.005331295726037288,\n",
       " 0.005331086657060519,\n",
       " 0.0053308863575860285,\n",
       " 0.005330694818570297,\n",
       " 0.005330512030717761,\n",
       " 0.005330337984481084,\n",
       " 0.005330172670061456,\n",
       " 0.0053300160774088215,\n",
       " 0.005329868196222186,\n",
       " 0.005329729015949872,\n",
       " 0.005329598525789789,\n",
       " 0.005329476714689698,\n",
       " 0.005329363571347492,\n",
       " 0.0053292590842114315,\n",
       " 0.005329163241480453,\n",
       " 0.005329076031104399,\n",
       " 0.005328997440784299,\n",
       " 0.005328927457972632,\n",
       " 0.0053288660698735755,\n",
       " 0.0053288132634432914,\n",
       " 0.005328769025390169,\n",
       " 0.005328733342175101,\n",
       " 0.005328706200011729,\n",
       " 0.00532868758486672,\n",
       " 0.005328677482460021,\n",
       " 0.00532867587826512,\n",
       " 0.0053286827575093,\n",
       " 0.005328698105173916,\n",
       " 0.005328721905994643,\n",
       " 0.005328754144461731,\n",
       " 0.005328794804820291,\n",
       " 0.005328843871070528,\n",
       " 0.0053289013269680165,\n",
       " 0.00532896715602396,\n",
       " 0.005329041341505449,\n",
       " 0.005329123866435739,\n",
       " 0.005329214713594487,\n",
       " 0.005329313865518038,\n",
       " 0.005329421304499672,\n",
       " 0.005329537012589894,\n",
       " 0.005329660971596662,\n",
       " 0.00532979316308569,\n",
       " 0.005329933568380692,\n",
       " 0.0053300821685636594,\n",
       " 0.005330238944475138,\n",
       " 0.005330403876714469,\n",
       " 0.005330576945640108,\n",
       " 0.005330758131369851,\n",
       " 0.005330947413781138,\n",
       " 0.005331144772511319,\n",
       " 0.005331350186957935,\n",
       " 0.00533156363627899,\n",
       " 0.00533178509939324,\n",
       " 0.005332014554980472,\n",
       " 0.005332251981481789,\n",
       " 0.0053324973570998855,\n",
       " 0.0053327506597993625,\n",
       " 0.005333011867306991,\n",
       " 0.005333280957112014,\n",
       " 0.005333557906466445,\n",
       " 0.005333842692385359,\n",
       " 0.005334135291647191,\n",
       " 0.005334435680794054,\n",
       " 0.005334743836132018,\n",
       " 0.0053350597337314416,\n",
       " 0.005335383349427262,\n",
       " 0.005335714658819323,\n",
       " 0.005336053637272679,\n",
       " 0.0053364002599179255,\n",
       " 0.005336754501651523,\n",
       " 0.005337116337136093,\n",
       " 0.005337485740800793,\n",
       " 0.005337862686841611,\n",
       " 0.005338247149221712,\n",
       " 0.005338639101671791,\n",
       " 0.005339038517690401,\n",
       " 0.005339445370544297,\n",
       " 0.005339859633268804,\n",
       " 0.005340281278668147,\n",
       " 0.005340710279315833,\n",
       " 0.005341146607555011,\n",
       " 0.005341590235498824,\n",
       " 0.005342041135030784,\n",
       " 0.005342499277805164,\n",
       " 0.005342964635247367,\n",
       " 0.005343437178554312,\n",
       " 0.0053439168786948215,\n",
       " 0.00534440370641002,\n",
       " 0.005344897632213744,\n",
       " 0.005345398626392926,\n",
       " 0.005345906659008018,\n",
       " 0.0053464216998934146,\n",
       " 0.005346943718657851,\n",
       " 0.005347472684684854,\n",
       " 0.005348008567133168,\n",
       " 0.00534855133493717,\n",
       " 0.005349100956807352,\n",
       " 0.005349657401230735,\n",
       " 0.005350220636471355,\n",
       " 0.0053507906305707,\n",
       " 0.005351367351348194,\n",
       " 0.005351950766401657,\n",
       " 0.0053525408431078095,\n",
       " 0.005353137548622731,\n",
       " 0.005353740849882377,\n",
       " 0.005354350713603066,\n",
       " 0.005354967106282001,\n",
       " 0.005355589994197762,\n",
       " 0.005356219343410854,\n",
       " 0.005356855119764217,\n",
       " 0.005357497288883772,\n",
       " 0.005358145816178954,\n",
       " 0.00535880066684329,\n",
       " 0.00535946180585492,\n",
       " 0.005360129197977187,\n",
       " 0.0053608028077592115,\n",
       " 0.005361482599536473,\n",
       " 0.005362168537431386,\n",
       " 0.005362860585353918,\n",
       " 0.005363558707002184,\n",
       " 0.0053642628658630755,\n",
       " 0.005364973025212857,\n",
       " 0.005365689148117835,\n",
       " 0.005366411197434974,\n",
       " 0.0053671391358125495,\n",
       " 0.0053678729256908175,\n",
       " 0.005368612529302667,\n",
       " 0.005369357908674306,\n",
       " 0.005370109025625963,\n",
       " 0.005370865841772542,\n",
       " 0.005371628318524368,\n",
       " 0.005372396417087889,\n",
       " 0.005373170098466384,\n",
       " 0.005373949323460723,\n",
       " 0.005374734052670088,\n",
       " 0.005375524246492739,\n",
       " 0.005376319865126782,\n",
       " 0.00537712086857093,\n",
       " 0.005377927216625302,\n",
       " 0.005378738868892199,\n",
       " 0.005379555784776928,\n",
       " 0.005380377923488607,\n",
       " 0.005381205244040999,\n",
       " 0.005382037705253341,\n",
       " 0.005382875265751197,\n",
       " 0.005383717883967313,\n",
       " 0.005384565518142493,\n",
       " 0.005385418126326482,\n",
       " 0.00538627566637885,\n",
       " 0.005387138095969899,\n",
       " 0.0053880053725815814,\n",
       " 0.005388877453508431,\n",
       " 0.005389754295858485,\n",
       " 0.005390635856554257,\n",
       " 0.005391522092333687,\n",
       " 0.005392412959751109,\n",
       " 0.005393308415178255,\n",
       " 0.005394208414805233,\n",
       " 0.005395112914641562,\n",
       " 0.005396021870517174,\n",
       " 0.0053969352380834465,\n",
       " 0.005397852972814277,\n",
       " 0.0053987750300071215,\n",
       " 0.0053997013647840665,\n",
       " 0.005400631932092928,\n",
       " 0.005401566686708341,\n",
       " 0.005402505583232868,\n",
       " 0.005403448576098136,\n",
       " 0.005404395619565959,\n",
       " 0.005405346667729506,\n",
       " 0.005406301674514433,\n",
       " 0.005407260593680103,\n",
       " 0.005408223378820748,\n",
       " 0.005409189983366677,\n",
       " 0.005410160360585498,\n",
       " 0.0054111344635833425,\n",
       " 0.005412112245306117,\n",
       " 0.005413093658540765,\n",
       " 0.005414078655916522,\n",
       " 0.00541506718990622,\n",
       " 0.00541605921282757,\n",
       " 0.005417054676844495,\n",
       " 0.0054180535339684414,\n",
       " 0.005419055736059732,\n",
       " 0.005420061234828914,\n",
       " 0.0054210699818381305,\n",
       " 0.005422081928502513,\n",
       " 0.005423097026091573,\n",
       " 0.005424115225730606,\n",
       " 0.005425136478402147,\n",
       " 0.005426160734947382,\n",
       " 0.005427187946067625,\n",
       " 0.0054282180623257785,\n",
       " 0.005429251034147827,\n",
       " 0.005430286811824328,\n",
       " 0.005431325345511938,\n",
       " 0.005432366585234932,\n",
       " 0.005433410480886756,\n",
       " 0.005434456982231583,\n",
       " 0.005435506038905893,\n",
       " 0.0054365576004200495,\n",
       " 0.005437611616159917,\n",
       " 0.005438668035388468,\n",
       " 0.005439726807247432,\n",
       " 0.005440787880758928,\n",
       " 0.005441851204827144,\n",
       " 0.005442916728240003,\n",
       " 0.005443984399670864,\n",
       " 0.005445054167680226,\n",
       " 0.005446125980717462,\n",
       " 0.005447199787122548,\n",
       " 0.0054482755351278256,\n",
       " 0.005449353172859759,\n",
       " 0.005450432648340734,\n",
       " 0.005451513909490854,\n",
       " 0.005452596904129742,\n",
       " 0.005453681579978393,\n",
       " 0.005454767884660996,\n",
       " 0.0054558557657068095,\n",
       " 0.005456945170552031,\n",
       " 0.00545803604654169,\n",
       " 0.005459128340931552,\n",
       " 0.0054602220008900335,\n",
       " 0.005461316973500143,\n",
       " 0.005462413205761439,\n",
       " 0.005463510644591975,\n",
       " 0.005464609236830301,\n",
       " 0.005465708929237447,\n",
       " 0.005466809668498938,\n",
       " 0.005467911401226816,\n",
       " 0.005469014073961672,\n",
       " 0.005470117633174726,\n",
       " 0.005471222025269874,\n",
       " 0.005472327196585778,\n",
       " 0.005473433093397966,\n",
       " 0.005474539661920942,\n",
       " 0.0054756468483103254,\n",
       " 0.005476754598664982,\n",
       " 0.005477862859029188,\n",
       " 0.005478971575394791,\n",
       " 0.005480080693703415,\n",
       " 0.005481190159848644,\n",
       " 0.0054822999196782445,\n",
       " 0.0054834099189963875,\n",
       " 0.005484520103565902,\n",
       " 0.005485630419110517,\n",
       " 0.005486740811317157,\n",
       " 0.005487851225838198,\n",
       " 0.005488961608293779,\n",
       " 0.0054900719042741165,\n",
       " 0.005491182059341835,\n",
       " 0.005492292019034278,\n",
       " 0.0054934017288659105,\n",
       " 0.005494511134330631,\n",
       " 0.005495620180904197,\n",
       " 0.005496728814046579,\n",
       " 0.005497836979204396,\n",
       " 0.005498944621813314,\n",
       " 0.00550005168730049,\n",
       " 0.00550115812108701,\n",
       " 0.00550226386859034,\n",
       " 0.005503368875226814,\n",
       " 0.005504473086414092,\n",
       " 0.005505576447573668,\n",
       " 0.0055066789041333785,\n",
       " 0.005507780401529899,\n",
       " 0.005508880885211305,\n",
       " 0.005509980300639587,\n",
       " 0.005511078593293215,\n",
       " 0.005512175708669709,\n",
       " 0.005513271592288189,\n",
       " 0.005514366189691997,\n",
       " 0.005515459446451267,\n",
       " 0.005516551308165546,\n",
       " 0.005517641720466415,\n",
       " 0.00551873062902011,\n",
       " 0.0055198179795301625,\n",
       " 0.005520903717740065,\n",
       " 0.005521987789435907,\n",
       " 0.005523070140449077,\n",
       " 0.005524150716658906,\n",
       " 0.005525229463995388,\n",
       " 0.005526306328441852,\n",
       " 0.005527381256037705,\n",
       " 0.005528454192881109,\n",
       " 0.005529525085131735,\n",
       " 0.005530593879013492,\n",
       " 0.005531660520817255,\n",
       " 0.005532724956903642,\n",
       " 0.005533787133705741,\n",
       " 0.005534846997731914,\n",
       " 0.0055359044955685405,\n",
       " 0.005536959573882812,\n",
       " 0.005538012179425524,\n",
       " 0.005539062259033867,\n",
       " 0.005540109759634241,\n",
       " 0.00554115462824504,\n",
       " 0.005542196811979494,\n",
       " 0.005543236258048486,\n",
       " 0.005544272913763367,\n",
       " 0.0055453067265387995,\n",
       " 0.0055463376438955984,\n",
       " 0.005547365613463577,\n",
       " 0.00554839058298439,\n",
       " 0.00554941250031439,\n",
       " 0.005550431313427491,\n",
       " 0.005551446970418025,\n",
       " 0.00555245941950362,\n",
       " 0.005553468609028057,\n",
       " 0.005554474487464154,\n",
       " 0.005555477003416651,\n",
       " 0.005556476105625076,\n",
       " 0.005557471742966632,\n",
       " 0.005558463864459096,\n",
       " 0.005559452419263706,\n",
       " 0.005560437356688029,\n",
       " 0.005561418626188885,\n",
       " 0.005562396177375232,\n",
       " 0.005563369960011044,\n",
       " 0.0055643399240182375,\n",
       " 0.005565306019479537,\n",
       " 0.005566268196641406,\n",
       " 0.005567226405916924,\n",
       " 0.0055681805978886854,\n",
       " 0.005569130723311708,\n",
       " 0.005570076733116323,\n",
       " 0.005571018578411075,\n",
       " 0.0055719562104856075,\n",
       " 0.005572889580813582,\n",
       " 0.005573818641055539,\n",
       " 0.005574743343061803,\n",
       " 0.005575663638875371,\n",
       " 0.0055765794807347965,\n",
       " 0.005577490821077078,\n",
       " 0.005578397612540523,\n",
       " 0.005579299807967639,\n",
       " 0.005580197360407987,\n",
       " 0.005581090223121073,\n",
       " 0.005581978349579201,\n",
       " 0.005582861693470324,\n",
       " 0.005583740208700907,\n",
       " 0.005584613849398768,\n",
       " 0.005585482569915938,\n",
       " 0.00558634632483148,\n",
       " 0.005587205068954325,\n",
       " 0.005588058757326105,\n",
       " 0.005588907345223957,\n",
       " 0.005589750788163357,\n",
       " 0.005590589041900883,\n",
       " 0.005591422062437062,\n",
       " 0.005592249806019123,\n",
       " 0.005593072229143776,\n",
       " 0.00559388928856001,\n",
       " 0.005594700941271826,\n",
       " 0.005595507144541012,\n",
       " 0.005596307855889867,\n",
       " 0.0055971030331039544,\n",
       " 0.005597892634234808,\n",
       " 0.005598676617602658,\n",
       " 0.005599454941799126,\n",
       " 0.005600227565689923,\n",
       " 0.005600994448417526,\n",
       " 0.005601755549403834,\n",
       " 0.005602510828352853,\n",
       " 0.005603260245253313,\n",
       " 0.005604003760381314,\n",
       " 0.005604741334302941,\n",
       " 0.005605472927876862,\n",
       " 0.005606198502256942,\n",
       " 0.005606918018894796,\n",
       " 0.005607631439542359,\n",
       " 0.005608338726254457,\n",
       " 0.005609039841391308,\n",
       " 0.00560973474762107,\n",
       " 0.0056104234079223285,\n",
       " 0.0056111057855865966,\n",
       " 0.005611781844220779,\n",
       " 0.005612451547749636,\n",
       " 0.005613114860418213,\n",
       " 0.005613771746794283,\n",
       " 0.005614422171770734,\n",
       " 0.005615066100567964,\n",
       " 0.005615703498736261,\n",
       " 0.005616334332158141,\n",
       " 0.005616958567050695,\n",
       " 0.005617576169967893,\n",
       " 0.005618187107802896,\n",
       " 0.0056187913477903275,\n",
       " 0.005619388857508531,\n",
       " 0.005619979604881806,\n",
       " 0.005620563558182633,\n",
       " 0.005621140686033876,\n",
       " 0.00562171095741094,\n",
       " 0.005622274341643956,\n",
       " 0.005622830808419905,\n",
       " 0.005623380327784723,\n",
       " 0.005623922870145405,\n",
       " 0.005624458406272078,\n",
       " 0.005624986907300041,\n",
       " 0.005625508344731803,\n",
       " 0.0056260226904390745,\n",
       " 0.005626529916664749,\n",
       " 0.005627029996024878,\n",
       " 0.005627522901510582,\n",
       " 0.0056280086064899705,\n",
       " 0.005628487084710038,\n",
       " 0.005628958310298505,\n",
       " 0.005629422257765671,\n",
       " 0.005629878902006225,\n",
       " 0.005630328218301031,\n",
       " 0.005630770182318888,\n",
       " 0.00563120477011827,\n",
       " 0.005631631958149038,\n",
       " 0.005632051723254127,\n",
       " 0.005632464042671196,\n",
       " 0.005632868894034276,\n",
       " 0.005633266255375365,\n",
       " 0.005633656105126005,\n",
       " 0.005634038422118851,\n",
       " 0.005634413185589179,\n",
       " 0.005634780375176395,\n",
       " 0.005635139970925496,\n",
       " 0.005635491953288526,\n",
       " 0.005635836303125975,\n",
       " 0.005636173001708178,\n",
       " 0.005636502030716665,\n",
       " 0.005636823372245498,\n",
       " 0.005637137008802564,\n",
       " 0.005637442923310849,\n",
       " 0.005637741099109691,\n",
       " 0.005638031519955967,\n",
       " 0.005638314170025316,\n",
       " 0.005638589033913256,\n",
       " 0.005638856096636332,\n",
       " 0.005639115343633201,\n",
       " 0.0056393667607656985,\n",
       " 0.005639610334319878,\n",
       " 0.005639846051007006,\n",
       " 0.005640073897964543,\n",
       " 0.005640293862757087,\n",
       " 0.005640505933377283,\n",
       " 0.005640710098246695,\n",
       " 0.005640906346216683,\n",
       " 0.005641094666569191,\n",
       " 0.005641275049017559,\n",
       " 0.005641447483707268,\n",
       " 0.005641611961216668,\n",
       " 0.005641768472557674,\n",
       " 0.005641917009176424,\n",
       " 0.005642057562953916,\n",
       " 0.0056421901262066,\n",
       " 0.005642314691686944,\n",
       " 0.005642431252583983,\n",
       " 0.005642539802523803,\n",
       " 0.005642640335570028,\n",
       " 0.005642732846224238,\n",
       " 0.005642817329426403,\n",
       " 0.005642893780555231,\n",
       " 0.005642962195428533,\n",
       " 0.005643022570303502,\n",
       " 0.005643074901877027,\n",
       " 0.005643119187285906,\n",
       " 0.005643155424107076,\n",
       " 0.005643183610357787,\n",
       " 0.005643203744495745,\n",
       " 0.0056432158254192295,\n",
       " 0.005643219852467179]"
      ]
     },
     "execution_count": 58,
     "metadata": {},
     "output_type": "execute_result"
    }
   ],
   "source": [
    "spectral_density = list(spectral_density)\n",
    "spectral_density"
   ]
  },
  {
   "cell_type": "code",
   "execution_count": 59,
   "metadata": {},
   "outputs": [
    {
     "data": {
      "text/plain": [
       "[<matplotlib.lines.Line2D at 0x7fec1b6c9e10>]"
      ]
     },
     "execution_count": 59,
     "metadata": {},
     "output_type": "execute_result"
    },
    {
     "data": {
      "image/png": "[encoded data removed]",
      "text/plain": [
       "<Figure size 432x288 with 1 Axes>"
      ]
     },
     "metadata": {
      "needs_background": "light"
     },
     "output_type": "display_data"
    }
   ],
   "source": [
    "plt.plot(f, spectral_density)"
   ]
  },
  {
   "cell_type": "markdown",
   "metadata": {},
   "source": [
    "## 以1为周期的偶函数，我们只取正的部分，从0到0.5，函数形状由alpha决定，alpha1比较大，是单峰，大周期，是趋势，alpha比较大，是双峰，小周期是震荡"
   ]
  },
  {
   "cell_type": "code",
   "execution_count": 60,
   "metadata": {},
   "outputs": [],
   "source": [
    "alpha1 = 0.05\n",
    "alpha2 = -0.1"
   ]
  },
  {
   "cell_type": "code",
   "execution_count": 61,
   "metadata": {},
   "outputs": [
    {
     "data": {
      "text/plain": [
       "0.07500000000000001"
      ]
     },
     "execution_count": 61,
     "metadata": {},
     "output_type": "execute_result"
    }
   ],
   "source": [
    "alpha = np.array([alpha1, alpha2])\n",
    "sigma = alpha.std()\n",
    "sigma"
   ]
  },
  {
   "cell_type": "code",
   "execution_count": 62,
   "metadata": {},
   "outputs": [],
   "source": [
    "s = lambda f : (2*sigma)/(abs(1 - alpha1*np.exp(complex(0,-1*2*pi*f)) - alpha2*np.exp(complex(0,-4*pi*f))))**2"
   ]
  },
  {
   "cell_type": "code",
   "execution_count": 63,
   "metadata": {},
   "outputs": [
    {
     "data": {
      "text/plain": [
       "[<matplotlib.lines.Line2D at 0x7fec01057cd0>]"
      ]
     },
     "execution_count": 63,
     "metadata": {},
     "output_type": "execute_result"
    },
    {
     "data": {
      "image/png": "[encoded data removed]",
      "text/plain": [
       "<Figure size 432x288 with 1 Axes>"
      ]
     },
     "metadata": {
      "needs_background": "light"
     },
     "output_type": "display_data"
    }
   ],
   "source": [
    "spectral_density = map(s, f)\n",
    "spectral_density = list(spectral_density)\n",
    "plt.plot(f, spectral_density)"
   ]
  },
  {
   "cell_type": "code",
   "execution_count": 66,
   "metadata": {},
   "outputs": [
    {
     "data": {
      "text/plain": [
       "0.18634975360316727"
      ]
     },
     "execution_count": 66,
     "metadata": {},
     "output_type": "execute_result"
    }
   ],
   "source": [
    "max(spectral_density)"
   ]
  },
  {
   "cell_type": "markdown",
   "metadata": {},
   "source": [
    "### 选取频谱密度最大的点作为频率"
   ]
  },
  {
   "cell_type": "code",
   "execution_count": 69,
   "metadata": {},
   "outputs": [],
   "source": [
    "max_index = spectral_density.index(max(spectral_density))"
   ]
  },
  {
   "cell_type": "code",
   "execution_count": 70,
   "metadata": {},
   "outputs": [],
   "source": [
    "f = max_index / 1000 * 0.5"
   ]
  },
  {
   "cell_type": "code",
   "execution_count": 71,
   "metadata": {},
   "outputs": [],
   "source": [
    "T = 1/f"
   ]
  },
  {
   "cell_type": "code",
   "execution_count": 72,
   "metadata": {},
   "outputs": [
    {
     "data": {
      "text/plain": [
       "4.385964912280701"
      ]
     },
     "execution_count": 72,
     "metadata": {},
     "output_type": "execute_result"
    }
   ],
   "source": [
    "T"
   ]
  },
  {
   "cell_type": "markdown",
   "metadata": {},
   "source": [
    "# 可以直接运行的滤波器函数，输入当前时间，输出当前期货价格对应周期的大小"
   ]
  },
  {
   "cell_type": "code",
   "execution_count": null,
   "metadata": {},
   "outputs": [],
   "source": [
    "now = datetime.datetime.now()"
   ]
  },
  {
   "cell_type": "code",
   "execution_count": null,
   "metadata": {},
   "outputs": [],
   "source": [
    "def Filter(now):\n",
    "    time_delta = datetime.timedelta(weeks=4, days=0, hours=0, minutes=0,  seconds=0)\n",
    "    start_date = now - time_delta\n",
    "    end_date = now\n",
    "    df = get_price('000300.XSHG', start_date = start_date, end_date = end_date, frequency = 'minute')\n",
    "    df = df.reset_index()\n",
    "    df = df.diff()\n",
    "    df = df.dropna()\n",
    "    max_range = df.shape[0]\n",
    "    df_40 = pd.DataFrame()\n",
    "    for i in range(0, max_range, 6):\n",
    "        s = df.iloc[i]\n",
    "        df_40 = df_40.append(s, ignore_index = True)\n",
    "    max_lag = 40\n",
    "    Y_40 = df_40['close']\n",
    "    mod = AutoReg(Y_40, 2)\n",
    "    res = mod.fit()\n",
    "    phi1 = res.params[1]\n",
    "    phi2 = res.params[2]\n",
    "    alpha1 = phi1\n",
    "    alpha2 = phi2\n",
    "    alpha = np.array([alpha1, alpha2])\n",
    "    sigma = alpha.std()\n",
    "    pi = math.pi\n",
    "    f = np.linspace(0, 0.5, 1000)\n",
    "    spectrum = lambda f : (2*sigma)/(abs(1 - alpha1*np.exp(complex(0,-1*2*pi*f)) - alpha2*np.exp(complex(0,-4*pi*f))))**2\n",
    "    spectral_density = map(spectrum, f)\n",
    "    spectral_density = list(spectral_density)\n",
    "    #plt.plot(f, spectral_density) #画图\n",
    "    max_index = spectral_density.index(max(spectral_density))\n",
    "    f_max = max_index / 1000 * 0.5\n",
    "    if (f_max == 0):\n",
    "        T = math.inf\n",
    "    else:\n",
    "        T = 1/f_max\n",
    "    return T"
   ]
  },
  {
   "cell_type": "code",
   "execution_count": null,
   "metadata": {},
   "outputs": [],
   "source": [
    "Filter(now)"
   ]
  }
 ],
 "metadata": {
  "kernelspec": {
   "display_name": "Python 3",
   "language": "python",
   "name": "python3"
  },
  "language_info": {
   "codemirror_mode": {
    "name": "ipython",
    "version": 3
   },
   "file_extension": ".py",
   "mimetype": "text/x-python",
   "name": "python",
   "nbconvert_exporter": "python",
   "pygments_lexer": "ipython3",
   "version": "3.6.7"
  },
  "toc": {
   "base_numbering": 1,
   "nav_menu": {},
   "number_sections": false,
   "sideBar": true,
   "skip_h1_title": false,
   "title_cell": "MarkDown菜单",
   "title_sidebar": "Contents",
   "toc_cell": false,
   "toc_position": {},
   "toc_section_display": true,
   "toc_window_display": false
  }
 },
 "nbformat": 4,
 "nbformat_minor": 2
}
