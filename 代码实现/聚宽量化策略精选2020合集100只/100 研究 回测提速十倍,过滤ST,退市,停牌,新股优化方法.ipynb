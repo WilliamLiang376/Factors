{
 "cells": [
  {
   "cell_type": "code",
   "execution_count": 9,
   "metadata": {},
   "outputs": [],
   "source": [
    "# 风险及免责提示：该策略由聚宽用户在聚宽社区分享，仅供学习交流使用。\n",
    "# 原文一般包含策略说明，如有疑问请到原文和作者交流讨论。\n",
    "# 原文网址：https://www.joinquant.com/view/community/detail/27592\n",
    "# 标题：回测提速十倍,过滤ST,退市,停牌,新股优化方法\n",
    "\n",
    "\n",
    "# 过滤 ST,停牌，新股,科创板\n",
    "def filter_st_paused_new(stock_list,days,context):\n",
    "    df = get_all_securities(types=['stock'], date=context.current_dt)\n",
    "    kcb=list(df[df.index.str.startswith('688')].index.unique()) # 排除科创板股票\n",
    "    start_date=(context.current_dt - timedelta(days=days)).date()\n",
    "    df_new_stock = df[df['start_date'] > start_date]\n",
    "    stock_list = list(set(stock_list).difference(set(df_new_stock.index)).difference(set(kcb)))\n",
    "    curr_data = get_current_data()\n",
    "    stock_list = [stock for stock in stock_list if not curr_data[stock].is_st] # 非ST 几百只\n",
    "    stock_list = [stock for stock in stock_list if not curr_data[stock].paused]  #非停牌 几十只\n",
    "    stock_list = [curr_data[stock].code for stock in stock_list if '退' not in curr_data[stock].name] #排除退市股票\n",
    "    return stock_list"
   ]
  },
  {
   "cell_type": "code",
   "execution_count": 10,
   "metadata": {},
   "outputs": [],
   "source": [
    "# 过滤 ST,停牌，新股\n",
    "def filter_st_paused_new(days,context):\n",
    "    df = get_all_securities(types=['stock'], date=context.current_dt)\n",
    "    df = df[~df.index.str.startswith('688')] # 排除科创板股票\n",
    "    start_date=(context.current_dt - timedelta(days=days)).date()\n",
    "    df_new_stock = df[df['start_date'] > start_date]\n",
    "    stock_list = list(set(df.index).difference(set(df_new_stock.index)))\n",
    "    curr_data = get_current_data()\n",
    "    stock_list = [stock for stock in stock_list if not curr_data[stock].is_st] # 非ST 几百只\n",
    "    stock_list = [stock for stock in stock_list if not curr_data[stock].paused]  #非停牌 几十只\n",
    "    stock_list = [curr_data[stock].code for stock in stock_list if '退' not in curr_data[stock].name] #排除退市股票\n",
    "    return stock_list"
   ]
  },
  {
   "cell_type": "code",
   "execution_count": 20,
   "metadata": {},
   "outputs": [],
   "source": [
    "# 经过测试 get_current_data 全A股遍历，1个字段 100ms左右，增加一个字段增加30ms左右\n",
    "# get_current_data[symbol].is_st 覆盖 ST，*ST，退 关键词个股 无需再name字段过滤\n",
    "# 全A股的新股过滤耗时约30ms-40ms\n",
    "# 整个函数调用 平均160ms左右\n",
    "# 影响回测速度最大是是数据API的调用次数,调用一次增加几十毫秒延迟\n",
    "# 使用get_current_data过滤，过滤条件最好分开写，层层过滤，缩小股票池，减少下一次API调用次数"
   ]
  },
  {
   "cell_type": "code",
   "execution_count": 11,
   "metadata": {},
   "outputs": [],
   "source": [
    "# 函数测试环境代码\n",
    "import jqdata\n",
    "from datetime import datetime,date,timedelta\n",
    "# 初始化函数，设定要操作的股票、基准等等\n",
    "def initialize(context):\n",
    "    g.total_time=0\n",
    "    g.total_count=0\n",
    "    \n",
    "\n",
    "# 每个单位时间(如果按天回测,则每天调用一次,如果按分钟,则每分钟调用一次)调用一次\n",
    "def handle_data(context, data):\n",
    "    securities=list(get_all_securities().index)\n",
    "    start=datetime.now()\n",
    "    stock_list= filter_st_paused_new(securities,180,context)\n",
    "    g.total_time+=(datetime.now()-start).microseconds\n",
    "    g.total_count+=1\n",
    "    log.info(\"avg time in microseconds:-----\"+str(g.total_time/g.total_count))   \n",
    "\n",
    "import pandas as pd\n",
    "\n",
    "# 过滤 ST,停牌，新股,科创板\n",
    "def filter_st_paused_new(stock_list,days,context):\n",
    "    df = get_all_securities(types=['stock'], date=context.current_dt)\n",
    "    kcb=list(df[df.index.str.startswith('688')].index.unique()) # 排除科创板股票\n",
    "    start_date=(context.current_dt - timedelta(days=days)).date()\n",
    "    df_new_stock = df[df['start_date'] > start_date]\n",
    "    stock_list = list(set(stock_list).difference(set(df_new_stock.index)).difference(set(kcb)))\n",
    "    curr_data = get_current_data()\n",
    "    stock_list = [stock for stock in stock_list if not curr_data[stock].is_st] # 非ST 几百只\n",
    "    stock_list = [stock for stock in stock_list if not curr_data[stock].paused]  #非停牌 几十只\n",
    "    stock_list = [curr_data[stock].code for stock in stock_list if '退' not in curr_data[stock].name] #排除退市股票\n",
    "    return stock_list"
   ]
  },
  {
   "cell_type": "code",
   "execution_count": null,
   "metadata": {},
   "outputs": [],
   "source": []
  },
  {
   "cell_type": "code",
   "execution_count": null,
   "metadata": {},
   "outputs": [],
   "source": []
  },
  {
   "cell_type": "code",
   "execution_count": null,
   "metadata": {},
   "outputs": [],
   "source": []
  }
 ],
 "metadata": {
  "kernelspec": {
   "display_name": "Python 3",
   "language": "python",
   "name": "python3"
  },
  "language_info": {
   "codemirror_mode": {
    "name": "ipython",
    "version": 3
   },
   "file_extension": ".py",
   "mimetype": "text/x-python",
   "name": "python",
   "nbconvert_exporter": "python",
   "pygments_lexer": "ipython3",
   "version": "3.6.7"
  },
  "toc": {
   "base_numbering": 1,
   "nav_menu": {},
   "number_sections": false,
   "sideBar": true,
   "skip_h1_title": false,
   "title_cell": "MarkDown菜单",
   "title_sidebar": "Contents",
   "toc_cell": false,
   "toc_position": {},
   "toc_section_display": true,
   "toc_window_display": false
  }
 },
 "nbformat": 4,
 "nbformat_minor": 2
}
