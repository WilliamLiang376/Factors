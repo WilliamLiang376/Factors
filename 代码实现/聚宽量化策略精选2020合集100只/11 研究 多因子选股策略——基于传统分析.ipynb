{
 "cells": [
  {
   "cell_type": "code",
   "execution_count": 1,
   "metadata": {
    "code_folding": []
   },
   "outputs": [],
   "source": [
    "# 风险及免责提示：该策略由聚宽用户在聚宽社区分享，仅供学习交流使用。\n",
    "# 原文一般包含策略说明，如有疑问请到原文和作者交流讨论。\n",
    "# 原文网址：https://www.joinquant.com/view/community/detail/25511\n",
    "# 标题：多因子选股策略——基于传统分析\n",
    "\n",
    "import pandas as pd\n",
    "from jqdata import *\n",
    "from sklearn.linear_model import LinearRegression\n",
    "import matplotlib.pyplot as plt\n",
    "import datetime\n",
    "import pickle\n",
    "from sklearn.linear_model import LinearRegression\n",
    "from sklearn.metrics import r2_score\n",
    "import warnings\n",
    "warnings.filterwarnings('ignore')\n",
    "import matplotlib\n",
    "matplotlib.rcParams['font.family']='serif'\n",
    "matplotlib.rcParams['axes.unicode_minus']=False # 处理负号"
   ]
  },
  {
   "cell_type": "code",
   "execution_count": 2,
   "metadata": {
    "code_folding": [
     3
    ]
   },
   "outputs": [],
   "source": [
    "'''\n",
    "基本面因子映射\n",
    "'''\n",
    "fac_dict = {\n",
    "    #规模因子\n",
    "    'MC':valuation.market_cap, # 总市值\n",
    "    'TA':balance.total_assets, # 总资产\n",
    "    'TOR':income.total_operating_revenue, # 营业总收入\n",
    "    \n",
    "    #竞争力因子\n",
    "    'GPM':indicator.gross_profit_margin, # 毛利率\n",
    "    'NPM':indicator.net_profit_margin, # 净利率\n",
    "    'AP':balance.accounts_payable,  #应付账款\n",
    "    'APE':balance.advance_peceipts, #预收账款\n",
    "    'AR':balance.account_receivable, #应收账款\n",
    "    'APA':balance.advance_payment, #预付账款\n",
    "    #'APAR':balance.accounts_payable / balance.account_receivable,\n",
    "    #'APARP':(balance.accounts_payable + balance.advance_peceipts) / (balance.account_receivable + balance.advance_payment),\n",
    "    #(应付账款+预收账款) / (应收账款+预付账款)\n",
    "    \n",
    "    #经营能力\n",
    "    'OPM':income.operating_profit / income.operating_revenue, #营业利润率\n",
    "    'INV':balance.inventories, #存货\n",
    "    'OC':income.operating_cost, #营业成本\n",
    "    \n",
    "    #估值因子\n",
    "    'PE':valuation.pe_ratio, # PE 市盈率\n",
    "    'PB':valuation.pb_ratio, # PB 市净率\n",
    "    'PR':valuation.pcf_ratio, # PR 市现率\n",
    "    'PS':valuation.ps_ratio, # PS 市销率\n",
    "    'EPS':indicator.eps, # 净资产收益率(扣除非经常损益)(%)\n",
    "    'BEPS':income.basic_eps, #基本每股收益\n",
    "    \n",
    "    \n",
    "    'GP':indicator.gross_profit_margin * income.operating_revenue, # 毛利润\n",
    "    'OP':income.operating_profit,\n",
    "    'OR':income.operating_revenue, # 营业收入\n",
    "    'NP':income.net_profit, # 净利润\n",
    "    'EV':valuation.market_cap + balance.shortterm_loan+balance.non_current_liability_in_one_year+balance.longterm_loan+balance.bonds_payable+balance.longterm_account_payable - cash_flow.cash_and_equivalents_at_end,\n",
    "    \n",
    "    'TOE':balance.total_owner_equities, # 股东权益合计(元)\n",
    "    'EBIT':income.net_profit+income.financial_expense+income.income_tax_expense,\n",
    "    \n",
    "    'TOC':income.total_operating_cost,#营业总成本\n",
    "    'NOCF/MC':cash_flow.net_operate_cash_flow / valuation.market_cap, #经营活动产生的现金流量净额/总市值\n",
    "    'OTR':indicator.ocf_to_revenue, #经营活动产生的现金流量净额/营业收入(%) \n",
    "    \n",
    "    \n",
    "    'GPOA':indicator.gross_profit_margin * income.operating_revenue / balance.total_assets,  #毛利润 / 总资产 = 毛利率*营业收入 / 总资产\n",
    "    'ROA':indicator.roa, # ROA\n",
    "    'ROE':indicator.roe, # ROE\n",
    "    'INC':indicator.inc_return, # 净资产收益率(扣除非经常损益)(%)\n",
    "    'AP':indicator.adjusted_profit, # 扣除非经常损益后的净利润(元)\n",
    "    'OP':indicator.operating_profit, # 经营活动净收益(元)\n",
    "    'VCP':indicator.value_change_profit, # 价值变动净收益(元) = 公允价值变动净收益+投资净收益+汇兑净收益\n",
    "    \n",
    "    'ETTR':indicator.expense_to_total_revenue, # 营业总成本/营业总收入(%)\n",
    "    'OPTTR':indicator.operation_profit_to_total_revenue, # 营业利润/营业总收入(%)\n",
    "    'NPTTR':indicator.net_profit_to_total_revenue, # 净利润/营业总收入(%)\n",
    "    'OETTR':indicator.operating_expense_to_total_revenue, # 营业费用/营业总收入\n",
    "    'GETTR':indicator.ga_expense_to_total_revenue, # 管理费用/营业总收入(%)\n",
    "    'FETTR':indicator.financing_expense_to_total_revenue, # 财务费用/营业总收入(%)\t\n",
    "    \n",
    "    'OPTP':indicator.operating_profit_to_profit, # 经营活动净收益/利润总额(%)\n",
    "    'IPTP':indicator.invesment_profit_to_profit, # 价值变动净收益/利润总额(%)\n",
    "    'GSASTR':indicator.goods_sale_and_service_to_revenue, # 销售商品提供劳务收到的现金/营业收入(%)\n",
    "    'OTR':indicator.ocf_to_revenue, # 经营活动产生的现金流量净额/营业收入(%)\n",
    "    'OTOP':indicator.ocf_to_operating_profit, # 经营活动产生的现金流量净额/经营活动净收益(%)\n",
    "    \n",
    "    'ITRYOY':indicator.inc_total_revenue_year_on_year, # 营业总收入同比增长率(%)\n",
    "    'ITRA':indicator.inc_total_revenue_annual, # 营业总收入环比增长率(%)\n",
    "    'IRYOY':indicator.inc_revenue_year_on_year, # 营业收入同比增长率(%)\n",
    "    'IRA':indicator.inc_revenue_annual, # 营业收入环比增长率(%)\n",
    "    'IOPYOY':indicator.inc_operation_profit_year_on_year, # 营业利润同比增长率(%)\n",
    "    'IOPA':indicator.inc_operation_profit_annual, # 营业利润环比增长率(%)\n",
    "    'INPYOY':indicator.inc_net_profit_year_on_year, # 净利润同比增长率(%)\n",
    "    'INPA':indicator.inc_net_profit_annual, # 净利润环比增长率(%)\n",
    "    'INPTSYOY':indicator.inc_net_profit_to_shareholders_year_on_year, # 归属母公司股东的净利润同比增长率(%)\n",
    "    'INPTSA':indicator.inc_net_profit_to_shareholders_annual, # 归属母公司股东的净利润环比增长率(%)\n",
    "    'INPTSA':indicator.inc_net_profit_to_shareholders_annual, # 归属母公司股东的净利润环比增长率(%)\n",
    "    \n",
    "    \n",
    "    'ROIC':(income.net_profit+income.financial_expense+income.income_tax_expense)/(balance.total_owner_equities+balance.shortterm_loan+balance.non_current_liability_in_one_year+balance.longterm_loan+balance.bonds_payable+balance.longterm_account_payable),\n",
    "    'OPTT':income.operating_profit / income.total_profit, # 营业利润占比\n",
    "    'TP/TOR':income.total_profit / income.total_operating_revenue, #利润总额/营业总收入\n",
    "    'OP/TOR':income.operating_profit / income.total_operating_revenue,\n",
    "    'NP/TOR':income.net_profit / income.total_operating_revenue,\n",
    "\n",
    "    'NP':income.net_profit, # 净利润\n",
    "    \n",
    "\n",
    "    'DER':balance.total_liability / balance.equities_parent_company_owners, # 产权比率 = 负债合计/归属母公司所有者权益合计\n",
    "    'FCFF/TNCL':(cash_flow.net_operate_cash_flow - cash_flow.net_invest_cash_flow) / balance.total_non_current_liability, #自由现金流比非流动负债\n",
    "    'NOCF/TL': cash_flow.net_operate_cash_flow / balance.total_liability, # 经营活动产生的现金流量净额/负债合计\n",
    "    'TCA/TCL':balance.total_current_assets / balance.total_current_liability, # 流动比率\n",
    "\n",
    "    \n",
    "    \n",
    "    'TOR/TA':income.total_operating_revenue / balance.total_assets, #总资产周转率\n",
    "    'TOR/FA':income.total_operating_revenue / balance.fixed_assets, #固定资产周转率\n",
    "    'TOR/TCA':income.total_operating_revenue / balance.total_current_assets, #流动资产周转率\n",
    "    'LTL/OC':balance.longterm_loan / income.operating_cost, #长期借款/营业成本\n",
    "    \n",
    "    'TL/TA':balance.total_liability / balance.total_assets, #总资产/总负债\n",
    "    'TL/TOE':balance.total_liability / balance.total_owner_equities,#负债权益比\n",
    "    \n",
    "    #规模因子\n",
    "    '':income.operating_revenue #营业总收入\n",
    "    \n",
    "    }"
   ]
  },
  {
   "cell_type": "code",
   "execution_count": 3,
   "metadata": {
    "code_folding": [
     0
    ]
   },
   "outputs": [
    {
     "data": {
      "text/plain": [
       "'2018-10-01'"
      ]
     },
     "execution_count": 3,
     "metadata": {},
     "output_type": "execute_result"
    }
   ],
   "source": [
    "def get_quanter_form_pubdate(date):\n",
    "    '''\n",
    "    基于给定的时间判断季度,此时间（date）必须是财报公布时间，由此判断是第几季度的报表。\n",
    "    计算第几季度是为了获取过去同季度数据\n",
    "    注：date不能是自定义时间，因为代码时间区间内，财报可能尚未公布。\n",
    "    input：date 从财报pubDate中得到的日期\n",
    "    '''\n",
    "    if type(date) == str:\n",
    "        year = int(date[:4])\n",
    "        month_day = date[5:]\n",
    "    elif type(date) == datetime.date:\n",
    "        date = date.strftime('%Y-%m-%d')\n",
    "        year = int(date[:4])\n",
    "        month_day = date[5:]\n",
    "    else:\n",
    "        return 'input date error'\n",
    "    \n",
    "    if month_day <= '05-01':\n",
    "        quanter = str(year-1)+'q4' #一季度报和去年年报公布时间差不多，在此时间段内，用去年年报分析，忽略一季度报\n",
    "    elif month_day >= '05-01' and month_day < '07-01':\n",
    "        quanter = str(year)+'q1'\n",
    "    elif month_day >= '05-01' and month_day < '09-01':\n",
    "        quanter = str(year)+'q2'\n",
    "    elif month_day >= '09-01':\n",
    "        quanter = str(year)+'q3'\n",
    "    return quanter\n",
    "def get_date_from_quanter(quanter_date):\n",
    "    '''\n",
    "    给定季度，获得日期。在获取行业股票时要基于时间，不同时间的上市公司可能有变化，\n",
    "    该方法获得的日期只是大概值\n",
    "    input:\n",
    "    quanter_date:必须是‘2019q3’形式\n",
    "    '''\n",
    "    year = quanter_date[:4]\n",
    "    quanter = int(quanter_date[-1])\n",
    "    if quanter == 1:\n",
    "        date = year + '-04-01'\n",
    "    elif quanter == 2:\n",
    "        date = year + '-08-01'\n",
    "    elif quanter == 3:\n",
    "        date = year + '-10-01'   \n",
    "    elif quanter == 4:\n",
    "        date = year + '-12-31'\n",
    "    return date  \n",
    "quanter = get_quanter_form_pubdate('2018-08-25')\n",
    "date = get_date_from_quanter('2018q3')\n",
    "date"
   ]
  },
  {
   "cell_type": "markdown",
   "metadata": {},
   "source": [
    "# 参数设置"
   ]
  },
  {
   "cell_type": "code",
   "execution_count": 87,
   "metadata": {
    "code_folding": []
   },
   "outputs": [
    {
     "data": {
      "text/plain": [
       "'\\nall_securities = get_all_securities(date=date)   #获取当天所有股票代码\\nall_stocks = list(all_securities.index)\\n\\n'"
      ]
     },
     "execution_count": 87,
     "metadata": {},
     "output_type": "execute_result"
    }
   ],
   "source": [
    "current_date = datetime.datetime.now()\n",
    "current_date = current_date - datetime.timedelta(1) #非工作日在获取财务数据时为空，故取前一天计算\n",
    "current_date = datetime.datetime.strftime(current_date,'%Y-%m-%d') #当前时间\n",
    "\n",
    "quanter_date = get_quanter_form_pubdate(current_date)\n",
    "year = int(quanter_date[:4])\n",
    "quanter = int(quanter_date[-1])\n",
    "\n",
    "#因子选择\n",
    "#规模因子\n",
    "scale_factors = ['MC','TA','TOR']\n",
    "\n",
    "#竞争力因子\n",
    "comptitiveness_factors_origin = ['AP','APE','AR','APA']\n",
    "comptitiveness_factors_use = ['GPM','NPM']\n",
    "comptitiveness_factors = comptitiveness_factors_origin + comptitiveness_factors_use\n",
    "\n",
    "#运营能力\n",
    "operating_factors = ['OPM']\n",
    "\n",
    "#成长性\n",
    "growth_factors_origin = ['EPS','NP']\n",
    "growth_factors_use = ['IRYOY','IRA']\n",
    "growth_factors = growth_factors_origin + growth_factors_use\n",
    "\n",
    "#估值因子\n",
    "valuation_factors = ['PE','PS','EPS']\n",
    "\n",
    "#总因子\n",
    "factor_list = scale_factors + comptitiveness_factors + operating_factors + growth_factors + valuation_factors\n",
    "factor_list = list(set(factor_list)) #去除重合因子\n",
    "\n",
    "date = '2018-10-20'    #获取此日期数据，eg:当天的股票信息\n",
    "\n",
    "#回测时间段\n",
    "start_date = '2015-01-01'\n",
    "end_date = '2019-12-31'\n",
    "#定义获取财报数据时间和历史数据窗口长度，以季度定义\n",
    "\n",
    "TIME_WINDOW = [30,60,90] #计算未来收益的时间窗口\n",
    "SELECT_STOCKS_NUM = 5 #每个行业选择的股票数\n",
    "WEIGHT =  [2,1,1,2,1]  #不同维度因子权重，此列表长度必须和选择的因子长度相同\n",
    "\n",
    "\n",
    "YEAR = 2018 #数据获取的年份\n",
    "QUATER = 2 #季度\n",
    "N = 3 #获取过去N年数据\n",
    "\n",
    "#未来买卖股票时间段\n",
    "buy_date = '2018-09-01'\n",
    "sell_date = '2019-03-31'\n",
    "\n",
    "#因子\n",
    "\n",
    "\n",
    "\n",
    "INDUSTRY_CODE = '801140'\n",
    "\n",
    "INDUSTRY_RULE = 'sw_l1'\n",
    "'''\n",
    "\"sw_l1\": 申万一级行业\n",
    "\"sw_l2\": 申万二级行业\n",
    "\"sw_l3\": 申万三级行业\n",
    "\"jq_l1\": 聚宽一级行业\n",
    "\"jq_l2\": 聚宽二级行业\n",
    "\"zjw\": 证监会行业\n",
    "'''\n",
    "\n",
    "'''\n",
    "all_securities = get_all_securities(date=date)   #获取当天所有股票代码\n",
    "all_stocks = list(all_securities.index)\n",
    "\n",
    "'''\n"
   ]
  },
  {
   "cell_type": "markdown",
   "metadata": {},
   "source": [
    "# 数据准备"
   ]
  },
  {
   "cell_type": "code",
   "execution_count": 5,
   "metadata": {
    "code_folding": [
     0
    ]
   },
   "outputs": [],
   "source": [
    "def get_stock_industry(name,date):\n",
    "    '''\n",
    "    获取股票对应的行业\n",
    "    input：\n",
    "    neme: str, \n",
    "    \"sw_l1\": 申万一级行业\n",
    "    \"sw_l2\": 申万二级行业\n",
    "    \"sw_l3\": 申万三级行业\n",
    "    \"jq_l1\": 聚宽一级行业\n",
    "    \"jq_l2\": 聚宽二级行业\n",
    "    \"zjw\": 证监会行业\n",
    "    date:str or datetime,日期\n",
    "    output: DataFrame,index 为股票代码，columns 为所属行业代码\n",
    "    '''\n",
    "    all_securities = get_all_securities(date=date)   #获取当天所有股票代码\n",
    "    all_stocks = list(all_securities.index)\n",
    "    industries = list(get_industries(name).index)\n",
    "    all_securities['industry_code'] = 1\n",
    "    for ind in industries:\n",
    "        industry_stocks = get_industry_stocks(ind,date)\n",
    "        #有的行业股票不在all_stocks列表之中\n",
    "        industry_stocks = set(all_stocks) & set(industry_stocks)\n",
    "        all_securities['industry_code'][industry_stocks] = ind\n",
    "    stock_industry = all_securities['industry_code'].to_frame()\n",
    "    #stock_industry.to_csv('stock_industry.csv')\n",
    "    return stock_industry\n",
    "\n"
   ]
  },
  {
   "cell_type": "code",
   "execution_count": 6,
   "metadata": {
    "code_folding": [
     0
    ]
   },
   "outputs": [],
   "source": [
    "def get_fundamental_data(factor_list, date, securities,ttm_factors=[]):\n",
    "    '''\n",
    "    获取基本面数据,横截面数据，时间、股票、因子三个参数确定\n",
    "    获取的数据中可能含有Nan值\n",
    "    输入：\n",
    "    factor_list:list, 普通因子\n",
    "    ttm_factors:list, ttm因子，获取过去四个季度财报数据的和\n",
    "    date:str 或者 datetime.data, 获取数据的时间\n",
    "    securities：list,默认为全部股票\n",
    "    输出：\n",
    "    DataFrame,普通因子和ttm因子的合并，index为股票代码，第一列也为股票代码\n",
    "    '''\n",
    "    if len(factor_list) == 0:\n",
    "        return 'fundamental list is empty, please input data'\n",
    "    #获取查询的factor list\n",
    "    q = query(valuation.code)\n",
    "    for fac in factor_list:\n",
    "        q = q.add_column(fac_dict[fac])\n",
    "    q = q.filter(valuation.code.in_(securities))\n",
    "    fundamental_df = get_fundamentals(q,date)\n",
    "    fundamental_df.index = fundamental_df['code']\n",
    "    print()\n",
    "    fundamental_df.columns = ['code'] + factor_list\n",
    "    if type(date) == str:\n",
    "        year = int(date[:4])\n",
    "        month_day = date[5:]\n",
    "    elif type(date) == datetime.date:\n",
    "        date = date.strftime('%Y-%m-%d')\n",
    "        year = int(date[:4])\n",
    "        month_day = date[5:]\n",
    "    else:\n",
    "        return 'input date error'\n",
    "    \n",
    "    if month_day < '05-01':\n",
    "        statdate_list = [str(year-2)+'q4', str(year-1)+'q1', str(year-1)+'q2', str(year-1)+'q3']\n",
    "    elif month_day >= '05-01' and month_day < '09-01':\n",
    "        statdate_list = [str(year-1)+'q1', str(year-1)+'q2', str(year-1)+'q3',str(year)+'q1']\n",
    "    elif month_day >= '09-01' and month_day < '11-01':\n",
    "        statdate_list = [str(year-1)+'q2', str(year-1)+'q3', str(year)+'q1', str(year)+'q2']\n",
    "    elif month_day >= '11-01':\n",
    "        statdate_list = [str(year-1)+'q4', str(year)+'q1', str(year)+'q2', str(year)+'q3']\n",
    "            \n",
    "    ttm_fundamental_data = ''\n",
    "   \n",
    "    ttm_q = query(valuation.code)\n",
    "    for fac in ttm_factors:\n",
    "        ttm_q = ttm_q.add_column(fac_dict[fac])\n",
    "    ttm_q = ttm_q.filter(valuation.code.in_(securities))  \n",
    "                             \n",
    "    for statdate in statdate_list:\n",
    "        if type(ttm_fundamental_data) == str:\n",
    "            fundamental_data = get_fundamentals(ttm_q, statDate=statdate)\n",
    "            fundamental_data.index = fundamental_data['code']\n",
    "            ttm_fundamental_data = fundamental_data\n",
    "        else:\n",
    "            fundamental_data = get_fundamentals(ttm_q, statDate=statdate)\n",
    "            fundamental_data.index = fundamental_data['code']\n",
    "            ttm_fundamental_data.iloc[:,1:] += fundamental_data.iloc[:,1:]\n",
    "    ttm_fundamental_data.columns = ['code'] + ttm_factors\n",
    "    results = pd.merge(fundamental_df,ttm_fundamental_data,on=['code'],how='inner')\n",
    "    results = results.sort_values(by='code')\n",
    "    results = results.set_index('code')\n",
    "    return results\n"
   ]
  },
  {
   "cell_type": "code",
   "execution_count": 7,
   "metadata": {
    "code_folding": [
     0
    ]
   },
   "outputs": [],
   "source": [
    "def get_stocks_fundamentals(stocks,fac_list,date):\n",
    "    '''\n",
    "    获取股票列表的财务数据\n",
    "    input:\n",
    "    stocks:股票列表\n",
    "    fac_list:财务数据列表\n",
    "    date:时间，获得横截面数据,可以是：‘2018-01-01’，或 ‘2018q3’\n",
    "    \n",
    "    output:\n",
    "    dataframe:\n",
    "    '''\n",
    "    q = query(valuation.code,cash_flow.pubDate)\n",
    "    for fac in fac_list:\n",
    "        q = q.add_column(fac_dict[fac])\n",
    "    q = q.filter(valuation.code.in_(stocks))\n",
    "    if len(date) == 6:\n",
    "        fund_data = get_fundamentals(q, statDate=date)\n",
    "    else:\n",
    "        fund_data = get_fundamentals(q, date)\n",
    "    fund_data = fund_data.sort_values(by='code')\n",
    "    fund_data = fund_data.set_index('code')\n",
    "    fund_data.columns = ['pubDate'] + fac_list\n",
    "    \n",
    "    '''\n",
    "    #部分股票没有对应的财务数据，结果中将自动删除该股票\n",
    "    code = set(fund_data['code'])\n",
    "    diff = set(stocks) - code\n",
    "    print(diff)    \n",
    "    '''\n",
    "    return fund_data\n"
   ]
  },
  {
   "cell_type": "code",
   "execution_count": 8,
   "metadata": {
    "code_folding": [
     0
    ]
   },
   "outputs": [],
   "source": [
    "def get_tradeday_list(start, end, frequency=None, count=None):\n",
    "    '''\n",
    "    获取日期列表\n",
    "    input:\n",
    "    start:str or datetime,起始时间，与count二选一\n",
    "    end:str or datetime，终止时间\n",
    "    frequency:\n",
    "        str: day,month,quarter,halfyear,默认为day\n",
    "        int:间隔天数\n",
    "    count:int,与start二选一，默认使用start\n",
    "    '''\n",
    "    if isinstance(frequency, int):\n",
    "        all_trade_days = get_trade_days(start, end)\n",
    "        trade_days = all_trade_days[::frequency]\n",
    "        days = [datetime.datetime.strftime(i, '%Y-%m-%d') for i in trade_days]\n",
    "        return days\n",
    "\n",
    "    if count != None:\n",
    "        df = get_price('000001.XSHG', end_date=end, count=count)\n",
    "    else:\n",
    "        df = get_price('000001.XSHG', start_date=start, end_date=end)\n",
    "    if frequency == None or frequency == 'day':\n",
    "        days = df.index\n",
    "    else:\n",
    "        df['year-month'] = [str(i)[0:7] for i in df.index]\n",
    "        if frequency == 'month':\n",
    "            days = df.drop_duplicates('year-month').index\n",
    "        elif frequency == 'quarter':\n",
    "            df['month'] = [str(i)[5:7] for i in df.index]\n",
    "            df = df[(df['month'] == '01') | (df['month'] == '04') | (df['month'] == '07') | (df['month'] == '10')]\n",
    "            days = df.drop_duplicates('year-month').index\n",
    "        elif frequency == 'halfyear':\n",
    "            df['month'] = [str(i)[5:7] for i in df.index]\n",
    "            df = df[(df['month'] == '01') | (df['month'] == '06')]\n",
    "            days = df.drop_duplicates('year-month').index\n",
    "    trade_days = [datetime.datetime.strftime(i, '%Y-%m-%d') for i in days]\n",
    "    return trade_days"
   ]
  },
  {
   "cell_type": "code",
   "execution_count": 9,
   "metadata": {
    "code_folding": []
   },
   "outputs": [],
   "source": [
    "industry_stocks = get_industry_stocks(INDUSTRY_CODE,date)"
   ]
  },
  {
   "cell_type": "code",
   "execution_count": 10,
   "metadata": {
    "code_folding": []
   },
   "outputs": [
    {
     "name": "stdout",
     "output_type": "stream",
     "text": [
      "\n"
     ]
    }
   ],
   "source": [
    "fund = get_fundamental_data(factor_list, date, industry_stocks )              "
   ]
  },
  {
   "cell_type": "code",
   "execution_count": 12,
   "metadata": {
    "code_folding": [
     1
    ]
   },
   "outputs": [],
   "source": [
    "\n",
    "def get_stocks_fundamentals(stocks,fac_list,date,pubdate=False):\n",
    "    '''\n",
    "    获取股票列表的财务数据\n",
    "    input:\n",
    "    stocks:股票列表\n",
    "    fac_list:财务数据列表\n",
    "    date:时间，获得横截面数据,可以是：‘2018-01-01’，或 ‘2018q3’\n",
    "    \n",
    "    output:\n",
    "    dataframe:\n",
    "    '''\n",
    "    if len(stocks) > 4:\n",
    "        if stocks[-5] == '.':\n",
    "            stocks = [stocks]\n",
    "    if pubdate == False:\n",
    "        q = query(valuation.code)\n",
    "        for fac in fac_list:\n",
    "            q = q.add_column(fac_dict[fac])\n",
    "        q = q.filter(valuation.code.in_(stocks))\n",
    "        if len(date) == 6: #季度方式获取\n",
    "            fund_data = get_fundamentals(q, statDate=date)\n",
    "        else:\n",
    "            fund_data = get_fundamentals(q, date)\n",
    "        fund_data.columns = ['code'] + fac_list\n",
    "        fund_data = fund_data.set_index('code')\n",
    "    else:\n",
    "        q = query(valuation.code,cash_flow.pubDate)\n",
    "        for fac in fac_list:\n",
    "            q = q.add_column(fac_dict[fac])\n",
    "        q = q.filter(valuation.code.in_(stocks))\n",
    "        if len(date) == 6: #季度方式获取\n",
    "            fund_data = get_fundamentals(q, statDate=date)\n",
    "        else:\n",
    "            fund_data = get_fundamentals(q, date)\n",
    "        fund_data.columns = ['code', 'pubdate'] + fac_list\n",
    "        fund_data = fund_data.set_index('code')\n",
    "\n",
    "    return fund_data\n"
   ]
  },
  {
   "cell_type": "markdown",
   "metadata": {},
   "source": [
    "# 数据计算模块"
   ]
  },
  {
   "cell_type": "code",
   "execution_count": 13,
   "metadata": {
    "code_folding": [
     1,
     38,
     55
    ]
   },
   "outputs": [],
   "source": [
    "#计算股票在同行业中的排名\n",
    "def rank_in_industry(industry_fund,indicator_list=None,pro_name=''):\n",
    "    '''\n",
    "    用排序值衡量个股在行业中的地位\n",
    "    input:\n",
    "    industry_fund:dataframe，行业所有股票的因子数据\n",
    "    indicator_list:list,用以指示排序顺序，有的因子越大越好，例如利润率，有的指标越小越好，例如PE，\n",
    "    eg:[1,-1],第一列正序排列，第二列反序排列\n",
    "    output：\n",
    "    rank: dateframe 排序后的df\n",
    "    '''\n",
    "    industry_fund = outlier_processing(industry_fund)\n",
    "    col = industry_fund.columns\n",
    "    if indicator_list != None:\n",
    "        if len(col) != len(indicator_list):\n",
    "            print('input indicator_list error.')\n",
    "    if indicator_list == None:\n",
    "        indicator_list = []\n",
    "        for i in range(len(col)):\n",
    "            indicator_list.append(1)\n",
    "            \n",
    "    rank_l = []\n",
    "    for i in range(len(indicator_list)):\n",
    "        indicator = indicator_list[i]\n",
    "        if indicator == 1:\n",
    "            \n",
    "            rank = industry_fund.iloc[:,i].rank(ascending=True)\n",
    "            rank_l.append(rank)\n",
    "        elif indicator == -1:\n",
    "            rank = industry_fund.iloc[:,i].rank(ascending=False)\n",
    "            rank_l.append(rank)\n",
    "    rank_df = pd.concat(rank_l,axis=1)  \n",
    "    s = rank_df.sum(axis=1)\n",
    "    rank_df[pro_name + 'sum'] = s\n",
    "    std = (s - s.mean()) / s.std()\n",
    "    rank_df[pro_name + 'score'] = std\n",
    "    return rank_df\n",
    "\n",
    "def stand_in_industry(industry_fund,pro_name = None):\n",
    "    '''\n",
    "    行业内标准化，用标准化的数据衡量个股地位\n",
    "    '''\n",
    "    industry_fund = outlier_processing(industry_fund)\n",
    "    mean = industry_fund.mean()\n",
    "    std = industry_fund.std()\n",
    "    ind = mean.index\n",
    "    industry_fund = industry_fund[ind]\n",
    "    stand = (industry_fund - mean) / std\n",
    "    if pro_name != None:\n",
    "        columns = industry_fund.columns\n",
    "        col = [pro_name + col for col in columns]\n",
    "        stand.columns = col\n",
    "            \n",
    "    return stand\n",
    "\n",
    "def outlier_processing(df):\n",
    "    '''\n",
    "    异常值处理\n",
    "    '''\n",
    "    if isinstance(df,pd.DataFrame):\n",
    "        df = df.fillna(0)\n",
    "        columns = df.columns\n",
    "        l = []\n",
    "        for col in columns:\n",
    "            c = df[col]\n",
    "            c[np.isinf(c)] = 0\n",
    "            l.append(c)\n",
    "        df = pd.concat(l,axis=1)\n",
    "    elif isinstance(df, pd.Series):\n",
    "        df[np.isinf(df)] = 0\n",
    "    return df\n",
    "#stand = stand_in_industry(fund) "
   ]
  },
  {
   "cell_type": "markdown",
   "metadata": {},
   "source": [
    "# 多维度财报数据分析"
   ]
  },
  {
   "cell_type": "markdown",
   "metadata": {},
   "source": [
    "1.公司规模\n",
    "\n",
    "（1）总资产在行业中排名\n",
    "\n",
    "（2）销售收入在行业中排名"
   ]
  },
  {
   "cell_type": "code",
   "execution_count": 14,
   "metadata": {},
   "outputs": [],
   "source": [
    "fund = get_stocks_fundamentals(industry_stocks,factor_list, date )              "
   ]
  },
  {
   "cell_type": "code",
   "execution_count": 15,
   "metadata": {
    "code_folding": []
   },
   "outputs": [],
   "source": [
    "scale_df = fund[scale_factors]\n",
    "scale_rank = rank_in_industry(scale_df)\n",
    "scale_stand = stand_in_industry(scale_df)"
   ]
  },
  {
   "cell_type": "markdown",
   "metadata": {},
   "source": [
    "2.竞争力\n",
    "\n",
    "毛利率、净利率、应付账款+预收账款 / 应收账款+预付账款"
   ]
  },
  {
   "cell_type": "code",
   "execution_count": 16,
   "metadata": {
    "code_folding": [
     0
    ]
   },
   "outputs": [],
   "source": [
    "comptitiveness_df = fund[comptitiveness_factors]\n",
    "#(应付账款+预收账款) / (应收账款+预付账款)\n",
    "comptitiveness_df['APARP'] = (comptitiveness_df['AP'] + comptitiveness_df['APE']) / (comptitiveness_df['AR'] + comptitiveness_df['APA'])\n",
    "comptitiveness_factors_new = comptitiveness_factors_use + ['APARP']\n",
    "comptitiveness_df = comptitiveness_df[comptitiveness_factors_new]\n",
    "comptitiveness_rank = rank_in_industry(comptitiveness_df)\n",
    "comptitiveness_stand = stand_in_industry(comptitiveness_df)"
   ]
  },
  {
   "cell_type": "markdown",
   "metadata": {},
   "source": [
    "3.运营能力\n",
    "\n",
    "营业利润率、存货周转天数、"
   ]
  },
  {
   "cell_type": "code",
   "execution_count": 17,
   "metadata": {
    "code_folding": [
     2
    ]
   },
   "outputs": [],
   "source": [
    "#计算存货周转天数\n",
    "#期初存货，即上年度末存货\n",
    "def caculate_inventories_days(industry_stocks,date):\n",
    "    inventories = get_stocks_fundamentals(industry_stocks,['INV'],date,pubdate=True)\n",
    "    #print(inventories.head())\n",
    "    quanter_date_all = inventories['pubdate'].map(get_quanter_form_pubdate)\n",
    "    stocks_trunday_l = []\n",
    "    for stock in industry_stocks:\n",
    "        quanter_date = quanter_date_all.ix[stock]\n",
    "        year = int(quanter_date[:4])\n",
    "        quanter = int(quanter_date[-1])\n",
    "        statdate_last_end = str(year-1) + 'q4'\n",
    "        \n",
    "        inventories =  get_stocks_fundamentals(stock,['INV'],quanter_date)\n",
    "        inventories_last_end = get_stocks_fundamentals(stock,['INV'],statdate_last_end)\n",
    "        inventories_mean = (inventories + inventories_last_end) / 2\n",
    "    \n",
    "        operating_revenue_l = []\n",
    "        operating_revenue_lastyear_l = []\n",
    "    \n",
    "        for i in range(1,quanter + 1):\n",
    "            statdate = str(year) + 'q' + str(i)\n",
    "            statdate_lastyear = str(year - 1) + 'q' + str(i)\n",
    "            operating_revenue = get_stocks_fundamentals(stock,['OC'],statdate)\n",
    "            operating_revenue_lastyear = get_stocks_fundamentals(stock,['OC'],statdate_lastyear)\n",
    "            operating_revenue_l.append(operating_revenue)\n",
    "            operating_revenue_lastyear_l.append(operating_revenue_lastyear)\n",
    "\n",
    "        operating_revenue_df = pd.concat(operating_revenue_l,axis=1)\n",
    "        operating_revenue_lastyear_df = pd.concat(operating_revenue_lastyear_l,axis=1)\n",
    "        operating_revenue_sum = operating_revenue_df.sum(axis=1)\n",
    "        operating_revenue_lastyear_sum = operating_revenue_lastyear_df.sum(axis=1)\n",
    "        try:\n",
    "            trun_times = operating_revenue_sum.values / inventories_mean.values\n",
    "            trun_days = round((360 / trun_times )[0][0]* quanter / 4,2) \n",
    "        except:\n",
    "            trun_days = 0 #如果前面报错，说明存货天数计算时部分数据缺失，默认周转天数为0\n",
    "            \n",
    "        stocks_trunday_l.append(trun_days)\n",
    "    res = pd.DataFrame(stocks_trunday_l,industry_stocks,columns=['trun_days'])\n",
    "    return res\n"
   ]
  },
  {
   "cell_type": "code",
   "execution_count": 18,
   "metadata": {
    "code_folding": [
     0
    ]
   },
   "outputs": [],
   "source": [
    "trun_days = caculate_inventories_days(industry_stocks,current_date)\n",
    "operating_df = fund[operating_factors]\n",
    "operating_df = pd.concat([operating_df,trun_days],axis=1)\n",
    "operating_rank = rank_in_industry(operating_df,[1,-1])\n",
    "operating_stand = stand_in_industry(operating_df)"
   ]
  },
  {
   "cell_type": "markdown",
   "metadata": {},
   "source": [
    "4.成长性\n",
    "\n",
    "净利润增长率，营业收入增长率，净资产收益率增长率"
   ]
  },
  {
   "cell_type": "code",
   "execution_count": 19,
   "metadata": {
    "code_folding": [
     0
    ]
   },
   "outputs": [],
   "source": [
    "def caculate_growth_rate(industry_stocks,date,fac_list):\n",
    "    '''\n",
    "    计算指标的同比和环比增长率\n",
    "    input:\n",
    "    industry_stocks:股票列表\n",
    "    date:时间\n",
    "    fac_list:因子列表\n",
    "    output:\n",
    "    growth_yoy, growth_hb：两个dateframe，分别为同比增长率和环比增长率\n",
    "    '''\n",
    "    inventories = get_stocks_fundamentals(industry_stocks,[],date,pubdate=True)\n",
    "    quanter_date_all = inventories['pubdate'].map(get_quanter_form_pubdate)\n",
    "    \n",
    "    stocks_now_l = []\n",
    "    stocks_ly_l = []\n",
    "    stocks_lq_l = []\n",
    "    for stock in industry_stocks:\n",
    "        quanter_date = quanter_date_all.ix[stock]\n",
    "        year = int(quanter_date[:4])\n",
    "        quanter = int(quanter_date[-1])\n",
    "        statdate_last_end = str(year-1) + quanter_date[-2:]\n",
    "        if quanter != 1:\n",
    "            last_quanter = quanter_date[:-1] + str(quanter - 1)\n",
    "        else:\n",
    "            last_quanter = str(year - 1) + 'q4'\n",
    "        \n",
    "        \n",
    "        fund_now =  get_stocks_fundamentals(stock,fac_list,quanter_date)\n",
    "        fund_last_year = get_stocks_fundamentals(stock,fac_list,statdate_last_end)\n",
    "        fund_last_quanter = get_stocks_fundamentals(stock,fac_list,last_quanter)\n",
    "        stocks_now_l.append(fund_now)\n",
    "        stocks_ly_l.append(fund_last_year)\n",
    "        stocks_lq_l.append(fund_last_quanter)\n",
    "    fund_now_df = pd.concat(stocks_now_l)\n",
    "    fund_ly_df = pd.concat(stocks_ly_l)\n",
    "    fund_lq_df = pd.concat(stocks_lq_l)\n",
    "    growth_yoy = (fund_now_df - fund_ly_df) / fund_ly_df\n",
    "    growth_hb = (fund_now_df - fund_lq_df) / fund_lq_df\n",
    "    yoy_l = []\n",
    "    for i in fac_list:\n",
    "        yoy_l.append(i + 'yoy')\n",
    "    hb_l = []\n",
    "    for i in fac_list:\n",
    "        hb_l.append(i + 'hb')  \n",
    "    growth_yoy.columns = yoy_l\n",
    "    growth_hb.columns = hb_l\n",
    "    return growth_yoy, growth_hb\n"
   ]
  },
  {
   "cell_type": "code",
   "execution_count": 20,
   "metadata": {},
   "outputs": [],
   "source": [
    "growth_yoy, growth_hb = caculate_growth_rate(industry_stocks,current_date,growth_factors_origin)\n",
    "growth_df_use = fund[growth_factors_use]\n",
    "growth_df = pd.concat([growth_df_use,growth_yoy],axis = 1)\n",
    "growth_rank = rank_in_industry(growth_df)\n",
    "growth_stand = stand_in_industry(growth_df)"
   ]
  },
  {
   "cell_type": "markdown",
   "metadata": {},
   "source": [
    "5.估值因子\n",
    "\n",
    "市盈率，市销率，每股盈利，"
   ]
  },
  {
   "cell_type": "code",
   "execution_count": 21,
   "metadata": {},
   "outputs": [],
   "source": [
    "valuation_df = fund[valuation_factors]\n",
    "valuation_rank = rank_in_industry(valuation_df)\n",
    "valuation_stand = stand_in_industry(valuation_df)"
   ]
  },
  {
   "cell_type": "code",
   "execution_count": 23,
   "metadata": {
    "code_folding": [
     0
    ]
   },
   "outputs": [],
   "source": [
    "def get_all_dimension_fund(stocks,date,fac_list=factor_list):\n",
    "    '''\n",
    "    获取多维度基本面数据\n",
    "    input:\n",
    "    stocks:list,股票列表\n",
    "    date:时间，可以是‘2020-01-19’或‘2019q3’形式\n",
    "    fac_list:默认factor_list，参数定义的总列表\n",
    "    output:\n",
    "    res:dataframe，多维度基本面数据计算后结果\n",
    "    '''\n",
    "    fund = get_stocks_fundamentals(stocks,fac_list,date)\n",
    "    scale_df = fund[scale_factors]\n",
    "    scale_rank = rank_in_industry(scale_df,pro_name='scale_')\n",
    "    scale_stand = stand_in_industry(scale_df,pro_name='std_')\n",
    "\n",
    "    comptitiveness_df = fund[comptitiveness_factors]\n",
    "    #(应付账款+预收账款) / (应收账款+预付账款)\n",
    "    comptitiveness_df['APARP'] = (comptitiveness_df['AP'] + comptitiveness_df['APE']) / (comptitiveness_df['AR'] + comptitiveness_df['APA'])\n",
    "    comptitiveness_factors_new = comptitiveness_factors_use + ['APARP']\n",
    "    comptitiveness_df = comptitiveness_df[comptitiveness_factors_new]\n",
    "    comptitiveness_rank = rank_in_industry(comptitiveness_df,pro_name='comptitiveness_')\n",
    "    comptitiveness_stand = stand_in_industry(comptitiveness_df,pro_name='std_')\n",
    "    \n",
    "    trun_days = caculate_inventories_days(stocks,date)\n",
    "    operating_df = fund[operating_factors]\n",
    "    operating_df = pd.concat([operating_df,trun_days],axis=1)\n",
    "    operating_rank = rank_in_industry(operating_df,[1,-1],pro_name='operating_')\n",
    "    operating_stand = stand_in_industry(operating_df,pro_name='std_')\n",
    "    \n",
    "    growth_yoy, growth_hb = caculate_growth_rate(stocks,date,growth_factors_origin)    \n",
    "    growth_df_use = fund[growth_factors_use]\n",
    "    growth_df = pd.concat([growth_df_use,growth_yoy],axis = 1)\n",
    "    growth_rank = rank_in_industry(growth_df,pro_name='growth_')\n",
    "    growth_stand = stand_in_industry(growth_df,pro_name='std_')\n",
    "\n",
    "    valuation_df = fund[valuation_factors]\n",
    "    valuation_rank = rank_in_industry(valuation_df,pro_name='valuation_')\n",
    "    valuation_stand = stand_in_industry(valuation_df,pro_name='std_')\n",
    "    \n",
    "    l = [scale_rank,scale_stand,comptitiveness_rank,comptitiveness_stand,operating_rank,operating_stand,growth_rank,\\\n",
    "        growth_stand,valuation_rank,valuation_stand]\n",
    "    res = pd.concat(l,axis=1)\n",
    "    return res\n"
   ]
  },
  {
   "cell_type": "markdown",
   "metadata": {},
   "source": [
    "# 获取历史数据及对应未来一期收益"
   ]
  },
  {
   "cell_type": "code",
   "execution_count": 22,
   "metadata": {},
   "outputs": [
    {
     "data": {
      "text/plain": [
       "'\\n基于历史数据寻找规律，需获取历史数据及对应的未来一段时间的收益\\n'"
      ]
     },
     "execution_count": 22,
     "metadata": {},
     "output_type": "execute_result"
    }
   ],
   "source": [
    "'''\n",
    "基于历史数据寻找规律，需获取历史数据及对应的未来一段时间的收益\n",
    "'''"
   ]
  },
  {
   "cell_type": "code",
   "execution_count": 24,
   "metadata": {
    "code_folding": [
     6,
     33,
     51
    ]
   },
   "outputs": [],
   "source": [
    "#时间轴设计\n",
    "'''\n",
    "回测时间选最近10年数据，2008-2018年，验证时间窗口选2018-2019，\n",
    "验证周期可能为一季度、半年、一年，所以验证窗口至少延后一年\n",
    "基于财报发布时间的方式更为合理\n",
    "'''\n",
    "def get_year_quater(start_date, end_date):\n",
    "    '''\n",
    "    \n",
    "    '''\n",
    "    quater = ['q1','q2','q3','q4']\n",
    "    l = []\n",
    "    start = get_quanter_form_pubdate(start_date)\n",
    "    start_year = int(start[:4])\n",
    "    start_quater = int(start[-1])\n",
    "    end = get_quanter_form_pubdate(end_date)\n",
    "    end_year = int(end[:4])\n",
    "    end_quater = int(end[-1])\n",
    "    for i in range(start_year, end_year + 1):\n",
    "        if i == start_year:\n",
    "            y = str(i)\n",
    "            for i in range(start_quater,4+1):\n",
    "                l.append(y + quater[i-1])\n",
    "        elif i == end_year:\n",
    "            y = str(i)\n",
    "            for i in range(end_quater):\n",
    "                l.append(y + quater[i])\n",
    "        else:\n",
    "            y = str(i)\n",
    "            for q in quater:\n",
    "                l.append(y+q)\n",
    "    return l\n",
    "\n",
    "def get_next_tradeday(date):\n",
    "    '''\n",
    "    获取下一交易日日期\n",
    "    '''\n",
    "    if type(date) == str:\n",
    "        date = datetime.datetime.strptime(date, '%Y-%m-%d')\n",
    "    delta = datetime.timedelta(days=10) #delta 取10天，跨过节假日\n",
    "    end_date = date + delta\n",
    "    tradedays = get_trade_days(date, end_date)\n",
    "    fristday = tradedays[0]\n",
    "    date = date.date()\n",
    "    if fristday == date:\n",
    "        next_date = tradedays[1]\n",
    "    else:\n",
    "        next_date = tradedays[0]\n",
    "    next_date = datetime.datetime.strftime(next_date, '%Y-%m-%d')\n",
    "    return next_date\n",
    "\n",
    "def get_future_data(date, n):\n",
    "    '''\n",
    "    得到未来n天后的日期\n",
    "    '''\n",
    "    if type(date) == str:\n",
    "        date = datetime.datetime.strptime(date, '%Y-%m-%d')\n",
    "    delta = datetime.timedelta(days=n) \n",
    "    end_date = date + delta\n",
    "    end_date = datetime.datetime.strftime(end_date, '%Y-%m-%d')\n",
    "    return end_date\n"
   ]
  },
  {
   "cell_type": "code",
   "execution_count": 25,
   "metadata": {
    "code_folding": [
     0
    ]
   },
   "outputs": [],
   "source": [
    "def caculate_future_profit(stocks,date,time_window):\n",
    "    '''\n",
    "    input:\n",
    "    stocks:股票列表\n",
    "    date:str or datetime 计算收益的起始时间\n",
    "    time_window:int or list 计算收益的时间窗口\n",
    "    eg:date=2019-12-12,time_window=100,则计算从date开始100天后的收益值\n",
    "    '''\n",
    "    start_date = datetime.datetime.strptime(date,'%Y-%m-%d')\n",
    "    start_price = get_price(stocks,end_date=start_date,count=1,fields=['close'])['close']\n",
    "    if isinstance(time_window,int):\n",
    "        end_date = start_date + datetime.timedelta(time_window)\n",
    "        end_price = get_price(stocks,end_date=end_date,count=1,fields=['close'])['close']\n",
    "        end_price.index = start_price.index\n",
    "        profit = (end_price - start_price) / start_price\n",
    "        if isinstance(profit,pd.DataFrame):\n",
    "            profit = pd.DataFrame(profit.values.T,index=profit.columns,columns=profit.index)\n",
    "    else:\n",
    "        profit_l = []\n",
    "        for tw in time_window:\n",
    "            end_date = start_date + datetime.timedelta(tw)\n",
    "            end_price = get_price(stocks,end_date=end_date,count=1,fields=['close'])['close']\n",
    "            end_price.index = start_price.index\n",
    "            profit = (end_price - start_price) / start_price\n",
    "            if isinstance(profit,pd.DataFrame):\n",
    "                profit = pd.DataFrame(profit.values.T,index=profit.columns,columns=profit.index)\n",
    "            profit_l.append(profit)\n",
    "        profit = pd.concat(profit_l,axis =1)\n",
    "        profit.columns = time_window\n",
    "    return profit    "
   ]
  },
  {
   "cell_type": "code",
   "execution_count": 26,
   "metadata": {
    "code_folding": [
     0
    ]
   },
   "outputs": [],
   "source": [
    "def get_history_fund_and_profit(industry_stocks,date,factor_list,time_window=90):\n",
    "    '''\n",
    "    获取横截面数据和对应未来一段时期的收益值\n",
    "    '''\n",
    "    if date[4] == 'q':\n",
    "        industry_date = get_date_from_quanter(date) #此时间用于获取当日上市股票用\n",
    "    else:\n",
    "        industry_date = date\n",
    "    #industry_stocks = get_industry_stocks(industry_code,industry_date)   \n",
    "    f = get_stocks_fundamentals(industry_stocks,['PE'],date,pubdate=True)\n",
    "    pubdate = f['pubdate']\n",
    "    pubdate_stocks = list(pubdate.index)\n",
    "    #由于存在时间差，股票数可能不同，取交集\n",
    "    industry_stocks = list(set(industry_stocks) & set(pubdate_stocks))\n",
    "    if len(industry_stocks) == 0:\n",
    "        return None\n",
    "    profit_l = []\n",
    "    for stock in industry_stocks:\n",
    "        pubdate_stock = pubdate.ix[stock]\n",
    "        pubdate_next_day = get_next_tradeday(pubdate_stock) #从财报发布的第二天收盘价开始计算收益\n",
    "        profit = caculate_future_profit(stock,pubdate_next_day,time_window)\n",
    "        profit_l.append(profit)\n",
    "    profit_df = pd.concat(profit_l)\n",
    "    profit_df.index = industry_stocks\n",
    "    profit_df.name = 'profit'\n",
    "    fund = get_all_dimension_fund(industry_stocks,date,fac_list=factor_list) #此函数中含有默认参数factor_list\n",
    "    res = pd.concat([fund,profit_df],axis=1)\n",
    "    return res"
   ]
  },
  {
   "cell_type": "code",
   "execution_count": 27,
   "metadata": {
    "code_folding": []
   },
   "outputs": [],
   "source": [
    "'''\n",
    "注意：获取行业代码时用当前时间，但在过去部分行业可能并未出现，对于部分行业历史数据将不完整\n",
    "'''\n",
    "def get_industry_quanter_fund_profit_data(industry_rule,factor_list,time_window):\n",
    "    \n",
    "    industries = get_industries(industry_rule)\n",
    "    industry_code_list = list(industries.index)\n",
    "    quanter_list = get_year_quater(start_date,end_date)\n",
    "    industry_name = industries['name'].values\n",
    "\n",
    "    industry_dic = {}\n",
    "    for industry_code in industry_code_list:\n",
    "        industry_stocks = get_industry_stocks(industry_code)\n",
    "        res_dic = {}\n",
    "        for quanter_date in quanter_list:\n",
    "            quanter_fund_profit = get_history_fund_and_profit(industry_stocks,quanter_date,factor_list,TIME_WINDOW)\n",
    "            res_dic[quanter_date] = quanter_fund_profit\n",
    "        industry_dic[industry_code] = res_dic\n",
    "        with open('traditional_data_'+str(industry_code)+'.pkl','wb') as pk:\n",
    "            pickle.dump(res_dic,pk)\n",
    "    return industry_dic\n",
    "#all_data = get_industry_quanter_fund_profit_data(INDUSTRY_RULE,factor_list,TIME_WINDOW)"
   ]
  },
  {
   "cell_type": "code",
   "execution_count": 28,
   "metadata": {
    "code_folding": []
   },
   "outputs": [],
   "source": [
    "\n",
    "with open('traditional_data.pkl','wb') as pk:\n",
    "    pickle.dump(all_data,pk)\n",
    "\n",
    "with open('traditional_data.pkl','rb') as pk:\n",
    "    res_dic = pickle.load(pk)"
   ]
  },
  {
   "cell_type": "code",
   "execution_count": 29,
   "metadata": {
    "code_folding": []
   },
   "outputs": [
    {
     "data": {
      "text/html": [
       "<div>\n",
       "\n",
       "    .dataframe tbody tr th:only-of-type {\n",
       "        vertical-align: middle;\n",
       "    }\n",
       "\n",
       "    .dataframe tbody tr th {\n",
       "        vertical-align: top;\n",
       "    }\n",
       "\n",
       "    .dataframe thead th {\n",
       "        text-align: right;\n",
       "    }\n",
       "\n",
       "<table border=\"1\" class=\"dataframe\">\n",
       "  <thead>\n",
       "    <tr style=\"text-align: right;\">\n",
       "      <th></th>\n",
       "      <th>scale_score</th>\n",
       "      <th>comptitiveness_score</th>\n",
       "      <th>operating_score</th>\n",
       "      <th>growth_score</th>\n",
       "      <th>valuation_score</th>\n",
       "    </tr>\n",
       "  </thead>\n",
       "  <tbody>\n",
       "    <tr>\n",
       "      <th>000519.XSHE</th>\n",
       "      <td>-1.003098</td>\n",
       "      <td>-0.902231</td>\n",
       "      <td>-1.364104</td>\n",
       "      <td>-1.026516</td>\n",
       "      <td>-0.836770</td>\n",
       "    </tr>\n",
       "    <tr>\n",
       "      <th>000547.XSHE</th>\n",
       "      <td>-0.689630</td>\n",
       "      <td>0.738189</td>\n",
       "      <td>0.533780</td>\n",
       "      <td>1.026516</td>\n",
       "      <td>1.101013</td>\n",
       "    </tr>\n",
       "    <tr>\n",
       "      <th>000561.XSHE</th>\n",
       "      <td>-1.285220</td>\n",
       "      <td>-2.214568</td>\n",
       "      <td>-2.135119</td>\n",
       "      <td>-1.094950</td>\n",
       "      <td>-0.440405</td>\n",
       "    </tr>\n",
       "    <tr>\n",
       "      <th>000687.XSHE</th>\n",
       "      <td>0.062694</td>\n",
       "      <td>-1.558400</td>\n",
       "      <td>-0.355853</td>\n",
       "      <td>-0.171086</td>\n",
       "      <td>-1.189094</td>\n",
       "    </tr>\n",
       "    <tr>\n",
       "      <th>000697.XSHE</th>\n",
       "      <td>-1.003098</td>\n",
       "      <td>-1.066273</td>\n",
       "      <td>-0.177927</td>\n",
       "      <td>-0.992298</td>\n",
       "      <td>-0.704648</td>\n",
       "    </tr>\n",
       "  </tbody>\n",
       "</table>\n",
       "</div>"
      ],
      "text/plain": [
       "             scale_score       ...         valuation_score\n",
       "000519.XSHE    -1.003098       ...               -0.836770\n",
       "000547.XSHE    -0.689630       ...                1.101013\n",
       "000561.XSHE    -1.285220       ...               -0.440405\n",
       "000687.XSHE     0.062694       ...               -1.189094\n",
       "000697.XSHE    -1.003098       ...               -0.704648\n",
       "\n",
       "[5 rows x 5 columns]"
      ]
     },
     "execution_count": 29,
     "metadata": {},
     "output_type": "execute_result"
    }
   ],
   "source": [
    "len(res_dic)\n",
    "keys = list(res_dic.keys())\n",
    "key_industry_code =  keys[0]\n",
    "industry_fund = res_dic[key_industry_code]\n",
    "key_quanter = list(industry_fund.keys())\n",
    "quanter_s = key_quanter[0]\n",
    "test_fund_select = industry_fund[quanter_s]\n",
    "select_factor = ['scale_score','comptitiveness_score','operating_score','growth_score','valuation_score']\n",
    "test_fund_select = test_fund_select[select_factor]\n",
    "test_fund_select.head()"
   ]
  },
  {
   "cell_type": "code",
   "execution_count": 86,
   "metadata": {},
   "outputs": [
    {
     "data": {
      "image/png": "[encoded data removed]",
      "text/plain": [
       "<Figure size 432x288 with 1 Axes>"
      ]
     },
     "metadata": {},
     "output_type": "display_data"
    }
   ],
   "source": [
    "def draw_radar(labels,sample):\n",
    "    nAttr=len(labels)\n",
    "    angles=np.linspace(0,2*np.pi,nAttr,endpoint=False)\n",
    "    sample=np.concatenate((sample,[sample[0]]))\n",
    "    angles=np.concatenate((angles,[angles[0]]))\n",
    "    fig=plt.figure(facecolor=\"white\")\n",
    "    plt.subplot(111,polar=True)\n",
    "    plt.plot(angles,sample,'bo-',color='g',linewidth=2)\n",
    "    plt.fill(angles,sample,facecolor='g',alpha=0.2)\n",
    "    plt.thetagrids(angles*180/np.pi,labels)\n",
    "    plt.figtext(0.52,0.95,'多因子雷达图',ha='center')\n",
    "    plt.grid(True)\n",
    "    #plt.savefig('dota_radar.JPG')\n",
    "    plt.show()\n",
    "\n",
    "sample = test_fund_select.iloc[1]\n",
    "labels=np.array(['规模','竞争力','经营能力','成长性','估值'])\n",
    "draw_radar(labels,sample)\n"
   ]
  },
  {
   "cell_type": "code",
   "execution_count": 30,
   "metadata": {
    "code_folding": []
   },
   "outputs": [],
   "source": [
    "def stocks_select_traditional(data,weights,select_num):\n",
    "    '''\n",
    "    传统方式选股，基于打分情况，乘上权重，排序后选择最大的\n",
    "    data:dataframe，index为股票代码，column为对应的打分因子，values为打分值\n",
    "    weight：list,长度必须和data.columns长度相同，对应data的每一列的权重\n",
    "    select_num：int,选股数量\n",
    "    '''\n",
    "    data_weights = (data * weights).sum(axis=1)\n",
    "    data_weights = data_weights.sort_values(ascending=False)\n",
    "    stocks = list(data_weights.index[:select_num])\n",
    "    return stocks\n",
    "weights =  [2,1,1,2,1] \n",
    "select_stocks = stocks_select_traditional(test_fund_select,weights,select_num=SELECT_STOCKS_NUM)"
   ]
  },
  {
   "cell_type": "code",
   "execution_count": 31,
   "metadata": {
    "code_folding": [
     0
    ]
   },
   "outputs": [
    {
     "data": {
      "text/plain": [
       "relative_profit_30    0.074741\n",
       "relative_profit_60    0.113957\n",
       "relative_profit_90    0.134097\n",
       "Name: 2009q4, dtype: float64"
      ]
     },
     "execution_count": 31,
     "metadata": {},
     "output_type": "execute_result"
    }
   ],
   "source": [
    "def caculate_select_stocks_profit(stocks,date,time_window,res_format='all'):\n",
    "    '''\n",
    "    计算选股收益\n",
    "    input：\n",
    "    stocks：list，选择的股票\n",
    "    date:‘2019q3'模式，选股是基于此季度基本面数据，计算收益的起点时间要基于此计算\n",
    "    time_window:计算收益的时间窗\n",
    "    '''\n",
    "    f = get_stocks_fundamentals(stocks,['PE'],date,pubdate=True)\n",
    "    pubdate = f['pubdate']\n",
    "    profit_l = []\n",
    "    profit_hs300_l = []\n",
    "    for stock in stocks:\n",
    "        pubdate_stock = pubdate.ix[stock]\n",
    "        pubdate_next_day = get_next_tradeday(pubdate_stock) #从财报发布的第二天收盘价开始计算收益\n",
    "        profit = caculate_future_profit(stock,pubdate_next_day,time_window)\n",
    "        profit_hs300 = caculate_future_profit('000300.XSHG',pubdate_next_day,time_window)\n",
    "        profit_l.append(profit)\n",
    "        profit_hs300_l.append(profit_hs300)\n",
    "    profit_df = pd.concat(profit_l)\n",
    "    profit_hs300_df = pd.concat(profit_hs300_l)\n",
    "    profit_df.index = stocks\n",
    "    profit_df.name = 'profit'\n",
    "    profit_hs300_df.index = stocks\n",
    "    if isinstance(time_window,list):\n",
    "        profit_relative = profit_df - profit_hs300_df\n",
    "        hs300_col = ['hs300_'+str(x) for x in time_window]\n",
    "        profit_hs300_df.columns = hs300_col\n",
    "        profit_relative_col = ['relative_profit_'+str(x) for x in time_window]\n",
    "        profit_relative.columns = profit_relative_col\n",
    "\n",
    "    else:\n",
    "        profit_relative = profit_df - profit_hs300_df\n",
    "        profit_hs300_df.name = 'hs300_profit'\n",
    "        profit_relative.name = 'relative_profit'\n",
    "    if res_format == 'all':\n",
    "        res = pd.concat([profit_df,profit_hs300_df,profit_relative],axis=1)\n",
    "    else:\n",
    "        res = profit_relative.mean()\n",
    "        res.name = date\n",
    "    return res\n",
    "caculate_select_stocks_profit(select_stocks,quanter_s,TIME_WINDOW,res_format='rel')"
   ]
  },
  {
   "cell_type": "code",
   "execution_count": 32,
   "metadata": {
    "code_folding": [
     3
    ]
   },
   "outputs": [],
   "source": [
    "'''\n",
    "获取不同行业在整个时间周期上的相对收益值\n",
    "'''\n",
    "def get_res_data(res_dic,weight,select_stocks_num,time_window):\n",
    "    '''\n",
    "    input:\n",
    "    res_dic:dic,key为行业代码，values为dic,key为季度，values为df，index为股票代码，column为因子值\n",
    "    weight,权重值，必须和函数里面的select_factor对应\n",
    "    select_stocks_num:选择的股票数量\n",
    "    time_window:int or list，时间窗口\n",
    "    '''\n",
    "    select_factor = ['scale_score','comptitiveness_score','operating_score','growth_score','valuation_score']\n",
    "    industry_code_keys = list(res_dic.keys())\n",
    "    industry_code_dic = {}\n",
    "    for ic_key in industry_code_keys:\n",
    "        industry_fund = res_dic[ic_key]\n",
    "        quanter_keys = list(industry_fund.keys())\n",
    "        quanter_l = []\n",
    "        for q_key in quanter_keys:\n",
    "            fund_s = industry_fund[q_key]\n",
    "            if isinstance(fund_s,pd.DataFrame):\n",
    "                fund_select = fund_s[select_factor]\n",
    "                select_stocks = stocks_select_traditional(fund_select,WEIGHT,select_num=SELECT_STOCKS_NUM)\n",
    "                profit = caculate_select_stocks_profit(select_stocks,q_key,TIME_WINDOW,res_format='rel')    \n",
    "                quanter_l.append(profit)\n",
    "            else:\n",
    "                continue\n",
    "        if len(quanter_l) != 0:\n",
    "            quanter_df = pd.concat(quanter_l,axis=1)\n",
    "            industry_code_dic[ic_key] = quanter_df\n",
    "    return industry_code_dic\n",
    "#industry_code_dic = get_res_data(res_dic,WEIGHT,SELECT_STOCKS_NUM,TIME_WINDOW)"
   ]
  },
  {
   "cell_type": "code",
   "execution_count": 33,
   "metadata": {
    "code_folding": []
   },
   "outputs": [],
   "source": [
    "\n",
    "with open('profit_res.pkl','wb') as pk:\n",
    "    pickle.dump(industry_code_dic,pk)\n",
    "\n",
    "    \n",
    "with open('profit_res.pkl','rb') as pk:\n",
    "    industry_code_dic = pickle.load(pk)"
   ]
  },
  {
   "cell_type": "code",
   "execution_count": 53,
   "metadata": {},
   "outputs": [
    {
     "data": {
      "image/png": "[encoded data removed]",
      "text/plain": [
       "<Figure size 2160x2160 with 28 Axes>"
      ]
     },
     "metadata": {
      "needs_background": "light"
     },
     "output_type": "display_data"
    }
   ],
   "source": [
    "industry_code_keys = list(industry_code_dic.keys())\n",
    "industries = get_industries(\"sw_l1\")\n",
    "industry_name = industries['name'].values\n",
    "length = len(industry_code_keys)\n",
    "hang = int(length / 4) + 1\n",
    "figure = plt.figure(figsize=(30,30))\n",
    "\n",
    "for i in range(length):\n",
    "    name = industry_name[i]\n",
    "    code = industry_code_keys[i]\n",
    "    t = industry_code_dic[code]\n",
    "    t_mean = t.mean(axis=1)\n",
    "    plt.subplot(8,4,1+i)\n",
    "    plt.bar(height=t_mean,x=['30days','60days','90days'])\n",
    "    plt.title(name)\n",
    "plt.show()"
   ]
  },
  {
   "cell_type": "code",
   "execution_count": null,
   "metadata": {},
   "outputs": [],
   "source": []
  },
  {
   "cell_type": "code",
   "execution_count": null,
   "metadata": {},
   "outputs": [],
   "source": []
  }
 ],
 "metadata": {
  "kernelspec": {
   "display_name": "Python 3",
   "language": "python",
   "name": "python3"
  },
  "language_info": {
   "codemirror_mode": {
    "name": "ipython",
    "version": 3
   },
   "file_extension": ".py",
   "mimetype": "text/x-python",
   "name": "python",
   "nbconvert_exporter": "python",
   "pygments_lexer": "ipython3",
   "version": "3.6.7"
  },
  "toc": {
   "base_numbering": 1,
   "nav_menu": {},
   "number_sections": false,
   "sideBar": true,
   "skip_h1_title": false,
   "title_cell": "MarkDown菜单",
   "title_sidebar": "Contents",
   "toc_cell": false,
   "toc_position": {},
   "toc_section_display": true,
   "toc_window_display": false
  }
 },
 "nbformat": 4,
 "nbformat_minor": 2
}
